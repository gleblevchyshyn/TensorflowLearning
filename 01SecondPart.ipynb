{
 "cells": [
  {
   "cell_type": "code",
   "execution_count": 2,
   "metadata": {
    "collapsed": true,
    "pycharm": {
     "name": "#%%\n"
    }
   },
   "outputs": [],
   "source": [
    "# Import required libraries\n",
    "import tensorflow as tf\n",
    "import numpy as np\n",
    "import pandas as pd\n",
    "import matplotlib.pyplot as plt"
   ]
  },
  {
   "cell_type": "markdown",
   "source": [
    "### A larger example"
   ],
   "metadata": {
    "collapsed": false,
    "pycharm": {
     "name": "#%% md\n"
    }
   }
  },
  {
   "cell_type": "code",
   "execution_count": 3,
   "outputs": [
    {
     "data": {
      "text/plain": "      age     sex     bmi  children smoker     region      charges\n0      19  female  27.900         0    yes  southwest  16884.92400\n1      18    male  33.770         1     no  southeast   1725.55230\n2      28    male  33.000         3     no  southeast   4449.46200\n3      33    male  22.705         0     no  northwest  21984.47061\n4      32    male  28.880         0     no  northwest   3866.85520\n...   ...     ...     ...       ...    ...        ...          ...\n1333   50    male  30.970         3     no  northwest  10600.54830\n1334   18  female  31.920         0     no  northeast   2205.98080\n1335   18  female  36.850         0     no  southeast   1629.83350\n1336   21  female  25.800         0     no  southwest   2007.94500\n1337   61  female  29.070         0    yes  northwest  29141.36030\n\n[1338 rows x 7 columns]",
      "text/html": "<div>\n<style scoped>\n    .dataframe tbody tr th:only-of-type {\n        vertical-align: middle;\n    }\n\n    .dataframe tbody tr th {\n        vertical-align: top;\n    }\n\n    .dataframe thead th {\n        text-align: right;\n    }\n</style>\n<table border=\"1\" class=\"dataframe\">\n  <thead>\n    <tr style=\"text-align: right;\">\n      <th></th>\n      <th>age</th>\n      <th>sex</th>\n      <th>bmi</th>\n      <th>children</th>\n      <th>smoker</th>\n      <th>region</th>\n      <th>charges</th>\n    </tr>\n  </thead>\n  <tbody>\n    <tr>\n      <th>0</th>\n      <td>19</td>\n      <td>female</td>\n      <td>27.900</td>\n      <td>0</td>\n      <td>yes</td>\n      <td>southwest</td>\n      <td>16884.92400</td>\n    </tr>\n    <tr>\n      <th>1</th>\n      <td>18</td>\n      <td>male</td>\n      <td>33.770</td>\n      <td>1</td>\n      <td>no</td>\n      <td>southeast</td>\n      <td>1725.55230</td>\n    </tr>\n    <tr>\n      <th>2</th>\n      <td>28</td>\n      <td>male</td>\n      <td>33.000</td>\n      <td>3</td>\n      <td>no</td>\n      <td>southeast</td>\n      <td>4449.46200</td>\n    </tr>\n    <tr>\n      <th>3</th>\n      <td>33</td>\n      <td>male</td>\n      <td>22.705</td>\n      <td>0</td>\n      <td>no</td>\n      <td>northwest</td>\n      <td>21984.47061</td>\n    </tr>\n    <tr>\n      <th>4</th>\n      <td>32</td>\n      <td>male</td>\n      <td>28.880</td>\n      <td>0</td>\n      <td>no</td>\n      <td>northwest</td>\n      <td>3866.85520</td>\n    </tr>\n    <tr>\n      <th>...</th>\n      <td>...</td>\n      <td>...</td>\n      <td>...</td>\n      <td>...</td>\n      <td>...</td>\n      <td>...</td>\n      <td>...</td>\n    </tr>\n    <tr>\n      <th>1333</th>\n      <td>50</td>\n      <td>male</td>\n      <td>30.970</td>\n      <td>3</td>\n      <td>no</td>\n      <td>northwest</td>\n      <td>10600.54830</td>\n    </tr>\n    <tr>\n      <th>1334</th>\n      <td>18</td>\n      <td>female</td>\n      <td>31.920</td>\n      <td>0</td>\n      <td>no</td>\n      <td>northeast</td>\n      <td>2205.98080</td>\n    </tr>\n    <tr>\n      <th>1335</th>\n      <td>18</td>\n      <td>female</td>\n      <td>36.850</td>\n      <td>0</td>\n      <td>no</td>\n      <td>southeast</td>\n      <td>1629.83350</td>\n    </tr>\n    <tr>\n      <th>1336</th>\n      <td>21</td>\n      <td>female</td>\n      <td>25.800</td>\n      <td>0</td>\n      <td>no</td>\n      <td>southwest</td>\n      <td>2007.94500</td>\n    </tr>\n    <tr>\n      <th>1337</th>\n      <td>61</td>\n      <td>female</td>\n      <td>29.070</td>\n      <td>0</td>\n      <td>yes</td>\n      <td>northwest</td>\n      <td>29141.36030</td>\n    </tr>\n  </tbody>\n</table>\n<p>1338 rows × 7 columns</p>\n</div>"
     },
     "execution_count": 3,
     "metadata": {},
     "output_type": "execute_result"
    }
   ],
   "source": [
    "# Read in the insurance dataset\n",
    "insurance = pd.read_csv('https://raw.githubusercontent.com/stedy/Machine-Learning-with-R-datasets/master/insurance.csv')\n",
    "insurance"
   ],
   "metadata": {
    "collapsed": false,
    "pycharm": {
     "name": "#%%\n"
    }
   }
  },
  {
   "cell_type": "code",
   "execution_count": 4,
   "outputs": [],
   "source": [],
   "metadata": {
    "collapsed": false,
    "pycharm": {
     "name": "#%%\n"
    }
   }
  },
  {
   "cell_type": "code",
   "execution_count": 6,
   "outputs": [
    {
     "data": {
      "text/plain": "   age     bmi  children      charges  sex_female  sex_male  smoker_no  \\\n0   19  27.900         0  16884.92400           1         0          0   \n1   18  33.770         1   1725.55230           0         1          1   \n2   28  33.000         3   4449.46200           0         1          1   \n3   33  22.705         0  21984.47061           0         1          1   \n4   32  28.880         0   3866.85520           0         1          1   \n\n   smoker_yes  region_northeast  region_northwest  region_southeast  \\\n0           1                 0                 0                 0   \n1           0                 0                 0                 1   \n2           0                 0                 0                 1   \n3           0                 0                 1                 0   \n4           0                 0                 1                 0   \n\n   region_southwest  \n0                 1  \n1                 0  \n2                 0  \n3                 0  \n4                 0  ",
      "text/html": "<div>\n<style scoped>\n    .dataframe tbody tr th:only-of-type {\n        vertical-align: middle;\n    }\n\n    .dataframe tbody tr th {\n        vertical-align: top;\n    }\n\n    .dataframe thead th {\n        text-align: right;\n    }\n</style>\n<table border=\"1\" class=\"dataframe\">\n  <thead>\n    <tr style=\"text-align: right;\">\n      <th></th>\n      <th>age</th>\n      <th>bmi</th>\n      <th>children</th>\n      <th>charges</th>\n      <th>sex_female</th>\n      <th>sex_male</th>\n      <th>smoker_no</th>\n      <th>smoker_yes</th>\n      <th>region_northeast</th>\n      <th>region_northwest</th>\n      <th>region_southeast</th>\n      <th>region_southwest</th>\n    </tr>\n  </thead>\n  <tbody>\n    <tr>\n      <th>0</th>\n      <td>19</td>\n      <td>27.900</td>\n      <td>0</td>\n      <td>16884.92400</td>\n      <td>1</td>\n      <td>0</td>\n      <td>0</td>\n      <td>1</td>\n      <td>0</td>\n      <td>0</td>\n      <td>0</td>\n      <td>1</td>\n    </tr>\n    <tr>\n      <th>1</th>\n      <td>18</td>\n      <td>33.770</td>\n      <td>1</td>\n      <td>1725.55230</td>\n      <td>0</td>\n      <td>1</td>\n      <td>1</td>\n      <td>0</td>\n      <td>0</td>\n      <td>0</td>\n      <td>1</td>\n      <td>0</td>\n    </tr>\n    <tr>\n      <th>2</th>\n      <td>28</td>\n      <td>33.000</td>\n      <td>3</td>\n      <td>4449.46200</td>\n      <td>0</td>\n      <td>1</td>\n      <td>1</td>\n      <td>0</td>\n      <td>0</td>\n      <td>0</td>\n      <td>1</td>\n      <td>0</td>\n    </tr>\n    <tr>\n      <th>3</th>\n      <td>33</td>\n      <td>22.705</td>\n      <td>0</td>\n      <td>21984.47061</td>\n      <td>0</td>\n      <td>1</td>\n      <td>1</td>\n      <td>0</td>\n      <td>0</td>\n      <td>1</td>\n      <td>0</td>\n      <td>0</td>\n    </tr>\n    <tr>\n      <th>4</th>\n      <td>32</td>\n      <td>28.880</td>\n      <td>0</td>\n      <td>3866.85520</td>\n      <td>0</td>\n      <td>1</td>\n      <td>1</td>\n      <td>0</td>\n      <td>0</td>\n      <td>1</td>\n      <td>0</td>\n      <td>0</td>\n    </tr>\n  </tbody>\n</table>\n</div>"
     },
     "execution_count": 6,
     "metadata": {},
     "output_type": "execute_result"
    }
   ],
   "source": [
    "# Let's try one-hot encode categorical data\n",
    "insurance_one_hot = pd.get_dummies(insurance)\n",
    "insurance_one_hot.head()"
   ],
   "metadata": {
    "collapsed": false,
    "pycharm": {
     "name": "#%%\n"
    }
   }
  },
  {
   "cell_type": "code",
   "execution_count": 9,
   "outputs": [
    {
     "data": {
      "text/plain": "      age     bmi  children  sex_female  sex_male  smoker_no  smoker_yes  \\\n0      19  27.900         0           1         0          0           1   \n1      18  33.770         1           0         1          1           0   \n2      28  33.000         3           0         1          1           0   \n3      33  22.705         0           0         1          1           0   \n4      32  28.880         0           0         1          1           0   \n...   ...     ...       ...         ...       ...        ...         ...   \n1333   50  30.970         3           0         1          1           0   \n1334   18  31.920         0           1         0          1           0   \n1335   18  36.850         0           1         0          1           0   \n1336   21  25.800         0           1         0          1           0   \n1337   61  29.070         0           1         0          0           1   \n\n      region_northeast  region_northwest  region_southeast  region_southwest  \n0                    0                 0                 0                 1  \n1                    0                 0                 1                 0  \n2                    0                 0                 1                 0  \n3                    0                 1                 0                 0  \n4                    0                 1                 0                 0  \n...                ...               ...               ...               ...  \n1333                 0                 1                 0                 0  \n1334                 1                 0                 0                 0  \n1335                 0                 0                 1                 0  \n1336                 0                 0                 0                 1  \n1337                 0                 1                 0                 0  \n\n[1338 rows x 11 columns]",
      "text/html": "<div>\n<style scoped>\n    .dataframe tbody tr th:only-of-type {\n        vertical-align: middle;\n    }\n\n    .dataframe tbody tr th {\n        vertical-align: top;\n    }\n\n    .dataframe thead th {\n        text-align: right;\n    }\n</style>\n<table border=\"1\" class=\"dataframe\">\n  <thead>\n    <tr style=\"text-align: right;\">\n      <th></th>\n      <th>age</th>\n      <th>bmi</th>\n      <th>children</th>\n      <th>sex_female</th>\n      <th>sex_male</th>\n      <th>smoker_no</th>\n      <th>smoker_yes</th>\n      <th>region_northeast</th>\n      <th>region_northwest</th>\n      <th>region_southeast</th>\n      <th>region_southwest</th>\n    </tr>\n  </thead>\n  <tbody>\n    <tr>\n      <th>0</th>\n      <td>19</td>\n      <td>27.900</td>\n      <td>0</td>\n      <td>1</td>\n      <td>0</td>\n      <td>0</td>\n      <td>1</td>\n      <td>0</td>\n      <td>0</td>\n      <td>0</td>\n      <td>1</td>\n    </tr>\n    <tr>\n      <th>1</th>\n      <td>18</td>\n      <td>33.770</td>\n      <td>1</td>\n      <td>0</td>\n      <td>1</td>\n      <td>1</td>\n      <td>0</td>\n      <td>0</td>\n      <td>0</td>\n      <td>1</td>\n      <td>0</td>\n    </tr>\n    <tr>\n      <th>2</th>\n      <td>28</td>\n      <td>33.000</td>\n      <td>3</td>\n      <td>0</td>\n      <td>1</td>\n      <td>1</td>\n      <td>0</td>\n      <td>0</td>\n      <td>0</td>\n      <td>1</td>\n      <td>0</td>\n    </tr>\n    <tr>\n      <th>3</th>\n      <td>33</td>\n      <td>22.705</td>\n      <td>0</td>\n      <td>0</td>\n      <td>1</td>\n      <td>1</td>\n      <td>0</td>\n      <td>0</td>\n      <td>1</td>\n      <td>0</td>\n      <td>0</td>\n    </tr>\n    <tr>\n      <th>4</th>\n      <td>32</td>\n      <td>28.880</td>\n      <td>0</td>\n      <td>0</td>\n      <td>1</td>\n      <td>1</td>\n      <td>0</td>\n      <td>0</td>\n      <td>1</td>\n      <td>0</td>\n      <td>0</td>\n    </tr>\n    <tr>\n      <th>...</th>\n      <td>...</td>\n      <td>...</td>\n      <td>...</td>\n      <td>...</td>\n      <td>...</td>\n      <td>...</td>\n      <td>...</td>\n      <td>...</td>\n      <td>...</td>\n      <td>...</td>\n      <td>...</td>\n    </tr>\n    <tr>\n      <th>1333</th>\n      <td>50</td>\n      <td>30.970</td>\n      <td>3</td>\n      <td>0</td>\n      <td>1</td>\n      <td>1</td>\n      <td>0</td>\n      <td>0</td>\n      <td>1</td>\n      <td>0</td>\n      <td>0</td>\n    </tr>\n    <tr>\n      <th>1334</th>\n      <td>18</td>\n      <td>31.920</td>\n      <td>0</td>\n      <td>1</td>\n      <td>0</td>\n      <td>1</td>\n      <td>0</td>\n      <td>1</td>\n      <td>0</td>\n      <td>0</td>\n      <td>0</td>\n    </tr>\n    <tr>\n      <th>1335</th>\n      <td>18</td>\n      <td>36.850</td>\n      <td>0</td>\n      <td>1</td>\n      <td>0</td>\n      <td>1</td>\n      <td>0</td>\n      <td>0</td>\n      <td>0</td>\n      <td>1</td>\n      <td>0</td>\n    </tr>\n    <tr>\n      <th>1336</th>\n      <td>21</td>\n      <td>25.800</td>\n      <td>0</td>\n      <td>1</td>\n      <td>0</td>\n      <td>1</td>\n      <td>0</td>\n      <td>0</td>\n      <td>0</td>\n      <td>0</td>\n      <td>1</td>\n    </tr>\n    <tr>\n      <th>1337</th>\n      <td>61</td>\n      <td>29.070</td>\n      <td>0</td>\n      <td>1</td>\n      <td>0</td>\n      <td>0</td>\n      <td>1</td>\n      <td>0</td>\n      <td>1</td>\n      <td>0</td>\n      <td>0</td>\n    </tr>\n  </tbody>\n</table>\n<p>1338 rows × 11 columns</p>\n</div>"
     },
     "execution_count": 9,
     "metadata": {},
     "output_type": "execute_result"
    }
   ],
   "source": [
    "# Create X and y values (features and labels)\n",
    "\n",
    "X = insurance_one_hot.drop('charges', axis=1)\n",
    "y = insurance_one_hot['charges']\n",
    "X"
   ],
   "metadata": {
    "collapsed": false,
    "pycharm": {
     "name": "#%%\n"
    }
   }
  },
  {
   "cell_type": "code",
   "execution_count": 13,
   "outputs": [
    {
     "data": {
      "text/plain": "(1338, 1070, 268)"
     },
     "execution_count": 13,
     "metadata": {},
     "output_type": "execute_result"
    }
   ],
   "source": [
    "# Create training and tests sets\n",
    "from sklearn.model_selection import train_test_split\n",
    "\n",
    "X_train, X_test, y_train, y_test = train_test_split(X, y, random_state=42, test_size=0.2)\n",
    "len(X), len(X_train), len(X_test)"
   ],
   "metadata": {
    "collapsed": false,
    "pycharm": {
     "name": "#%%\n"
    }
   }
  },
  {
   "cell_type": "markdown",
   "source": [],
   "metadata": {
    "collapsed": false,
    "pycharm": {
     "name": "#%% md\n"
    }
   }
  },
  {
   "cell_type": "code",
   "execution_count": 15,
   "outputs": [
    {
     "name": "stdout",
     "output_type": "stream",
     "text": [
      "Epoch 1/100\n",
      "34/34 [==============================] - 0s 2ms/step - loss: 8746.6045 - mae: 8746.6045\n",
      "Epoch 2/100\n",
      "34/34 [==============================] - 0s 2ms/step - loss: 7602.3638 - mae: 7602.3638\n",
      "Epoch 3/100\n",
      "34/34 [==============================] - 0s 1ms/step - loss: 7810.7188 - mae: 7810.7188\n",
      "Epoch 4/100\n",
      "34/34 [==============================] - 0s 1ms/step - loss: 7483.9883 - mae: 7483.9883\n",
      "Epoch 5/100\n",
      "34/34 [==============================] - 0s 1ms/step - loss: 7751.5737 - mae: 7751.5737\n",
      "Epoch 6/100\n",
      "34/34 [==============================] - 0s 1ms/step - loss: 7829.2666 - mae: 7829.2666\n",
      "Epoch 7/100\n",
      "34/34 [==============================] - 0s 1ms/step - loss: 7641.9697 - mae: 7641.9697\n",
      "Epoch 8/100\n",
      "34/34 [==============================] - 0s 1ms/step - loss: 7677.5708 - mae: 7677.5708\n",
      "Epoch 9/100\n",
      "34/34 [==============================] - 0s 1ms/step - loss: 7734.6157 - mae: 7734.6157\n",
      "Epoch 10/100\n",
      "34/34 [==============================] - 0s 1ms/step - loss: 7560.4453 - mae: 7560.4453\n",
      "Epoch 11/100\n",
      "34/34 [==============================] - 0s 929us/step - loss: 7687.9243 - mae: 7687.9243\n",
      "Epoch 12/100\n",
      "34/34 [==============================] - 0s 910us/step - loss: 7478.5581 - mae: 7478.5581\n",
      "Epoch 13/100\n",
      "34/34 [==============================] - 0s 986us/step - loss: 7690.5166 - mae: 7690.5166\n",
      "Epoch 14/100\n",
      "34/34 [==============================] - 0s 1ms/step - loss: 7664.3818 - mae: 7664.3818\n",
      "Epoch 15/100\n",
      "34/34 [==============================] - 0s 1ms/step - loss: 7559.8823 - mae: 7559.8823\n",
      "Epoch 16/100\n",
      "34/34 [==============================] - 0s 993us/step - loss: 7625.8286 - mae: 7625.8286\n",
      "Epoch 17/100\n",
      "34/34 [==============================] - 0s 1ms/step - loss: 7619.3735 - mae: 7619.3735\n",
      "Epoch 18/100\n",
      "34/34 [==============================] - 0s 1ms/step - loss: 7777.8306 - mae: 7777.8306\n",
      "Epoch 19/100\n",
      "34/34 [==============================] - 0s 1ms/step - loss: 7582.6162 - mae: 7582.6162\n",
      "Epoch 20/100\n",
      "34/34 [==============================] - 0s 999us/step - loss: 7655.0132 - mae: 7655.0132\n",
      "Epoch 21/100\n",
      "34/34 [==============================] - 0s 975us/step - loss: 7842.6401 - mae: 7842.6401\n",
      "Epoch 22/100\n",
      "34/34 [==============================] - 0s 1ms/step - loss: 7346.0601 - mae: 7346.0601\n",
      "Epoch 23/100\n",
      "34/34 [==============================] - 0s 997us/step - loss: 7792.2310 - mae: 7792.2310\n",
      "Epoch 24/100\n",
      "34/34 [==============================] - 0s 997us/step - loss: 7688.4497 - mae: 7688.4497\n",
      "Epoch 25/100\n",
      "34/34 [==============================] - 0s 1ms/step - loss: 7397.8428 - mae: 7397.8428\n",
      "Epoch 26/100\n",
      "34/34 [==============================] - 0s 903us/step - loss: 7706.8315 - mae: 7706.8315\n",
      "Epoch 27/100\n",
      "34/34 [==============================] - 0s 863us/step - loss: 7591.0508 - mae: 7591.0508\n",
      "Epoch 28/100\n",
      "34/34 [==============================] - 0s 1ms/step - loss: 7699.7407 - mae: 7699.7407\n",
      "Epoch 29/100\n",
      "34/34 [==============================] - 0s 1ms/step - loss: 7654.2544 - mae: 7654.2544\n",
      "Epoch 30/100\n",
      "34/34 [==============================] - 0s 1ms/step - loss: 7757.8418 - mae: 7757.8418\n",
      "Epoch 31/100\n",
      "34/34 [==============================] - 0s 959us/step - loss: 7497.3691 - mae: 7497.3691\n",
      "Epoch 32/100\n",
      "34/34 [==============================] - 0s 892us/step - loss: 7432.5488 - mae: 7432.5488\n",
      "Epoch 33/100\n",
      "34/34 [==============================] - 0s 901us/step - loss: 7472.7554 - mae: 7472.7554\n",
      "Epoch 34/100\n",
      "34/34 [==============================] - 0s 876us/step - loss: 7601.0859 - mae: 7601.0859\n",
      "Epoch 35/100\n",
      "34/34 [==============================] - 0s 918us/step - loss: 7712.5029 - mae: 7712.5029\n",
      "Epoch 36/100\n",
      "34/34 [==============================] - 0s 949us/step - loss: 7410.0381 - mae: 7410.0381\n",
      "Epoch 37/100\n",
      "34/34 [==============================] - 0s 921us/step - loss: 7418.2402 - mae: 7418.2402\n",
      "Epoch 38/100\n",
      "34/34 [==============================] - 0s 894us/step - loss: 7490.1240 - mae: 7490.1240\n",
      "Epoch 39/100\n",
      "34/34 [==============================] - 0s 899us/step - loss: 7423.4795 - mae: 7423.4795\n",
      "Epoch 40/100\n",
      "34/34 [==============================] - 0s 851us/step - loss: 7591.6768 - mae: 7591.6768\n",
      "Epoch 41/100\n",
      "34/34 [==============================] - 0s 1ms/step - loss: 7617.5127 - mae: 7617.5127\n",
      "Epoch 42/100\n",
      "34/34 [==============================] - 0s 988us/step - loss: 7534.5542 - mae: 7534.5542\n",
      "Epoch 43/100\n",
      "34/34 [==============================] - 0s 948us/step - loss: 7747.9365 - mae: 7747.9365\n",
      "Epoch 44/100\n",
      "34/34 [==============================] - 0s 926us/step - loss: 7583.8711 - mae: 7583.8711\n",
      "Epoch 45/100\n",
      "34/34 [==============================] - 0s 893us/step - loss: 7591.7559 - mae: 7591.7559\n",
      "Epoch 46/100\n",
      "34/34 [==============================] - 0s 886us/step - loss: 7492.9023 - mae: 7492.9023\n",
      "Epoch 47/100\n",
      "34/34 [==============================] - 0s 915us/step - loss: 7641.5854 - mae: 7641.5854\n",
      "Epoch 48/100\n",
      "34/34 [==============================] - 0s 897us/step - loss: 7518.4126 - mae: 7518.4126\n",
      "Epoch 49/100\n",
      "34/34 [==============================] - 0s 915us/step - loss: 7369.6255 - mae: 7369.6255\n",
      "Epoch 50/100\n",
      "34/34 [==============================] - 0s 1ms/step - loss: 7528.2158 - mae: 7528.2158\n",
      "Epoch 51/100\n",
      "34/34 [==============================] - 0s 1ms/step - loss: 7258.5708 - mae: 7258.5708\n",
      "Epoch 52/100\n",
      "34/34 [==============================] - 0s 953us/step - loss: 7370.1792 - mae: 7370.1792\n",
      "Epoch 53/100\n",
      "34/34 [==============================] - 0s 1ms/step - loss: 7529.7207 - mae: 7529.7207\n",
      "Epoch 54/100\n",
      "34/34 [==============================] - 0s 1ms/step - loss: 7241.9370 - mae: 7241.9370\n",
      "Epoch 55/100\n",
      "34/34 [==============================] - 0s 1ms/step - loss: 7840.5151 - mae: 7840.5151\n",
      "Epoch 56/100\n",
      "34/34 [==============================] - 0s 932us/step - loss: 7379.2930 - mae: 7379.2930\n",
      "Epoch 57/100\n",
      "34/34 [==============================] - 0s 1ms/step - loss: 7423.9839 - mae: 7423.9839\n",
      "Epoch 58/100\n",
      "34/34 [==============================] - 0s 1ms/step - loss: 7277.2930 - mae: 7277.2930\n",
      "Epoch 59/100\n",
      "34/34 [==============================] - 0s 923us/step - loss: 7271.7432 - mae: 7271.7432\n",
      "Epoch 60/100\n",
      "34/34 [==============================] - 0s 944us/step - loss: 7405.4058 - mae: 7405.4058\n",
      "Epoch 61/100\n",
      "34/34 [==============================] - 0s 1ms/step - loss: 7451.1953 - mae: 7451.1953\n",
      "Epoch 62/100\n",
      "34/34 [==============================] - 0s 1ms/step - loss: 7407.0107 - mae: 7407.0107\n",
      "Epoch 63/100\n",
      "34/34 [==============================] - 0s 1ms/step - loss: 7576.5200 - mae: 7576.5200\n",
      "Epoch 64/100\n",
      "34/34 [==============================] - 0s 977us/step - loss: 7310.6973 - mae: 7310.6973\n",
      "Epoch 65/100\n",
      "34/34 [==============================] - 0s 1ms/step - loss: 7484.3618 - mae: 7484.3618\n",
      "Epoch 66/100\n",
      "34/34 [==============================] - 0s 974us/step - loss: 7537.3408 - mae: 7537.3408\n",
      "Epoch 67/100\n",
      "34/34 [==============================] - 0s 1ms/step - loss: 7361.4150 - mae: 7361.4150\n",
      "Epoch 68/100\n",
      "34/34 [==============================] - 0s 992us/step - loss: 7286.4561 - mae: 7286.4561\n",
      "Epoch 69/100\n",
      "34/34 [==============================] - 0s 1ms/step - loss: 7166.7676 - mae: 7166.7676\n",
      "Epoch 70/100\n",
      "34/34 [==============================] - 0s 1ms/step - loss: 7502.8013 - mae: 7502.8013\n",
      "Epoch 71/100\n",
      "34/34 [==============================] - 0s 1ms/step - loss: 7203.4766 - mae: 7203.4766\n",
      "Epoch 72/100\n",
      "34/34 [==============================] - 0s 987us/step - loss: 7420.4951 - mae: 7420.4951\n",
      "Epoch 73/100\n",
      "34/34 [==============================] - 0s 868us/step - loss: 7696.3330 - mae: 7696.3330\n",
      "Epoch 74/100\n",
      "34/34 [==============================] - 0s 981us/step - loss: 7411.2388 - mae: 7411.2388\n",
      "Epoch 75/100\n",
      "34/34 [==============================] - 0s 916us/step - loss: 7241.7095 - mae: 7241.7095\n",
      "Epoch 76/100\n",
      "34/34 [==============================] - 0s 1ms/step - loss: 7289.2739 - mae: 7289.2739\n",
      "Epoch 77/100\n",
      "34/34 [==============================] - 0s 1ms/step - loss: 7391.3042 - mae: 7391.3042\n",
      "Epoch 78/100\n",
      "34/34 [==============================] - 0s 990us/step - loss: 7206.4868 - mae: 7206.4868\n",
      "Epoch 79/100\n",
      "34/34 [==============================] - 0s 896us/step - loss: 7257.5073 - mae: 7257.5073\n",
      "Epoch 80/100\n",
      "34/34 [==============================] - 0s 934us/step - loss: 7242.3730 - mae: 7242.3730\n",
      "Epoch 81/100\n",
      "34/34 [==============================] - 0s 1ms/step - loss: 7292.2490 - mae: 7292.2490\n",
      "Epoch 82/100\n",
      "34/34 [==============================] - 0s 1ms/step - loss: 7531.3252 - mae: 7531.3252\n",
      "Epoch 83/100\n",
      "34/34 [==============================] - 0s 2ms/step - loss: 7338.4741 - mae: 7338.4741\n",
      "Epoch 84/100\n",
      "34/34 [==============================] - 0s 990us/step - loss: 7164.5625 - mae: 7164.5625\n",
      "Epoch 85/100\n",
      "34/34 [==============================] - 0s 1ms/step - loss: 7368.1533 - mae: 7368.1533\n",
      "Epoch 86/100\n",
      "34/34 [==============================] - 0s 935us/step - loss: 7404.3413 - mae: 7404.3413\n",
      "Epoch 87/100\n",
      "34/34 [==============================] - 0s 1ms/step - loss: 7526.6812 - mae: 7526.6812\n",
      "Epoch 88/100\n",
      "34/34 [==============================] - 0s 1ms/step - loss: 7192.6699 - mae: 7192.6699\n",
      "Epoch 89/100\n",
      "34/34 [==============================] - 0s 1ms/step - loss: 7331.1035 - mae: 7331.1035\n",
      "Epoch 90/100\n",
      "34/34 [==============================] - 0s 1ms/step - loss: 7414.0947 - mae: 7414.0947\n",
      "Epoch 91/100\n",
      "34/34 [==============================] - 0s 824us/step - loss: 7416.6743 - mae: 7416.6743\n",
      "Epoch 92/100\n",
      "34/34 [==============================] - 0s 1ms/step - loss: 7643.9019 - mae: 7643.9019\n",
      "Epoch 93/100\n",
      "34/34 [==============================] - 0s 1ms/step - loss: 7096.1147 - mae: 7096.1147\n",
      "Epoch 94/100\n",
      "34/34 [==============================] - 0s 1ms/step - loss: 7352.6729 - mae: 7352.6729\n",
      "Epoch 95/100\n",
      "34/34 [==============================] - 0s 979us/step - loss: 7244.5029 - mae: 7244.5029\n",
      "Epoch 96/100\n",
      "34/34 [==============================] - 0s 1ms/step - loss: 7171.7939 - mae: 7171.7939\n",
      "Epoch 97/100\n",
      "34/34 [==============================] - 0s 1ms/step - loss: 7445.6821 - mae: 7445.6821\n",
      "Epoch 98/100\n",
      "34/34 [==============================] - 0s 1ms/step - loss: 7179.6978 - mae: 7179.6978\n",
      "Epoch 99/100\n",
      "34/34 [==============================] - 0s 1ms/step - loss: 7289.3242 - mae: 7289.3242\n",
      "Epoch 100/100\n",
      "34/34 [==============================] - 0s 1ms/step - loss: 7281.5635 - mae: 7281.5635\n"
     ]
    },
    {
     "data": {
      "text/plain": "<keras.callbacks.History at 0x7f3818285c60>"
     },
     "execution_count": 15,
     "metadata": {},
     "output_type": "execute_result"
    }
   ],
   "source": [
    "# Build a neural network (sort of like model_2 above)\n",
    "\n",
    "# 1. Create a model\n",
    "model = tf.keras.Sequential([\n",
    "    tf.keras.layers.Dense(10, input_shape=(11,)),\n",
    "    tf.keras.layers.Dense(1)\n",
    "])\n",
    "\n",
    "# 2. Compile the model\n",
    "model.compile(loss=tf.keras.losses.mae,\n",
    "              optimizer=tf.keras.optimizers.SGD(),\n",
    "              metrics=['mae'])\n",
    "\n",
    "# 3. Fit the model\n",
    "model.fit(X_train, y_train, epochs=100)"
   ],
   "metadata": {
    "collapsed": false,
    "pycharm": {
     "name": "#%%\n"
    }
   }
  },
  {
   "cell_type": "code",
   "execution_count": 16,
   "outputs": [
    {
     "name": "stdout",
     "output_type": "stream",
     "text": [
      "9/9 [==============================] - 0s 869us/step - loss: 5819.2485 - mae: 5819.2485\n"
     ]
    },
    {
     "data": {
      "text/plain": "[5819.24853515625, 5819.24853515625]"
     },
     "execution_count": 16,
     "metadata": {},
     "output_type": "execute_result"
    }
   ],
   "source": [
    "# Check the results of the insurance model  on the test data\n",
    "model.evaluate(X_test, y_test)"
   ],
   "metadata": {
    "collapsed": false,
    "pycharm": {
     "name": "#%%\n"
    }
   }
  },
  {
   "cell_type": "code",
   "execution_count": 18,
   "outputs": [
    {
     "data": {
      "text/plain": "(9575.4421, 13346.089736364485)"
     },
     "execution_count": 18,
     "metadata": {},
     "output_type": "execute_result"
    }
   ],
   "source": [
    "y_train.median(), y_train.mean()"
   ],
   "metadata": {
    "collapsed": false,
    "pycharm": {
     "name": "#%%\n"
    }
   }
  },
  {
   "cell_type": "markdown",
   "source": [
    "Right now it looks like our model isn't performing too well... let's try and improve it!\n",
    "\n",
    "To (try) improve our model, we'll run 2 experiments:\n",
    "1. Add an extra layer with more hidden units\n",
    "2. Train for longer\n",
    "3. Use different optimizer"
   ],
   "metadata": {
    "collapsed": false,
    "pycharm": {
     "name": "#%% md\n"
    }
   }
  },
  {
   "cell_type": "code",
   "execution_count": 21,
   "outputs": [
    {
     "data": {
      "text/plain": "<keras.callbacks.History at 0x7f37d158fa60>"
     },
     "execution_count": 21,
     "metadata": {},
     "output_type": "execute_result"
    }
   ],
   "source": [
    "# Set random seed\n",
    "tf.random.set_seed(42)\n",
    "\n",
    "# 1. Create the model\n",
    "insurance_model_2 = tf.keras.Sequential([\n",
    "    tf.keras.layers.Dense(100, input_shape=(11,)),\n",
    "    tf.keras.layers.Dense(10),\n",
    "    tf.keras.layers.Dense(1)\n",
    "\n",
    "])\n",
    "\n",
    "# 2. Compile the model\n",
    "insurance_model_2.compile(loss=tf.keras.losses.mae,\n",
    "                          optimizer=tf.keras.optimizers.Adam(),\n",
    "                          metrics='mae')\n",
    "\n",
    "# 3. Fit the  model\n",
    "insurance_model_2.fit(X_train, y_train, epochs=100, verbose =0)"
   ],
   "metadata": {
    "collapsed": false,
    "pycharm": {
     "name": "#%%\n"
    }
   }
  },
  {
   "cell_type": "code",
   "execution_count": 22,
   "outputs": [
    {
     "name": "stdout",
     "output_type": "stream",
     "text": [
      "9/9 [==============================] - 0s 829us/step - loss: 4817.8696 - mae: 4817.8696\n"
     ]
    },
    {
     "data": {
      "text/plain": "[4817.86962890625, 4817.86962890625]"
     },
     "execution_count": 22,
     "metadata": {},
     "output_type": "execute_result"
    }
   ],
   "source": [
    "# Evaluate the larger model\n",
    "insurance_model_2.evaluate(X_test, y_test)"
   ],
   "metadata": {
    "collapsed": false,
    "pycharm": {
     "name": "#%%\n"
    }
   }
  },
  {
   "cell_type": "code",
   "execution_count": 23,
   "outputs": [
    {
     "name": "stdout",
     "output_type": "stream",
     "text": [
      "9/9 [==============================] - 0s 1ms/step - loss: 5819.2485 - mae: 5819.2485\n"
     ]
    },
    {
     "data": {
      "text/plain": "[5819.24853515625, 5819.24853515625]"
     },
     "execution_count": 23,
     "metadata": {},
     "output_type": "execute_result"
    }
   ],
   "source": [
    "model.evaluate(X_test, y_test)"
   ],
   "metadata": {
    "collapsed": false,
    "pycharm": {
     "name": "#%%\n"
    }
   }
  },
  {
   "cell_type": "code",
   "execution_count": 24,
   "outputs": [
    {
     "name": "stdout",
     "output_type": "stream",
     "text": [
      "Epoch 1/200\n",
      "34/34 [==============================] - 0s 1ms/step - loss: 13303.9365 - mae: 13303.9365\n",
      "Epoch 2/200\n",
      "34/34 [==============================] - 0s 1ms/step - loss: 13186.9404 - mae: 13186.9404\n",
      "Epoch 3/200\n",
      "34/34 [==============================] - 0s 1ms/step - loss: 12917.8486 - mae: 12917.8486\n",
      "Epoch 4/200\n",
      "34/34 [==============================] - 0s 1ms/step - loss: 12351.7266 - mae: 12351.7266\n",
      "Epoch 5/200\n",
      "34/34 [==============================] - 0s 2ms/step - loss: 11346.0498 - mae: 11346.0498\n",
      "Epoch 6/200\n",
      "34/34 [==============================] - 0s 1ms/step - loss: 9945.2031 - mae: 9945.2031\n",
      "Epoch 7/200\n",
      "34/34 [==============================] - 0s 1ms/step - loss: 8524.9854 - mae: 8524.9854\n",
      "Epoch 8/200\n",
      "34/34 [==============================] - 0s 1ms/step - loss: 7665.4976 - mae: 7665.4976\n",
      "Epoch 9/200\n",
      "34/34 [==============================] - 0s 1ms/step - loss: 7470.3452 - mae: 7470.3452\n",
      "Epoch 10/200\n",
      "34/34 [==============================] - 0s 1ms/step - loss: 7444.0557 - mae: 7444.0557\n",
      "Epoch 11/200\n",
      "34/34 [==============================] - 0s 1ms/step - loss: 7425.7148 - mae: 7425.7148\n",
      "Epoch 12/200\n",
      "34/34 [==============================] - 0s 1ms/step - loss: 7404.8525 - mae: 7404.8525\n",
      "Epoch 13/200\n",
      "34/34 [==============================] - 0s 1ms/step - loss: 7385.3911 - mae: 7385.3911\n",
      "Epoch 14/200\n",
      "34/34 [==============================] - 0s 1ms/step - loss: 7363.9292 - mae: 7363.9292\n",
      "Epoch 15/200\n",
      "34/34 [==============================] - 0s 1ms/step - loss: 7345.7568 - mae: 7345.7568\n",
      "Epoch 16/200\n",
      "34/34 [==============================] - 0s 1ms/step - loss: 7324.4570 - mae: 7324.4570\n",
      "Epoch 17/200\n",
      "34/34 [==============================] - 0s 1ms/step - loss: 7305.4316 - mae: 7305.4316\n",
      "Epoch 18/200\n",
      "34/34 [==============================] - 0s 1ms/step - loss: 7283.1885 - mae: 7283.1885\n",
      "Epoch 19/200\n",
      "34/34 [==============================] - 0s 2ms/step - loss: 7261.8921 - mae: 7261.8921\n",
      "Epoch 20/200\n",
      "34/34 [==============================] - 0s 1ms/step - loss: 7240.2402 - mae: 7240.2402\n",
      "Epoch 21/200\n",
      "34/34 [==============================] - 0s 1ms/step - loss: 7219.9927 - mae: 7219.9927\n",
      "Epoch 22/200\n",
      "34/34 [==============================] - 0s 1ms/step - loss: 7197.7603 - mae: 7197.7603\n",
      "Epoch 23/200\n",
      "34/34 [==============================] - 0s 1ms/step - loss: 7174.2227 - mae: 7174.2227\n",
      "Epoch 24/200\n",
      "34/34 [==============================] - 0s 1ms/step - loss: 7151.0068 - mae: 7151.0068\n",
      "Epoch 25/200\n",
      "34/34 [==============================] - 0s 1ms/step - loss: 7134.8516 - mae: 7134.8516\n",
      "Epoch 26/200\n",
      "34/34 [==============================] - 0s 1ms/step - loss: 7105.3149 - mae: 7105.3149\n",
      "Epoch 27/200\n",
      "34/34 [==============================] - 0s 1ms/step - loss: 7078.3037 - mae: 7078.3037\n",
      "Epoch 28/200\n",
      "34/34 [==============================] - 0s 1ms/step - loss: 7052.1011 - mae: 7052.1011\n",
      "Epoch 29/200\n",
      "34/34 [==============================] - 0s 1ms/step - loss: 7026.4556 - mae: 7026.4556\n",
      "Epoch 30/200\n",
      "34/34 [==============================] - 0s 1ms/step - loss: 7001.1021 - mae: 7001.1021\n",
      "Epoch 31/200\n",
      "34/34 [==============================] - 0s 1ms/step - loss: 6972.3462 - mae: 6972.3462\n",
      "Epoch 32/200\n",
      "34/34 [==============================] - 0s 1ms/step - loss: 6946.7363 - mae: 6946.7363\n",
      "Epoch 33/200\n",
      "34/34 [==============================] - 0s 1ms/step - loss: 6916.7559 - mae: 6916.7559\n",
      "Epoch 34/200\n",
      "34/34 [==============================] - 0s 1ms/step - loss: 6886.9204 - mae: 6886.9204\n",
      "Epoch 35/200\n",
      "34/34 [==============================] - 0s 1ms/step - loss: 6857.3394 - mae: 6857.3394\n",
      "Epoch 36/200\n",
      "34/34 [==============================] - 0s 1ms/step - loss: 6826.1011 - mae: 6826.1011\n",
      "Epoch 37/200\n",
      "34/34 [==============================] - 0s 1ms/step - loss: 6793.5396 - mae: 6793.5396\n",
      "Epoch 38/200\n",
      "34/34 [==============================] - 0s 1ms/step - loss: 6763.4204 - mae: 6763.4204\n",
      "Epoch 39/200\n",
      "34/34 [==============================] - 0s 1ms/step - loss: 6725.5952 - mae: 6725.5952\n",
      "Epoch 40/200\n",
      "34/34 [==============================] - 0s 1ms/step - loss: 6690.3008 - mae: 6690.3008\n",
      "Epoch 41/200\n",
      "34/34 [==============================] - 0s 1ms/step - loss: 6656.6851 - mae: 6656.6851\n",
      "Epoch 42/200\n",
      "34/34 [==============================] - 0s 1ms/step - loss: 6626.3813 - mae: 6626.3813\n",
      "Epoch 43/200\n",
      "34/34 [==============================] - 0s 1ms/step - loss: 6588.4121 - mae: 6588.4121\n",
      "Epoch 44/200\n",
      "34/34 [==============================] - 0s 1ms/step - loss: 6555.5337 - mae: 6555.5337\n",
      "Epoch 45/200\n",
      "34/34 [==============================] - 0s 1ms/step - loss: 6532.4111 - mae: 6532.4111\n",
      "Epoch 46/200\n",
      "34/34 [==============================] - 0s 1ms/step - loss: 6504.5605 - mae: 6504.5605\n",
      "Epoch 47/200\n",
      "34/34 [==============================] - 0s 1ms/step - loss: 6484.9907 - mae: 6484.9907\n",
      "Epoch 48/200\n",
      "34/34 [==============================] - 0s 1ms/step - loss: 6466.9873 - mae: 6466.9873\n",
      "Epoch 49/200\n",
      "34/34 [==============================] - 0s 1ms/step - loss: 6452.0508 - mae: 6452.0508\n",
      "Epoch 50/200\n",
      "34/34 [==============================] - 0s 1ms/step - loss: 6437.5581 - mae: 6437.5581\n",
      "Epoch 51/200\n",
      "34/34 [==============================] - 0s 1ms/step - loss: 6423.6665 - mae: 6423.6665\n",
      "Epoch 52/200\n",
      "34/34 [==============================] - 0s 1ms/step - loss: 6413.2310 - mae: 6413.2310\n",
      "Epoch 53/200\n",
      "34/34 [==============================] - 0s 1ms/step - loss: 6398.2637 - mae: 6398.2637\n",
      "Epoch 54/200\n",
      "34/34 [==============================] - 0s 1ms/step - loss: 6384.8867 - mae: 6384.8867\n",
      "Epoch 55/200\n",
      "34/34 [==============================] - 0s 1ms/step - loss: 6371.6401 - mae: 6371.6401\n",
      "Epoch 56/200\n",
      "34/34 [==============================] - 0s 1ms/step - loss: 6358.2539 - mae: 6358.2539\n",
      "Epoch 57/200\n",
      "34/34 [==============================] - 0s 1ms/step - loss: 6346.4966 - mae: 6346.4966\n",
      "Epoch 58/200\n",
      "34/34 [==============================] - 0s 1ms/step - loss: 6332.5786 - mae: 6332.5786\n",
      "Epoch 59/200\n",
      "34/34 [==============================] - 0s 1ms/step - loss: 6318.4785 - mae: 6318.4785\n",
      "Epoch 60/200\n",
      "34/34 [==============================] - 0s 1ms/step - loss: 6307.8804 - mae: 6307.8804\n",
      "Epoch 61/200\n",
      "34/34 [==============================] - 0s 1ms/step - loss: 6289.9595 - mae: 6289.9595\n",
      "Epoch 62/200\n",
      "34/34 [==============================] - 0s 1ms/step - loss: 6276.6392 - mae: 6276.6392\n",
      "Epoch 63/200\n",
      "34/34 [==============================] - 0s 1ms/step - loss: 6260.4863 - mae: 6260.4863\n",
      "Epoch 64/200\n",
      "34/34 [==============================] - 0s 1ms/step - loss: 6245.9585 - mae: 6245.9585\n",
      "Epoch 65/200\n",
      "34/34 [==============================] - 0s 1ms/step - loss: 6229.2480 - mae: 6229.2480\n",
      "Epoch 66/200\n",
      "34/34 [==============================] - 0s 1ms/step - loss: 6213.3398 - mae: 6213.3398\n",
      "Epoch 67/200\n",
      "34/34 [==============================] - 0s 1ms/step - loss: 6201.3223 - mae: 6201.3223\n",
      "Epoch 68/200\n",
      "34/34 [==============================] - 0s 1ms/step - loss: 6181.0815 - mae: 6181.0815\n",
      "Epoch 69/200\n",
      "34/34 [==============================] - 0s 1ms/step - loss: 6165.3384 - mae: 6165.3384\n",
      "Epoch 70/200\n",
      "34/34 [==============================] - 0s 1ms/step - loss: 6146.2446 - mae: 6146.2446\n",
      "Epoch 71/200\n",
      "34/34 [==============================] - 0s 1ms/step - loss: 6127.3906 - mae: 6127.3906\n",
      "Epoch 72/200\n",
      "34/34 [==============================] - 0s 1ms/step - loss: 6110.8057 - mae: 6110.8057\n",
      "Epoch 73/200\n",
      "34/34 [==============================] - 0s 1ms/step - loss: 6096.0957 - mae: 6096.0957\n",
      "Epoch 74/200\n",
      "34/34 [==============================] - 0s 1ms/step - loss: 6071.6646 - mae: 6071.6646\n",
      "Epoch 75/200\n",
      "34/34 [==============================] - 0s 1ms/step - loss: 6051.9766 - mae: 6051.9766\n",
      "Epoch 76/200\n",
      "34/34 [==============================] - 0s 1ms/step - loss: 6039.9575 - mae: 6039.9575\n",
      "Epoch 77/200\n",
      "34/34 [==============================] - 0s 1ms/step - loss: 6008.7471 - mae: 6008.7471\n",
      "Epoch 78/200\n",
      "34/34 [==============================] - 0s 1ms/step - loss: 5987.9404 - mae: 5987.9404\n",
      "Epoch 79/200\n",
      "34/34 [==============================] - 0s 1ms/step - loss: 5965.6528 - mae: 5965.6528\n",
      "Epoch 80/200\n",
      "34/34 [==============================] - 0s 1ms/step - loss: 5941.3408 - mae: 5941.3408\n",
      "Epoch 81/200\n",
      "34/34 [==============================] - 0s 1ms/step - loss: 5917.7783 - mae: 5917.7783\n",
      "Epoch 82/200\n",
      "34/34 [==============================] - 0s 1ms/step - loss: 5893.5806 - mae: 5893.5806\n",
      "Epoch 83/200\n",
      "34/34 [==============================] - 0s 1ms/step - loss: 5867.8379 - mae: 5867.8379\n",
      "Epoch 84/200\n",
      "34/34 [==============================] - 0s 1ms/step - loss: 5835.5225 - mae: 5835.5225\n",
      "Epoch 85/200\n",
      "34/34 [==============================] - 0s 1ms/step - loss: 5815.0781 - mae: 5815.0781\n",
      "Epoch 86/200\n",
      "34/34 [==============================] - 0s 1ms/step - loss: 5782.0923 - mae: 5782.0923\n",
      "Epoch 87/200\n",
      "34/34 [==============================] - 0s 1ms/step - loss: 5749.9814 - mae: 5749.9814\n",
      "Epoch 88/200\n",
      "34/34 [==============================] - 0s 1ms/step - loss: 5721.2715 - mae: 5721.2715\n",
      "Epoch 89/200\n",
      "34/34 [==============================] - 0s 1ms/step - loss: 5685.1025 - mae: 5685.1025\n",
      "Epoch 90/200\n",
      "34/34 [==============================] - 0s 1ms/step - loss: 5649.0449 - mae: 5649.0449\n",
      "Epoch 91/200\n",
      "34/34 [==============================] - 0s 1ms/step - loss: 5617.8423 - mae: 5617.8423\n",
      "Epoch 92/200\n",
      "34/34 [==============================] - 0s 1ms/step - loss: 5573.4648 - mae: 5573.4648\n",
      "Epoch 93/200\n",
      "34/34 [==============================] - 0s 1ms/step - loss: 5538.0034 - mae: 5538.0034\n",
      "Epoch 94/200\n",
      "34/34 [==============================] - 0s 1ms/step - loss: 5502.8066 - mae: 5502.8066\n",
      "Epoch 95/200\n",
      "34/34 [==============================] - 0s 1ms/step - loss: 5452.8027 - mae: 5452.8027\n",
      "Epoch 96/200\n",
      "34/34 [==============================] - 0s 1ms/step - loss: 5412.6855 - mae: 5412.6855\n",
      "Epoch 97/200\n",
      "34/34 [==============================] - 0s 1ms/step - loss: 5362.5996 - mae: 5362.5996\n",
      "Epoch 98/200\n",
      "34/34 [==============================] - 0s 1ms/step - loss: 5311.4126 - mae: 5311.4126\n",
      "Epoch 99/200\n",
      "34/34 [==============================] - 0s 1ms/step - loss: 5259.4429 - mae: 5259.4429\n",
      "Epoch 100/200\n",
      "34/34 [==============================] - 0s 1ms/step - loss: 5208.3838 - mae: 5208.3838\n",
      "Epoch 101/200\n",
      "34/34 [==============================] - 0s 1ms/step - loss: 5147.1475 - mae: 5147.1475\n",
      "Epoch 102/200\n",
      "34/34 [==============================] - 0s 1ms/step - loss: 5089.9429 - mae: 5089.9429\n",
      "Epoch 103/200\n",
      "34/34 [==============================] - 0s 1ms/step - loss: 5029.4619 - mae: 5029.4619\n",
      "Epoch 104/200\n",
      "34/34 [==============================] - 0s 1ms/step - loss: 4960.2349 - mae: 4960.2349\n",
      "Epoch 105/200\n",
      "34/34 [==============================] - 0s 1ms/step - loss: 4888.4976 - mae: 4888.4976\n",
      "Epoch 106/200\n",
      "34/34 [==============================] - 0s 1ms/step - loss: 4813.6514 - mae: 4813.6514\n",
      "Epoch 107/200\n",
      "34/34 [==============================] - 0s 1ms/step - loss: 4738.2617 - mae: 4738.2617\n",
      "Epoch 108/200\n",
      "34/34 [==============================] - 0s 1ms/step - loss: 4658.4258 - mae: 4658.4258\n",
      "Epoch 109/200\n",
      "34/34 [==============================] - 0s 1ms/step - loss: 4572.9058 - mae: 4572.9058\n",
      "Epoch 110/200\n",
      "34/34 [==============================] - 0s 1ms/step - loss: 4485.0000 - mae: 4485.0000\n",
      "Epoch 111/200\n",
      "34/34 [==============================] - 0s 1ms/step - loss: 4402.4629 - mae: 4402.4629\n",
      "Epoch 112/200\n",
      "34/34 [==============================] - 0s 1ms/step - loss: 4327.1772 - mae: 4327.1772\n",
      "Epoch 113/200\n",
      "34/34 [==============================] - 0s 1ms/step - loss: 4241.8745 - mae: 4241.8745\n",
      "Epoch 114/200\n",
      "34/34 [==============================] - 0s 1ms/step - loss: 4158.1040 - mae: 4158.1040\n",
      "Epoch 115/200\n",
      "34/34 [==============================] - 0s 1ms/step - loss: 4079.7720 - mae: 4079.7720\n",
      "Epoch 116/200\n",
      "34/34 [==============================] - 0s 1ms/step - loss: 4021.2576 - mae: 4021.2576\n",
      "Epoch 117/200\n",
      "34/34 [==============================] - 0s 1ms/step - loss: 3981.3508 - mae: 3981.3508\n",
      "Epoch 118/200\n",
      "34/34 [==============================] - 0s 1ms/step - loss: 3949.8948 - mae: 3949.8948\n",
      "Epoch 119/200\n",
      "34/34 [==============================] - 0s 1ms/step - loss: 3910.1550 - mae: 3910.1550\n",
      "Epoch 120/200\n",
      "34/34 [==============================] - 0s 1ms/step - loss: 3878.9846 - mae: 3878.9846\n",
      "Epoch 121/200\n",
      "34/34 [==============================] - 0s 1ms/step - loss: 3862.5515 - mae: 3862.5515\n",
      "Epoch 122/200\n",
      "34/34 [==============================] - 0s 1ms/step - loss: 3852.7241 - mae: 3852.7241\n",
      "Epoch 123/200\n",
      "34/34 [==============================] - 0s 1ms/step - loss: 3840.2637 - mae: 3840.2637\n",
      "Epoch 124/200\n",
      "34/34 [==============================] - 0s 1ms/step - loss: 3830.7642 - mae: 3830.7642\n",
      "Epoch 125/200\n",
      "34/34 [==============================] - 0s 1ms/step - loss: 3815.2412 - mae: 3815.2412\n",
      "Epoch 126/200\n",
      "34/34 [==============================] - 0s 1ms/step - loss: 3822.9255 - mae: 3822.9255\n",
      "Epoch 127/200\n",
      "34/34 [==============================] - 0s 1ms/step - loss: 3811.2146 - mae: 3811.2146\n",
      "Epoch 128/200\n",
      "34/34 [==============================] - 0s 1ms/step - loss: 3806.2717 - mae: 3806.2717\n",
      "Epoch 129/200\n",
      "34/34 [==============================] - 0s 1ms/step - loss: 3807.9966 - mae: 3807.9966\n",
      "Epoch 130/200\n",
      "34/34 [==============================] - 0s 1ms/step - loss: 3795.4094 - mae: 3795.4094\n",
      "Epoch 131/200\n",
      "34/34 [==============================] - 0s 1ms/step - loss: 3791.0752 - mae: 3791.0752\n",
      "Epoch 132/200\n",
      "34/34 [==============================] - 0s 1ms/step - loss: 3783.5715 - mae: 3783.5715\n",
      "Epoch 133/200\n",
      "34/34 [==============================] - 0s 1ms/step - loss: 3777.6804 - mae: 3777.6804\n",
      "Epoch 134/200\n",
      "34/34 [==============================] - 0s 1ms/step - loss: 3776.3569 - mae: 3776.3569\n",
      "Epoch 135/200\n",
      "34/34 [==============================] - 0s 1ms/step - loss: 3773.9089 - mae: 3773.9089\n",
      "Epoch 136/200\n",
      "34/34 [==============================] - 0s 1ms/step - loss: 3772.1948 - mae: 3772.1948\n",
      "Epoch 137/200\n",
      "34/34 [==============================] - 0s 1ms/step - loss: 3780.6965 - mae: 3780.6965\n",
      "Epoch 138/200\n",
      "34/34 [==============================] - 0s 1ms/step - loss: 3790.6880 - mae: 3790.6880\n",
      "Epoch 139/200\n",
      "34/34 [==============================] - 0s 1ms/step - loss: 3767.7729 - mae: 3767.7729\n",
      "Epoch 140/200\n",
      "34/34 [==============================] - 0s 1ms/step - loss: 3769.6638 - mae: 3769.6638\n",
      "Epoch 141/200\n",
      "34/34 [==============================] - 0s 1ms/step - loss: 3769.3508 - mae: 3769.3508\n",
      "Epoch 142/200\n",
      "34/34 [==============================] - 0s 1ms/step - loss: 3770.0637 - mae: 3770.0637\n",
      "Epoch 143/200\n",
      "34/34 [==============================] - 0s 1ms/step - loss: 3760.2527 - mae: 3760.2527\n",
      "Epoch 144/200\n",
      "34/34 [==============================] - 0s 1ms/step - loss: 3756.0015 - mae: 3756.0015\n",
      "Epoch 145/200\n",
      "34/34 [==============================] - 0s 1ms/step - loss: 3758.0105 - mae: 3758.0105\n",
      "Epoch 146/200\n",
      "34/34 [==============================] - 0s 1ms/step - loss: 3762.5215 - mae: 3762.5215\n",
      "Epoch 147/200\n",
      "34/34 [==============================] - 0s 1ms/step - loss: 3758.0862 - mae: 3758.0862\n",
      "Epoch 148/200\n",
      "34/34 [==============================] - 0s 1ms/step - loss: 3763.2175 - mae: 3763.2175\n",
      "Epoch 149/200\n",
      "34/34 [==============================] - 0s 1ms/step - loss: 3749.1943 - mae: 3749.1943\n",
      "Epoch 150/200\n",
      "34/34 [==============================] - 0s 1ms/step - loss: 3744.3799 - mae: 3744.3799\n",
      "Epoch 151/200\n",
      "34/34 [==============================] - 0s 1ms/step - loss: 3747.4021 - mae: 3747.4021\n",
      "Epoch 152/200\n",
      "34/34 [==============================] - 0s 1ms/step - loss: 3748.6226 - mae: 3748.6226\n",
      "Epoch 153/200\n",
      "34/34 [==============================] - 0s 1ms/step - loss: 3747.9375 - mae: 3747.9375\n",
      "Epoch 154/200\n",
      "34/34 [==============================] - 0s 1ms/step - loss: 3743.1772 - mae: 3743.1772\n",
      "Epoch 155/200\n",
      "34/34 [==============================] - 0s 1ms/step - loss: 3745.2161 - mae: 3745.2161\n",
      "Epoch 156/200\n",
      "34/34 [==============================] - 0s 1ms/step - loss: 3740.7732 - mae: 3740.7732\n",
      "Epoch 157/200\n",
      "34/34 [==============================] - 0s 1ms/step - loss: 3738.6501 - mae: 3738.6501\n",
      "Epoch 158/200\n",
      "34/34 [==============================] - 0s 1ms/step - loss: 3734.6619 - mae: 3734.6619\n",
      "Epoch 159/200\n",
      "34/34 [==============================] - 0s 1ms/step - loss: 3734.0874 - mae: 3734.0874\n",
      "Epoch 160/200\n",
      "34/34 [==============================] - 0s 1ms/step - loss: 3739.2817 - mae: 3739.2817\n",
      "Epoch 161/200\n",
      "34/34 [==============================] - 0s 1ms/step - loss: 3734.3848 - mae: 3734.3848\n",
      "Epoch 162/200\n",
      "34/34 [==============================] - 0s 1ms/step - loss: 3729.3745 - mae: 3729.3745\n",
      "Epoch 163/200\n",
      "34/34 [==============================] - 0s 1ms/step - loss: 3729.2031 - mae: 3729.2031\n",
      "Epoch 164/200\n",
      "34/34 [==============================] - 0s 1ms/step - loss: 3733.3174 - mae: 3733.3174\n",
      "Epoch 165/200\n",
      "34/34 [==============================] - 0s 1ms/step - loss: 3721.4597 - mae: 3721.4597\n",
      "Epoch 166/200\n",
      "34/34 [==============================] - 0s 1ms/step - loss: 3726.3015 - mae: 3726.3015\n",
      "Epoch 167/200\n",
      "34/34 [==============================] - 0s 1ms/step - loss: 3726.4680 - mae: 3726.4680\n",
      "Epoch 168/200\n",
      "34/34 [==============================] - 0s 1ms/step - loss: 3721.7764 - mae: 3721.7764\n",
      "Epoch 169/200\n",
      "34/34 [==============================] - 0s 1ms/step - loss: 3722.1824 - mae: 3722.1824\n",
      "Epoch 170/200\n",
      "34/34 [==============================] - 0s 1ms/step - loss: 3714.5750 - mae: 3714.5750\n",
      "Epoch 171/200\n",
      "34/34 [==============================] - 0s 1ms/step - loss: 3714.0535 - mae: 3714.0535\n",
      "Epoch 172/200\n",
      "34/34 [==============================] - 0s 1ms/step - loss: 3715.3613 - mae: 3715.3613\n",
      "Epoch 173/200\n",
      "34/34 [==============================] - 0s 1ms/step - loss: 3711.5166 - mae: 3711.5166\n",
      "Epoch 174/200\n",
      "34/34 [==============================] - 0s 1ms/step - loss: 3716.5146 - mae: 3716.5146\n",
      "Epoch 175/200\n",
      "34/34 [==============================] - 0s 1ms/step - loss: 3716.7581 - mae: 3716.7581\n",
      "Epoch 176/200\n",
      "34/34 [==============================] - 0s 1ms/step - loss: 3712.1277 - mae: 3712.1277\n",
      "Epoch 177/200\n",
      "34/34 [==============================] - 0s 1ms/step - loss: 3703.9829 - mae: 3703.9829\n",
      "Epoch 178/200\n",
      "34/34 [==============================] - 0s 1ms/step - loss: 3703.6819 - mae: 3703.6819\n",
      "Epoch 179/200\n",
      "34/34 [==============================] - 0s 1ms/step - loss: 3711.9109 - mae: 3711.9109\n",
      "Epoch 180/200\n",
      "34/34 [==============================] - 0s 1ms/step - loss: 3717.1382 - mae: 3717.1382\n",
      "Epoch 181/200\n",
      "34/34 [==============================] - 0s 1ms/step - loss: 3703.6516 - mae: 3703.6516\n",
      "Epoch 182/200\n",
      "34/34 [==============================] - 0s 1ms/step - loss: 3700.4626 - mae: 3700.4626\n",
      "Epoch 183/200\n",
      "34/34 [==============================] - 0s 1ms/step - loss: 3697.9375 - mae: 3697.9375\n",
      "Epoch 184/200\n",
      "34/34 [==============================] - 0s 1ms/step - loss: 3702.6553 - mae: 3702.6553\n",
      "Epoch 185/200\n",
      "34/34 [==============================] - 0s 1ms/step - loss: 3700.1675 - mae: 3700.1675\n",
      "Epoch 186/200\n",
      "34/34 [==============================] - 0s 1ms/step - loss: 3703.4131 - mae: 3703.4131\n",
      "Epoch 187/200\n",
      "34/34 [==============================] - 0s 1ms/step - loss: 3694.4192 - mae: 3694.4192\n",
      "Epoch 188/200\n",
      "34/34 [==============================] - 0s 1ms/step - loss: 3701.8767 - mae: 3701.8767\n",
      "Epoch 189/200\n",
      "34/34 [==============================] - 0s 1ms/step - loss: 3690.8379 - mae: 3690.8379\n",
      "Epoch 190/200\n",
      "34/34 [==============================] - 0s 1ms/step - loss: 3690.3857 - mae: 3690.3857\n",
      "Epoch 191/200\n",
      "34/34 [==============================] - 0s 1ms/step - loss: 3702.9233 - mae: 3702.9233\n",
      "Epoch 192/200\n",
      "34/34 [==============================] - 0s 1ms/step - loss: 3689.9038 - mae: 3689.9038\n",
      "Epoch 193/200\n",
      "34/34 [==============================] - 0s 1ms/step - loss: 3681.1992 - mae: 3681.1992\n",
      "Epoch 194/200\n",
      "34/34 [==============================] - 0s 1ms/step - loss: 3681.6833 - mae: 3681.6833\n",
      "Epoch 195/200\n",
      "34/34 [==============================] - 0s 1ms/step - loss: 3679.6106 - mae: 3679.6106\n",
      "Epoch 196/200\n",
      "34/34 [==============================] - 0s 1ms/step - loss: 3687.1323 - mae: 3687.1323\n",
      "Epoch 197/200\n",
      "34/34 [==============================] - 0s 1ms/step - loss: 3672.9746 - mae: 3672.9746\n",
      "Epoch 198/200\n",
      "34/34 [==============================] - 0s 1ms/step - loss: 3679.3865 - mae: 3679.3865\n",
      "Epoch 199/200\n",
      "34/34 [==============================] - 0s 1ms/step - loss: 3685.8171 - mae: 3685.8171\n",
      "Epoch 200/200\n",
      "34/34 [==============================] - 0s 1ms/step - loss: 3673.5515 - mae: 3673.5515\n"
     ]
    }
   ],
   "source": [
    "# Set random seed\n",
    "tf.random.set_seed(42)\n",
    "\n",
    "# 1. Create the model\n",
    "insurance_model_3 = tf.keras.Sequential([\n",
    "    tf.keras.layers.Dense(100, input_shape=(11,)),\n",
    "    tf.keras.layers.Dense(10),\n",
    "    tf.keras.layers.Dense(1)\n",
    "])\n",
    "\n",
    "# 2. Compile the model\n",
    "insurance_model_3.compile(loss=tf.keras.losses.mae,\n",
    "                          optimizer=tf.keras.optimizers.Adam(),\n",
    "                          metrics=['mae'])\n",
    "\n",
    "# 3. Fit the model\n",
    "history = insurance_model_3.fit(X_train, y_train, epochs=200)"
   ],
   "metadata": {
    "collapsed": false,
    "pycharm": {
     "name": "#%%\n"
    }
   }
  },
  {
   "cell_type": "code",
   "execution_count": 25,
   "outputs": [
    {
     "name": "stdout",
     "output_type": "stream",
     "text": [
      "9/9 [==============================] - 0s 1ms/step - loss: 3504.4541 - mae: 3504.4541\n"
     ]
    },
    {
     "data": {
      "text/plain": "[3504.4541015625, 3504.4541015625]"
     },
     "execution_count": 25,
     "metadata": {},
     "output_type": "execute_result"
    }
   ],
   "source": [
    "insurance_model_3.evaluate(X_test, y_test)"
   ],
   "metadata": {
    "collapsed": false,
    "pycharm": {
     "name": "#%%\n"
    }
   }
  },
  {
   "cell_type": "code",
   "execution_count": 26,
   "outputs": [
    {
     "name": "stdout",
     "output_type": "stream",
     "text": [
      "9/9 [==============================] - 0s 1ms/step - loss: 4817.8696 - mae: 4817.8696\n",
      "9/9 [==============================] - 0s 2ms/step - loss: 5819.2485 - mae: 5819.2485\n"
     ]
    },
    {
     "data": {
      "text/plain": "([4817.86962890625, 4817.86962890625], [5819.24853515625, 5819.24853515625])"
     },
     "execution_count": 26,
     "metadata": {},
     "output_type": "execute_result"
    }
   ],
   "source": [
    "insurance_model_2.evaluate(X_test, y_test), model.evaluate(X_test, y_test)"
   ],
   "metadata": {
    "collapsed": false,
    "pycharm": {
     "name": "#%%\n"
    }
   }
  },
  {
   "cell_type": "code",
   "execution_count": 27,
   "outputs": [
    {
     "data": {
      "text/plain": "Text(0.5, 0, 'epochs')"
     },
     "execution_count": 27,
     "metadata": {},
     "output_type": "execute_result"
    },
    {
     "data": {
      "text/plain": "<Figure size 640x480 with 1 Axes>",
      "image/png": "[encoded data removed]"
     },
     "metadata": {},
     "output_type": "display_data"
    }
   ],
   "source": [
    "# Plot history (also known as a loss curve or a training curve)\n",
    "pd.DataFrame(history.history).plot()\n",
    "plt.ylabel('loss')\n",
    "plt.xlabel('epochs')"
   ],
   "metadata": {
    "collapsed": false,
    "pycharm": {
     "name": "#%%\n"
    }
   }
  },
  {
   "cell_type": "markdown",
   "source": [
    "### Preprocessing data (normalization and standardization)\n",
    "\n",
    "In terms of scaling values, neural networks tend to prefer normalization.\n"
   ],
   "metadata": {
    "collapsed": false,
    "pycharm": {
     "name": "#%% md\n"
    }
   }
  },
  {
   "cell_type": "code",
   "execution_count": 28,
   "outputs": [
    {
     "data": {
      "text/plain": "      age     bmi  children  sex_female  sex_male  smoker_no  smoker_yes  \\\n0      19  27.900         0           1         0          0           1   \n1      18  33.770         1           0         1          1           0   \n2      28  33.000         3           0         1          1           0   \n3      33  22.705         0           0         1          1           0   \n4      32  28.880         0           0         1          1           0   \n...   ...     ...       ...         ...       ...        ...         ...   \n1333   50  30.970         3           0         1          1           0   \n1334   18  31.920         0           1         0          1           0   \n1335   18  36.850         0           1         0          1           0   \n1336   21  25.800         0           1         0          1           0   \n1337   61  29.070         0           1         0          0           1   \n\n      region_northeast  region_northwest  region_southeast  region_southwest  \n0                    0                 0                 0                 1  \n1                    0                 0                 1                 0  \n2                    0                 0                 1                 0  \n3                    0                 1                 0                 0  \n4                    0                 1                 0                 0  \n...                ...               ...               ...               ...  \n1333                 0                 1                 0                 0  \n1334                 1                 0                 0                 0  \n1335                 0                 0                 1                 0  \n1336                 0                 0                 0                 1  \n1337                 0                 1                 0                 0  \n\n[1338 rows x 11 columns]",
      "text/html": "<div>\n<style scoped>\n    .dataframe tbody tr th:only-of-type {\n        vertical-align: middle;\n    }\n\n    .dataframe tbody tr th {\n        vertical-align: top;\n    }\n\n    .dataframe thead th {\n        text-align: right;\n    }\n</style>\n<table border=\"1\" class=\"dataframe\">\n  <thead>\n    <tr style=\"text-align: right;\">\n      <th></th>\n      <th>age</th>\n      <th>bmi</th>\n      <th>children</th>\n      <th>sex_female</th>\n      <th>sex_male</th>\n      <th>smoker_no</th>\n      <th>smoker_yes</th>\n      <th>region_northeast</th>\n      <th>region_northwest</th>\n      <th>region_southeast</th>\n      <th>region_southwest</th>\n    </tr>\n  </thead>\n  <tbody>\n    <tr>\n      <th>0</th>\n      <td>19</td>\n      <td>27.900</td>\n      <td>0</td>\n      <td>1</td>\n      <td>0</td>\n      <td>0</td>\n      <td>1</td>\n      <td>0</td>\n      <td>0</td>\n      <td>0</td>\n      <td>1</td>\n    </tr>\n    <tr>\n      <th>1</th>\n      <td>18</td>\n      <td>33.770</td>\n      <td>1</td>\n      <td>0</td>\n      <td>1</td>\n      <td>1</td>\n      <td>0</td>\n      <td>0</td>\n      <td>0</td>\n      <td>1</td>\n      <td>0</td>\n    </tr>\n    <tr>\n      <th>2</th>\n      <td>28</td>\n      <td>33.000</td>\n      <td>3</td>\n      <td>0</td>\n      <td>1</td>\n      <td>1</td>\n      <td>0</td>\n      <td>0</td>\n      <td>0</td>\n      <td>1</td>\n      <td>0</td>\n    </tr>\n    <tr>\n      <th>3</th>\n      <td>33</td>\n      <td>22.705</td>\n      <td>0</td>\n      <td>0</td>\n      <td>1</td>\n      <td>1</td>\n      <td>0</td>\n      <td>0</td>\n      <td>1</td>\n      <td>0</td>\n      <td>0</td>\n    </tr>\n    <tr>\n      <th>4</th>\n      <td>32</td>\n      <td>28.880</td>\n      <td>0</td>\n      <td>0</td>\n      <td>1</td>\n      <td>1</td>\n      <td>0</td>\n      <td>0</td>\n      <td>1</td>\n      <td>0</td>\n      <td>0</td>\n    </tr>\n    <tr>\n      <th>...</th>\n      <td>...</td>\n      <td>...</td>\n      <td>...</td>\n      <td>...</td>\n      <td>...</td>\n      <td>...</td>\n      <td>...</td>\n      <td>...</td>\n      <td>...</td>\n      <td>...</td>\n      <td>...</td>\n    </tr>\n    <tr>\n      <th>1333</th>\n      <td>50</td>\n      <td>30.970</td>\n      <td>3</td>\n      <td>0</td>\n      <td>1</td>\n      <td>1</td>\n      <td>0</td>\n      <td>0</td>\n      <td>1</td>\n      <td>0</td>\n      <td>0</td>\n    </tr>\n    <tr>\n      <th>1334</th>\n      <td>18</td>\n      <td>31.920</td>\n      <td>0</td>\n      <td>1</td>\n      <td>0</td>\n      <td>1</td>\n      <td>0</td>\n      <td>1</td>\n      <td>0</td>\n      <td>0</td>\n      <td>0</td>\n    </tr>\n    <tr>\n      <th>1335</th>\n      <td>18</td>\n      <td>36.850</td>\n      <td>0</td>\n      <td>1</td>\n      <td>0</td>\n      <td>1</td>\n      <td>0</td>\n      <td>0</td>\n      <td>0</td>\n      <td>1</td>\n      <td>0</td>\n    </tr>\n    <tr>\n      <th>1336</th>\n      <td>21</td>\n      <td>25.800</td>\n      <td>0</td>\n      <td>1</td>\n      <td>0</td>\n      <td>1</td>\n      <td>0</td>\n      <td>0</td>\n      <td>0</td>\n      <td>0</td>\n      <td>1</td>\n    </tr>\n    <tr>\n      <th>1337</th>\n      <td>61</td>\n      <td>29.070</td>\n      <td>0</td>\n      <td>1</td>\n      <td>0</td>\n      <td>0</td>\n      <td>1</td>\n      <td>0</td>\n      <td>1</td>\n      <td>0</td>\n      <td>0</td>\n    </tr>\n  </tbody>\n</table>\n<p>1338 rows × 11 columns</p>\n</div>"
     },
     "execution_count": 28,
     "metadata": {},
     "output_type": "execute_result"
    }
   ],
   "source": [
    "X"
   ],
   "metadata": {
    "collapsed": false,
    "pycharm": {
     "name": "#%%\n"
    }
   }
  },
  {
   "cell_type": "code",
   "execution_count": 29,
   "outputs": [
    {
     "data": {
      "text/plain": "<AxesSubplot:ylabel='Frequency'>"
     },
     "execution_count": 29,
     "metadata": {},
     "output_type": "execute_result"
    },
    {
     "data": {
      "text/plain": "<Figure size 640x480 with 1 Axes>",
      "image/png": "[encoded data removed]"
     },
     "metadata": {},
     "output_type": "display_data"
    }
   ],
   "source": [
    "X['age'].plot(kind='hist')"
   ],
   "metadata": {
    "collapsed": false,
    "pycharm": {
     "name": "#%%\n"
    }
   }
  },
  {
   "cell_type": "code",
   "execution_count": 30,
   "outputs": [
    {
     "data": {
      "text/plain": "<AxesSubplot:ylabel='Frequency'>"
     },
     "execution_count": 30,
     "metadata": {},
     "output_type": "execute_result"
    },
    {
     "data": {
      "text/plain": "<Figure size 640x480 with 1 Axes>",
      "image/png": "[encoded data removed]"
     },
     "metadata": {},
     "output_type": "display_data"
    }
   ],
   "source": [
    "X['bmi'].plot(kind='hist')"
   ],
   "metadata": {
    "collapsed": false,
    "pycharm": {
     "name": "#%%\n"
    }
   }
  },
  {
   "cell_type": "code",
   "execution_count": 31,
   "outputs": [
    {
     "data": {
      "text/plain": "0    574\n1    324\n2    240\n3    157\n4     25\n5     18\nName: children, dtype: int64"
     },
     "execution_count": 31,
     "metadata": {},
     "output_type": "execute_result"
    }
   ],
   "source": [
    "X['children'].value_counts()"
   ],
   "metadata": {
    "collapsed": false,
    "pycharm": {
     "name": "#%%\n"
    }
   }
  },
  {
   "cell_type": "code",
   "execution_count": null,
   "outputs": [],
   "source": [],
   "metadata": {
    "collapsed": false,
    "pycharm": {
     "name": "#%%\n"
    }
   }
  }
 ],
 "metadata": {
  "kernelspec": {
   "display_name": "Python 3",
   "language": "python",
   "name": "python3"
  },
  "language_info": {
   "codemirror_mode": {
    "name": "ipython",
    "version": 2
   },
   "file_extension": ".py",
   "mimetype": "text/x-python",
   "name": "python",
   "nbconvert_exporter": "python",
   "pygments_lexer": "ipython2",
   "version": "2.7.6"
  }
 },
 "nbformat": 4,
 "nbformat_minor": 0
}