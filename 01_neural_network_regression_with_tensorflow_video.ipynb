{
 "cells": [
  {
   "cell_type": "raw",
   "source": [
    "##%% md\n",
    "## Introduction to Regression with Neural Networks in TensorFlow\n",
    "\n",
    "There are many definitions for a regression problem but in our case, we`re going to simplify it: predicting a numerical variable based on some other combination of variables, even shorter... predicting a number."
   ],
   "metadata": {
    "collapsed": false,
    "pycharm": {
     "name": ""
    }
   }
  },
  {
   "cell_type": "code",
   "execution_count": 1,
   "outputs": [
    {
     "name": "stderr",
     "output_type": "stream",
     "text": [
      "2022-09-13 14:25:47.432706: I tensorflow/core/platform/cpu_feature_guard.cc:193] This TensorFlow binary is optimized with oneAPI Deep Neural Network Library (oneDNN) to use the following CPU instructions in performance-critical operations:  AVX2 FMA\n",
      "To enable them in other operations, rebuild TensorFlow with the appropriate compiler flags.\n",
      "2022-09-13 14:25:48.139777: W tensorflow/stream_executor/platform/default/dso_loader.cc:64] Could not load dynamic library 'libcudart.so.11.0'; dlerror: libcudart.so.11.0: cannot open shared object file: No such file or directory\n",
      "2022-09-13 14:25:48.139832: I tensorflow/stream_executor/cuda/cudart_stub.cc:29] Ignore above cudart dlerror if you do not have a GPU set up on your machine.\n",
      "2022-09-13 14:25:48.213895: E tensorflow/stream_executor/cuda/cuda_blas.cc:2981] Unable to register cuBLAS factory: Attempting to register factory for plugin cuBLAS when one has already been registered\n",
      "2022-09-13 14:25:49.907121: W tensorflow/stream_executor/platform/default/dso_loader.cc:64] Could not load dynamic library 'libnvinfer.so.7'; dlerror: libnvinfer.so.7: cannot open shared object file: No such file or directory\n",
      "2022-09-13 14:25:49.907210: W tensorflow/stream_executor/platform/default/dso_loader.cc:64] Could not load dynamic library 'libnvinfer_plugin.so.7'; dlerror: libnvinfer_plugin.so.7: cannot open shared object file: No such file or directory\n",
      "2022-09-13 14:25:49.907220: W tensorflow/compiler/tf2tensorrt/utils/py_utils.cc:38] TF-TRT Warning: Cannot dlopen some TensorRT libraries. If you would like to use Nvidia GPU with TensorRT, please make sure the missing libraries mentioned above are installed properly.\n"
     ]
    },
    {
     "name": "stdout",
     "output_type": "stream",
     "text": [
      "2.10.0\n"
     ]
    }
   ],
   "source": [
    "# Import TensorFlow\n",
    "import tensorflow as tf\n",
    "print(tf.__version__)"
   ],
   "metadata": {
    "collapsed": false,
    "pycharm": {
     "name": "#%%\n"
    }
   }
  },
  {
   "cell_type": "markdown",
   "source": [
    "## Creating some data to view it"
   ],
   "metadata": {
    "collapsed": false,
    "pycharm": {
     "name": "#%% md\n"
    }
   }
  },
  {
   "cell_type": "code",
   "execution_count": 2,
   "outputs": [
    {
     "data": {
      "text/plain": "<matplotlib.collections.PathCollection at 0x7fa807ab6020>"
     },
     "execution_count": 2,
     "metadata": {},
     "output_type": "execute_result"
    },
    {
     "data": {
      "text/plain": "<Figure size 640x480 with 1 Axes>",
      "image/png": "[encoded data removed]"
     },
     "metadata": {},
     "output_type": "display_data"
    }
   ],
   "source": [
    "import numpy as np\n",
    "import matplotlib.pyplot as plt\n",
    "\n",
    "# Create features\n",
    "X = np.array([-7.0, -4.0, -1.0, 2.0, 5.0, 8.0, 11.0, 14.0])\n",
    "\n",
    "# Create labels\n",
    "y= np.array([3.0, 6.0, 9.0, 12.0, 15.0, 18.0, 21.0, 24.0])\n",
    "\n",
    "# Visualize it\n",
    "plt.scatter(X, y)"
   ],
   "metadata": {
    "collapsed": false,
    "pycharm": {
     "name": "#%%\n"
    }
   }
  },
  {
   "cell_type": "code",
   "execution_count": 3,
   "outputs": [
    {
     "data": {
      "text/plain": "array([ True,  True,  True,  True,  True,  True,  True,  True])"
     },
     "execution_count": 3,
     "metadata": {},
     "output_type": "execute_result"
    }
   ],
   "source": [
    "y == X + 10"
   ],
   "metadata": {
    "collapsed": false,
    "pycharm": {
     "name": "#%%\n"
    }
   }
  },
  {
   "cell_type": "markdown",
   "source": [
    "## Input and output shapes"
   ],
   "metadata": {
    "collapsed": false,
    "pycharm": {
     "name": "#%% md\n"
    }
   }
  },
  {
   "cell_type": "code",
   "execution_count": 4,
   "outputs": [
    {
     "name": "stderr",
     "output_type": "stream",
     "text": [
      "2022-09-13 14:25:52.891629: I tensorflow/stream_executor/cuda/cuda_gpu_executor.cc:980] successful NUMA node read from SysFS had negative value (-1), but there must be at least one NUMA node, so returning NUMA node zero\n",
      "2022-09-13 14:25:52.892071: W tensorflow/stream_executor/platform/default/dso_loader.cc:64] Could not load dynamic library 'libcudart.so.11.0'; dlerror: libcudart.so.11.0: cannot open shared object file: No such file or directory\n",
      "2022-09-13 14:25:52.892198: W tensorflow/stream_executor/platform/default/dso_loader.cc:64] Could not load dynamic library 'libcublas.so.11'; dlerror: libcublas.so.11: cannot open shared object file: No such file or directory\n",
      "2022-09-13 14:25:52.892301: W tensorflow/stream_executor/platform/default/dso_loader.cc:64] Could not load dynamic library 'libcublasLt.so.11'; dlerror: libcublasLt.so.11: cannot open shared object file: No such file or directory\n",
      "2022-09-13 14:25:52.892404: W tensorflow/stream_executor/platform/default/dso_loader.cc:64] Could not load dynamic library 'libcufft.so.10'; dlerror: libcufft.so.10: cannot open shared object file: No such file or directory\n",
      "2022-09-13 14:25:52.892502: W tensorflow/stream_executor/platform/default/dso_loader.cc:64] Could not load dynamic library 'libcurand.so.10'; dlerror: libcurand.so.10: cannot open shared object file: No such file or directory\n",
      "2022-09-13 14:25:52.892610: W tensorflow/stream_executor/platform/default/dso_loader.cc:64] Could not load dynamic library 'libcusolver.so.11'; dlerror: libcusolver.so.11: cannot open shared object file: No such file or directory\n",
      "2022-09-13 14:25:52.892707: W tensorflow/stream_executor/platform/default/dso_loader.cc:64] Could not load dynamic library 'libcusparse.so.11'; dlerror: libcusparse.so.11: cannot open shared object file: No such file or directory\n",
      "2022-09-13 14:25:52.892809: W tensorflow/stream_executor/platform/default/dso_loader.cc:64] Could not load dynamic library 'libcudnn.so.8'; dlerror: libcudnn.so.8: cannot open shared object file: No such file or directory\n",
      "2022-09-13 14:25:52.892829: W tensorflow/core/common_runtime/gpu/gpu_device.cc:1934] Cannot dlopen some GPU libraries. Please make sure the missing libraries mentioned above are installed properly if you would like to use GPU. Follow the guide at https://www.tensorflow.org/install/gpu for how to download and setup the required libraries for your platform.\n",
      "Skipping registering GPU devices...\n",
      "2022-09-13 14:25:52.898345: I tensorflow/core/platform/cpu_feature_guard.cc:193] This TensorFlow binary is optimized with oneAPI Deep Neural Network Library (oneDNN) to use the following CPU instructions in performance-critical operations:  AVX2 FMA\n",
      "To enable them in other operations, rebuild TensorFlow with the appropriate compiler flags.\n"
     ]
    },
    {
     "data": {
      "text/plain": "(<tf.Tensor: shape=(3,), dtype=string, numpy=array([b'bedroom', b'bathroom', b'garage'], dtype=object)>,\n <tf.Tensor: shape=(1,), dtype=int32, numpy=array([939700], dtype=int32)>)"
     },
     "execution_count": 4,
     "metadata": {},
     "output_type": "execute_result"
    }
   ],
   "source": [
    "# Create a demo tensor for our housing prediction problem\n",
    "house_info = tf.constant(['bedroom', 'bathroom', 'garage'])\n",
    "house_price = tf.constant([939700])\n",
    "house_info, house_price"
   ],
   "metadata": {
    "collapsed": false,
    "pycharm": {
     "name": "#%%\n"
    }
   }
  },
  {
   "cell_type": "code",
   "execution_count": 4,
   "outputs": [],
   "source": [],
   "metadata": {
    "collapsed": false,
    "pycharm": {
     "name": "#%%\n"
    }
   }
  },
  {
   "cell_type": "code",
   "execution_count": 5,
   "outputs": [
    {
     "data": {
      "text/plain": "((8,), (8,))"
     },
     "execution_count": 5,
     "metadata": {},
     "output_type": "execute_result"
    }
   ],
   "source": [
    "input_shape = X.shape\n",
    "output_shape = y.shape\n",
    "input_shape, output_shape"
   ],
   "metadata": {
    "collapsed": false,
    "pycharm": {
     "name": "#%%\n"
    }
   }
  },
  {
   "cell_type": "code",
   "execution_count": 6,
   "outputs": [
    {
     "data": {
      "text/plain": "(<tf.Tensor: shape=(8,), dtype=float32, numpy=array([-7., -4., -1.,  2.,  5.,  8., 11., 14.], dtype=float32)>,\n <tf.Tensor: shape=(8,), dtype=float32, numpy=array([ 3.,  6.,  9., 12., 15., 18., 21., 24.], dtype=float32)>)"
     },
     "execution_count": 6,
     "metadata": {},
     "output_type": "execute_result"
    }
   ],
   "source": [
    "# Turn our NumPy arrays into tensors\n",
    "X = tf.cast(tf.constant(X), dtype=tf.float32)\n",
    "y = tf.cast(tf.constant(y), dtype=tf.float32)\n",
    "X, y"
   ],
   "metadata": {
    "collapsed": false,
    "pycharm": {
     "name": "#%%\n"
    }
   }
  },
  {
   "cell_type": "code",
   "execution_count": 7,
   "outputs": [
    {
     "data": {
      "text/plain": "(TensorShape([]), TensorShape([]))"
     },
     "execution_count": 7,
     "metadata": {},
     "output_type": "execute_result"
    }
   ],
   "source": [
    "input_shape = X[0].shape\n",
    "output_shape = y[0].shape\n",
    "input_shape, output_shape"
   ],
   "metadata": {
    "collapsed": false,
    "pycharm": {
     "name": "#%%\n"
    }
   }
  },
  {
   "cell_type": "code",
   "execution_count": 8,
   "outputs": [
    {
     "data": {
      "text/plain": "<matplotlib.collections.PathCollection at 0x7fa7fc562b60>"
     },
     "execution_count": 8,
     "metadata": {},
     "output_type": "execute_result"
    },
    {
     "data": {
      "text/plain": "<Figure size 640x480 with 1 Axes>",
      "image/png": "[encoded data removed]"
     },
     "metadata": {},
     "output_type": "display_data"
    }
   ],
   "source": [
    "plt.scatter(X, y)"
   ],
   "metadata": {
    "collapsed": false,
    "pycharm": {
     "name": "#%%\n"
    }
   }
  },
  {
   "cell_type": "markdown",
   "source": [
    "## Steps in modeling with TensorFlow\n",
    "\n",
    "1. Creating a model - define the input and output layers, as well as the hidden layers of a deep learning model.\n",
    "2. Compiling a model - define the loss function (in other words, the function which tells our model how wrong it is) and the optimizer(tells our model how to improve the patterns its leaning) and evaluating metrics(what we can use to interpret the performance of our model).\n",
    "3. Fitting a model - letting the model to find patterns between X and y(features and labels)."
   ],
   "metadata": {
    "collapsed": false,
    "pycharm": {
     "name": "#%% md\n"
    }
   }
  },
  {
   "cell_type": "code",
   "execution_count": 9,
   "outputs": [
    {
     "name": "stdout",
     "output_type": "stream",
     "text": [
      "Epoch 1/5\n",
      "1/1 [==============================] - 0s 355ms/step - loss: 14.6359 - mae: 14.6359\n",
      "Epoch 2/5\n",
      "1/1 [==============================] - 0s 5ms/step - loss: 14.5034 - mae: 14.5034\n",
      "Epoch 3/5\n",
      "1/1 [==============================] - 0s 4ms/step - loss: 14.3709 - mae: 14.3709\n",
      "Epoch 4/5\n",
      "1/1 [==============================] - 0s 6ms/step - loss: 14.2384 - mae: 14.2384\n",
      "Epoch 5/5\n",
      "1/1 [==============================] - 0s 3ms/step - loss: 14.1059 - mae: 14.1059\n"
     ]
    },
    {
     "data": {
      "text/plain": "<keras.callbacks.History at 0x7fa7fc529e40>"
     },
     "execution_count": 9,
     "metadata": {},
     "output_type": "execute_result"
    }
   ],
   "source": [
    "# Set random seed\n",
    "tf.random.set_seed(42)\n",
    "\n",
    "# 1. Create a model using the Sequential API\n",
    "model = tf.keras.Sequential([\n",
    "    tf.keras.layers.Dense(1, input_shape=(1,))])\n",
    "\n",
    "# 2. Compile the model\n",
    "model.compile(loss=tf.keras.losses.mae,  # mae is short for mean absolute error\n",
    " optimizer=tf.keras.optimizers.SGD(), # sgd is short for stochastic gradient descent\n",
    "metrics =['mae'])\n",
    "\n",
    "# 3. Fit the model\n",
    "model.fit(X, y, epochs=5)"
   ],
   "metadata": {
    "collapsed": false,
    "pycharm": {
     "name": "#%%\n"
    }
   }
  },
  {
   "cell_type": "code",
   "execution_count": 10,
   "outputs": [
    {
     "data": {
      "text/plain": "(<tf.Tensor: shape=(8,), dtype=float32, numpy=array([-7., -4., -1.,  2.,  5.,  8., 11., 14.], dtype=float32)>,\n <tf.Tensor: shape=(8,), dtype=float32, numpy=array([ 3.,  6.,  9., 12., 15., 18., 21., 24.], dtype=float32)>)"
     },
     "execution_count": 10,
     "metadata": {},
     "output_type": "execute_result"
    }
   ],
   "source": [
    "X, y"
   ],
   "metadata": {
    "collapsed": false,
    "pycharm": {
     "name": "#%%\n"
    }
   }
  },
  {
   "cell_type": "code",
   "execution_count": 11,
   "outputs": [
    {
     "name": "stdout",
     "output_type": "stream",
     "text": [
      "1/1 [==============================] - 0s 98ms/step\n"
     ]
    },
    {
     "data": {
      "text/plain": "array([[-2.4920712]], dtype=float32)"
     },
     "execution_count": 11,
     "metadata": {},
     "output_type": "execute_result"
    }
   ],
   "source": [
    "# Try and make a prediction using trained model\n",
    "model.predict([17.0])"
   ],
   "metadata": {
    "collapsed": false,
    "pycharm": {
     "name": "#%%\n"
    }
   }
  },
  {
   "cell_type": "markdown",
   "source": [
    "## Improve our model\n",
    "\n",
    "We can improve our model, by altering the steps we took to create a model.\n",
    "\n",
    "1. **Creating a model** - ere we might add more layers, increase the number of the hidden layers, change the activation function of each layer.\n",
    "2. **Compiling a model** - here we might the optimization function or perhaps, the **learning rate** of the optimization function.\n",
    "3. **Fitting a model** - here we might fit a model for more **epochs** (leave it training for longer) or on more data (give the model more examples to learn from)"
   ],
   "metadata": {
    "collapsed": false,
    "pycharm": {
     "name": "#%% md\n"
    }
   }
  },
  {
   "cell_type": "code",
   "execution_count": 12,
   "outputs": [
    {
     "name": "stdout",
     "output_type": "stream",
     "text": [
      "Epoch 1/100\n",
      "1/1 [==============================] - 0s 266ms/step - loss: 16.3800 - mae: 16.3800\n",
      "Epoch 2/100\n",
      "1/1 [==============================] - 0s 4ms/step - loss: 16.0987 - mae: 16.0987\n",
      "Epoch 3/100\n",
      "1/1 [==============================] - 0s 4ms/step - loss: 15.8175 - mae: 15.8175\n",
      "Epoch 4/100\n",
      "1/1 [==============================] - 0s 4ms/step - loss: 15.5362 - mae: 15.5362\n",
      "Epoch 5/100\n",
      "1/1 [==============================] - 0s 3ms/step - loss: 15.2550 - mae: 15.2550\n",
      "Epoch 6/100\n",
      "1/1 [==============================] - 0s 4ms/step - loss: 14.9737 - mae: 14.9737\n",
      "Epoch 7/100\n",
      "1/1 [==============================] - 0s 4ms/step - loss: 14.7725 - mae: 14.7725\n",
      "Epoch 8/100\n",
      "1/1 [==============================] - 0s 4ms/step - loss: 14.6400 - mae: 14.6400\n",
      "Epoch 9/100\n",
      "1/1 [==============================] - 0s 4ms/step - loss: 14.5075 - mae: 14.5075\n",
      "Epoch 10/100\n",
      "1/1 [==============================] - 0s 3ms/step - loss: 14.3750 - mae: 14.3750\n",
      "Epoch 11/100\n",
      "1/1 [==============================] - 0s 4ms/step - loss: 14.2425 - mae: 14.2425\n",
      "Epoch 12/100\n",
      "1/1 [==============================] - 0s 4ms/step - loss: 14.1100 - mae: 14.1100\n",
      "Epoch 13/100\n",
      "1/1 [==============================] - 0s 3ms/step - loss: 13.9775 - mae: 13.9775\n",
      "Epoch 14/100\n",
      "1/1 [==============================] - 0s 3ms/step - loss: 13.8450 - mae: 13.8450\n",
      "Epoch 15/100\n",
      "1/1 [==============================] - 0s 4ms/step - loss: 13.7125 - mae: 13.7125\n",
      "Epoch 16/100\n",
      "1/1 [==============================] - 0s 4ms/step - loss: 13.5800 - mae: 13.5800\n",
      "Epoch 17/100\n",
      "1/1 [==============================] - 0s 5ms/step - loss: 13.4475 - mae: 13.4475\n",
      "Epoch 18/100\n",
      "1/1 [==============================] - 0s 4ms/step - loss: 13.3150 - mae: 13.3150\n",
      "Epoch 19/100\n",
      "1/1 [==============================] - 0s 5ms/step - loss: 13.1825 - mae: 13.1825\n",
      "Epoch 20/100\n",
      "1/1 [==============================] - 0s 4ms/step - loss: 13.0500 - mae: 13.0500\n",
      "Epoch 21/100\n",
      "1/1 [==============================] - 0s 3ms/step - loss: 12.9175 - mae: 12.9175\n",
      "Epoch 22/100\n",
      "1/1 [==============================] - 0s 4ms/step - loss: 12.7850 - mae: 12.7850\n",
      "Epoch 23/100\n",
      "1/1 [==============================] - 0s 4ms/step - loss: 12.6525 - mae: 12.6525\n",
      "Epoch 24/100\n",
      "1/1 [==============================] - 0s 3ms/step - loss: 12.5200 - mae: 12.5200\n",
      "Epoch 25/100\n",
      "1/1 [==============================] - 0s 4ms/step - loss: 12.3875 - mae: 12.3875\n",
      "Epoch 26/100\n",
      "1/1 [==============================] - 0s 3ms/step - loss: 12.2550 - mae: 12.2550\n",
      "Epoch 27/100\n",
      "1/1 [==============================] - 0s 3ms/step - loss: 12.1225 - mae: 12.1225\n",
      "Epoch 28/100\n",
      "1/1 [==============================] - 0s 4ms/step - loss: 11.9900 - mae: 11.9900\n",
      "Epoch 29/100\n",
      "1/1 [==============================] - 0s 3ms/step - loss: 11.8575 - mae: 11.8575\n",
      "Epoch 30/100\n",
      "1/1 [==============================] - 0s 3ms/step - loss: 11.7250 - mae: 11.7250\n",
      "Epoch 31/100\n",
      "1/1 [==============================] - 0s 3ms/step - loss: 11.5925 - mae: 11.5925\n",
      "Epoch 32/100\n",
      "1/1 [==============================] - 0s 4ms/step - loss: 11.4600 - mae: 11.4600\n",
      "Epoch 33/100\n",
      "1/1 [==============================] - 0s 3ms/step - loss: 11.3275 - mae: 11.3275\n",
      "Epoch 34/100\n",
      "1/1 [==============================] - 0s 5ms/step - loss: 11.1950 - mae: 11.1950\n",
      "Epoch 35/100\n",
      "1/1 [==============================] - 0s 4ms/step - loss: 11.0625 - mae: 11.0625\n",
      "Epoch 36/100\n",
      "1/1 [==============================] - 0s 4ms/step - loss: 10.9300 - mae: 10.9300\n",
      "Epoch 37/100\n",
      "1/1 [==============================] - 0s 5ms/step - loss: 10.7975 - mae: 10.7975\n",
      "Epoch 38/100\n",
      "1/1 [==============================] - 0s 4ms/step - loss: 10.6650 - mae: 10.6650\n",
      "Epoch 39/100\n",
      "1/1 [==============================] - 0s 4ms/step - loss: 10.5325 - mae: 10.5325\n",
      "Epoch 40/100\n",
      "1/1 [==============================] - 0s 3ms/step - loss: 10.4000 - mae: 10.4000\n",
      "Epoch 41/100\n",
      "1/1 [==============================] - 0s 4ms/step - loss: 10.2675 - mae: 10.2675\n",
      "Epoch 42/100\n",
      "1/1 [==============================] - 0s 4ms/step - loss: 10.1350 - mae: 10.1350\n",
      "Epoch 43/100\n",
      "1/1 [==============================] - 0s 3ms/step - loss: 10.0025 - mae: 10.0025\n",
      "Epoch 44/100\n",
      "1/1 [==============================] - 0s 5ms/step - loss: 9.8700 - mae: 9.8700\n",
      "Epoch 45/100\n",
      "1/1 [==============================] - 0s 3ms/step - loss: 9.7375 - mae: 9.7375\n",
      "Epoch 46/100\n",
      "1/1 [==============================] - 0s 4ms/step - loss: 9.6050 - mae: 9.6050\n",
      "Epoch 47/100\n",
      "1/1 [==============================] - 0s 4ms/step - loss: 9.4725 - mae: 9.4725\n",
      "Epoch 48/100\n",
      "1/1 [==============================] - 0s 4ms/step - loss: 9.3400 - mae: 9.3400\n",
      "Epoch 49/100\n",
      "1/1 [==============================] - 0s 4ms/step - loss: 9.2075 - mae: 9.2075\n",
      "Epoch 50/100\n",
      "1/1 [==============================] - 0s 3ms/step - loss: 9.0750 - mae: 9.0750\n",
      "Epoch 51/100\n",
      "1/1 [==============================] - 0s 4ms/step - loss: 8.9425 - mae: 8.9425\n",
      "Epoch 52/100\n",
      "1/1 [==============================] - 0s 4ms/step - loss: 8.8100 - mae: 8.8100\n",
      "Epoch 53/100\n",
      "1/1 [==============================] - 0s 4ms/step - loss: 8.6775 - mae: 8.6775\n",
      "Epoch 54/100\n",
      "1/1 [==============================] - 0s 5ms/step - loss: 8.5450 - mae: 8.5450\n",
      "Epoch 55/100\n",
      "1/1 [==============================] - 0s 4ms/step - loss: 8.4125 - mae: 8.4125\n",
      "Epoch 56/100\n",
      "1/1 [==============================] - 0s 5ms/step - loss: 8.2800 - mae: 8.2800\n",
      "Epoch 57/100\n",
      "1/1 [==============================] - 0s 4ms/step - loss: 8.1475 - mae: 8.1475\n",
      "Epoch 58/100\n",
      "1/1 [==============================] - 0s 3ms/step - loss: 8.0150 - mae: 8.0150\n",
      "Epoch 59/100\n",
      "1/1 [==============================] - 0s 4ms/step - loss: 7.8825 - mae: 7.8825\n",
      "Epoch 60/100\n",
      "1/1 [==============================] - 0s 5ms/step - loss: 7.7500 - mae: 7.7500\n",
      "Epoch 61/100\n",
      "1/1 [==============================] - 0s 3ms/step - loss: 7.6175 - mae: 7.6175\n",
      "Epoch 62/100\n",
      "1/1 [==============================] - 0s 4ms/step - loss: 7.4850 - mae: 7.4850\n",
      "Epoch 63/100\n",
      "1/1 [==============================] - 0s 5ms/step - loss: 7.3525 - mae: 7.3525\n",
      "Epoch 64/100\n",
      "1/1 [==============================] - 0s 5ms/step - loss: 7.2200 - mae: 7.2200\n",
      "Epoch 65/100\n",
      "1/1 [==============================] - 0s 4ms/step - loss: 7.0875 - mae: 7.0875\n",
      "Epoch 66/100\n",
      "1/1 [==============================] - 0s 4ms/step - loss: 7.0238 - mae: 7.0238\n",
      "Epoch 67/100\n",
      "1/1 [==============================] - 0s 4ms/step - loss: 7.0181 - mae: 7.0181\n",
      "Epoch 68/100\n",
      "1/1 [==============================] - 0s 6ms/step - loss: 7.0125 - mae: 7.0125\n",
      "Epoch 69/100\n",
      "1/1 [==============================] - 0s 4ms/step - loss: 7.0069 - mae: 7.0069\n",
      "Epoch 70/100\n",
      "1/1 [==============================] - 0s 5ms/step - loss: 7.0013 - mae: 7.0013\n",
      "Epoch 71/100\n",
      "1/1 [==============================] - 0s 4ms/step - loss: 6.9956 - mae: 6.9956\n",
      "Epoch 72/100\n",
      "1/1 [==============================] - 0s 4ms/step - loss: 6.9900 - mae: 6.9900\n",
      "Epoch 73/100\n",
      "1/1 [==============================] - 0s 4ms/step - loss: 6.9844 - mae: 6.9844\n",
      "Epoch 74/100\n",
      "1/1 [==============================] - 0s 3ms/step - loss: 6.9788 - mae: 6.9788\n",
      "Epoch 75/100\n",
      "1/1 [==============================] - 0s 3ms/step - loss: 6.9731 - mae: 6.9731\n",
      "Epoch 76/100\n",
      "1/1 [==============================] - 0s 5ms/step - loss: 6.9675 - mae: 6.9675\n",
      "Epoch 77/100\n",
      "1/1 [==============================] - 0s 4ms/step - loss: 6.9619 - mae: 6.9619\n",
      "Epoch 78/100\n",
      "1/1 [==============================] - 0s 4ms/step - loss: 6.9563 - mae: 6.9563\n",
      "Epoch 79/100\n",
      "1/1 [==============================] - 0s 4ms/step - loss: 6.9506 - mae: 6.9506\n",
      "Epoch 80/100\n",
      "1/1 [==============================] - 0s 3ms/step - loss: 6.9450 - mae: 6.9450\n",
      "Epoch 81/100\n",
      "1/1 [==============================] - 0s 5ms/step - loss: 6.9394 - mae: 6.9394\n",
      "Epoch 82/100\n",
      "1/1 [==============================] - 0s 3ms/step - loss: 6.9338 - mae: 6.9338\n",
      "Epoch 83/100\n",
      "1/1 [==============================] - 0s 5ms/step - loss: 6.9281 - mae: 6.9281\n",
      "Epoch 84/100\n",
      "1/1 [==============================] - 0s 3ms/step - loss: 6.9225 - mae: 6.9225\n",
      "Epoch 85/100\n",
      "1/1 [==============================] - 0s 4ms/step - loss: 6.9169 - mae: 6.9169\n",
      "Epoch 86/100\n",
      "1/1 [==============================] - 0s 4ms/step - loss: 6.9113 - mae: 6.9113\n",
      "Epoch 87/100\n",
      "1/1 [==============================] - 0s 3ms/step - loss: 6.9056 - mae: 6.9056\n",
      "Epoch 88/100\n",
      "1/1 [==============================] - 0s 4ms/step - loss: 6.9000 - mae: 6.9000\n",
      "Epoch 89/100\n",
      "1/1 [==============================] - 0s 7ms/step - loss: 6.8944 - mae: 6.8944\n",
      "Epoch 90/100\n",
      "1/1 [==============================] - 0s 6ms/step - loss: 6.8888 - mae: 6.8888\n",
      "Epoch 91/100\n",
      "1/1 [==============================] - 0s 5ms/step - loss: 6.8831 - mae: 6.8831\n",
      "Epoch 92/100\n",
      "1/1 [==============================] - 0s 4ms/step - loss: 6.8775 - mae: 6.8775\n",
      "Epoch 93/100\n",
      "1/1 [==============================] - 0s 3ms/step - loss: 6.8719 - mae: 6.8719\n",
      "Epoch 94/100\n",
      "1/1 [==============================] - 0s 3ms/step - loss: 6.8663 - mae: 6.8663\n",
      "Epoch 95/100\n",
      "1/1 [==============================] - 0s 3ms/step - loss: 6.8606 - mae: 6.8606\n",
      "Epoch 96/100\n",
      "1/1 [==============================] - 0s 4ms/step - loss: 6.8550 - mae: 6.8550\n",
      "Epoch 97/100\n",
      "1/1 [==============================] - 0s 5ms/step - loss: 6.8494 - mae: 6.8494\n",
      "Epoch 98/100\n",
      "1/1 [==============================] - 0s 3ms/step - loss: 6.8438 - mae: 6.8438\n",
      "Epoch 99/100\n",
      "1/1 [==============================] - 0s 3ms/step - loss: 6.8381 - mae: 6.8381\n",
      "Epoch 100/100\n",
      "1/1 [==============================] - 0s 4ms/step - loss: 6.8325 - mae: 6.8325\n"
     ]
    },
    {
     "data": {
      "text/plain": "<keras.callbacks.History at 0x7fa7fc3d0d00>"
     },
     "execution_count": 12,
     "metadata": {},
     "output_type": "execute_result"
    }
   ],
   "source": [
    "# Let`s rebuild our model\n",
    "# 1. Create a model using the Sequential API\n",
    "model = tf.keras.Sequential([\n",
    "    tf.keras.layers.Dense(1, input_shape=(1,))])\n",
    "\n",
    "# 2. Compile the model\n",
    "model.compile(loss=tf.keras.losses.mae,\n",
    " optimizer=tf.keras.optimizers.SGD(),\n",
    "metrics =['mae'])\n",
    "\n",
    "# 3. Fit the model (this time we`ll train for longer)\n",
    "model.fit(X, y, epochs=100)"
   ],
   "metadata": {
    "collapsed": false,
    "pycharm": {
     "name": "#%%\n"
    }
   }
  },
  {
   "cell_type": "code",
   "execution_count": 13,
   "outputs": [
    {
     "data": {
      "text/plain": "(<tf.Tensor: shape=(8,), dtype=float32, numpy=array([-7., -4., -1.,  2.,  5.,  8., 11., 14.], dtype=float32)>,\n <tf.Tensor: shape=(8,), dtype=float32, numpy=array([ 3.,  6.,  9., 12., 15., 18., 21., 24.], dtype=float32)>)"
     },
     "execution_count": 13,
     "metadata": {},
     "output_type": "execute_result"
    }
   ],
   "source": [
    "# Remind ourselves of the data\n",
    "X, y"
   ],
   "metadata": {
    "collapsed": false,
    "pycharm": {
     "name": "#%%\n"
    }
   }
  },
  {
   "cell_type": "code",
   "execution_count": 14,
   "outputs": [
    {
     "name": "stdout",
     "output_type": "stream",
     "text": [
      "1/1 [==============================] - 0s 73ms/step\n"
     ]
    },
    {
     "data": {
      "text/plain": "array([[29.603275]], dtype=float32)"
     },
     "execution_count": 14,
     "metadata": {},
     "output_type": "execute_result"
    }
   ],
   "source": [
    "# Let`s see if our model has improved\n",
    "model.predict([17.0])"
   ],
   "metadata": {
    "collapsed": false,
    "pycharm": {
     "name": "#%%\n"
    }
   }
  },
  {
   "cell_type": "code",
   "execution_count": 15,
   "outputs": [
    {
     "name": "stdout",
     "output_type": "stream",
     "text": [
      "Epoch 1/100\n",
      "1/1 [==============================] - 0s 334ms/step - loss: 14.7202 - mae: 14.7202\n",
      "Epoch 2/100\n",
      "1/1 [==============================] - 0s 4ms/step - loss: 14.2940 - mae: 14.2940\n",
      "Epoch 3/100\n",
      "1/1 [==============================] - 0s 6ms/step - loss: 13.8745 - mae: 13.8745\n",
      "Epoch 4/100\n",
      "1/1 [==============================] - 0s 5ms/step - loss: 13.4569 - mae: 13.4569\n",
      "Epoch 5/100\n",
      "1/1 [==============================] - 0s 4ms/step - loss: 13.0413 - mae: 13.0413\n",
      "Epoch 6/100\n",
      "1/1 [==============================] - 0s 5ms/step - loss: 12.6275 - mae: 12.6275\n",
      "Epoch 7/100\n",
      "1/1 [==============================] - 0s 4ms/step - loss: 12.2613 - mae: 12.2613\n",
      "Epoch 8/100\n",
      "1/1 [==============================] - 0s 4ms/step - loss: 11.9638 - mae: 11.9638\n",
      "Epoch 9/100\n",
      "1/1 [==============================] - 0s 3ms/step - loss: 11.6667 - mae: 11.6667\n",
      "Epoch 10/100\n",
      "1/1 [==============================] - 0s 3ms/step - loss: 11.3699 - mae: 11.3699\n",
      "Epoch 11/100\n",
      "1/1 [==============================] - 0s 5ms/step - loss: 11.0740 - mae: 11.0740\n",
      "Epoch 12/100\n",
      "1/1 [==============================] - 0s 8ms/step - loss: 10.7780 - mae: 10.7780\n",
      "Epoch 13/100\n",
      "1/1 [==============================] - 0s 5ms/step - loss: 10.4825 - mae: 10.4825\n",
      "Epoch 14/100\n",
      "1/1 [==============================] - 0s 3ms/step - loss: 10.1894 - mae: 10.1894\n",
      "Epoch 15/100\n",
      "1/1 [==============================] - 0s 4ms/step - loss: 9.8993 - mae: 9.8993\n",
      "Epoch 16/100\n",
      "1/1 [==============================] - 0s 4ms/step - loss: 9.6068 - mae: 9.6068\n",
      "Epoch 17/100\n",
      "1/1 [==============================] - 0s 5ms/step - loss: 9.3115 - mae: 9.3115\n",
      "Epoch 18/100\n",
      "1/1 [==============================] - 0s 4ms/step - loss: 9.0128 - mae: 9.0128\n",
      "Epoch 19/100\n",
      "1/1 [==============================] - 0s 3ms/step - loss: 8.7098 - mae: 8.7098\n",
      "Epoch 20/100\n",
      "1/1 [==============================] - 0s 4ms/step - loss: 8.4024 - mae: 8.4024\n",
      "Epoch 21/100\n",
      "1/1 [==============================] - 0s 4ms/step - loss: 8.0903 - mae: 8.0903\n",
      "Epoch 22/100\n",
      "1/1 [==============================] - 0s 3ms/step - loss: 7.7731 - mae: 7.7731\n",
      "Epoch 23/100\n",
      "1/1 [==============================] - 0s 4ms/step - loss: 7.4505 - mae: 7.4505\n",
      "Epoch 24/100\n",
      "1/1 [==============================] - 0s 4ms/step - loss: 7.1220 - mae: 7.1220\n",
      "Epoch 25/100\n",
      "1/1 [==============================] - 0s 3ms/step - loss: 6.7872 - mae: 6.7872\n",
      "Epoch 26/100\n",
      "1/1 [==============================] - 0s 4ms/step - loss: 6.4455 - mae: 6.4455\n",
      "Epoch 27/100\n",
      "1/1 [==============================] - 0s 4ms/step - loss: 6.0967 - mae: 6.0967\n",
      "Epoch 28/100\n",
      "1/1 [==============================] - 0s 4ms/step - loss: 5.7403 - mae: 5.7403\n",
      "Epoch 29/100\n",
      "1/1 [==============================] - 0s 4ms/step - loss: 5.3760 - mae: 5.3760\n",
      "Epoch 30/100\n",
      "1/1 [==============================] - 0s 3ms/step - loss: 5.0034 - mae: 5.0034\n",
      "Epoch 31/100\n",
      "1/1 [==============================] - 0s 3ms/step - loss: 4.6222 - mae: 4.6222\n",
      "Epoch 32/100\n",
      "1/1 [==============================] - 0s 4ms/step - loss: 4.2319 - mae: 4.2319\n",
      "Epoch 33/100\n",
      "1/1 [==============================] - 0s 3ms/step - loss: 3.8325 - mae: 3.8325\n",
      "Epoch 34/100\n",
      "1/1 [==============================] - 0s 4ms/step - loss: 3.6835 - mae: 3.6835\n",
      "Epoch 35/100\n",
      "1/1 [==============================] - 0s 4ms/step - loss: 3.5480 - mae: 3.5480\n",
      "Epoch 36/100\n",
      "1/1 [==============================] - 0s 4ms/step - loss: 3.5691 - mae: 3.5691\n",
      "Epoch 37/100\n",
      "1/1 [==============================] - 0s 3ms/step - loss: 3.6284 - mae: 3.6284\n",
      "Epoch 38/100\n",
      "1/1 [==============================] - 0s 3ms/step - loss: 3.6784 - mae: 3.6784\n",
      "Epoch 39/100\n",
      "1/1 [==============================] - 0s 4ms/step - loss: 3.7197 - mae: 3.7197\n",
      "Epoch 40/100\n",
      "1/1 [==============================] - 0s 4ms/step - loss: 3.7531 - mae: 3.7531\n",
      "Epoch 41/100\n",
      "1/1 [==============================] - 0s 4ms/step - loss: 3.8357 - mae: 3.8357\n",
      "Epoch 42/100\n",
      "1/1 [==============================] - 0s 4ms/step - loss: 3.9021 - mae: 3.9021\n",
      "Epoch 43/100\n",
      "1/1 [==============================] - 0s 4ms/step - loss: 3.9350 - mae: 3.9350\n",
      "Epoch 44/100\n",
      "1/1 [==============================] - 0s 4ms/step - loss: 3.9379 - mae: 3.9379\n",
      "Epoch 45/100\n",
      "1/1 [==============================] - 0s 4ms/step - loss: 3.9142 - mae: 3.9142\n",
      "Epoch 46/100\n",
      "1/1 [==============================] - 0s 3ms/step - loss: 3.8939 - mae: 3.8939\n",
      "Epoch 47/100\n",
      "1/1 [==============================] - 0s 4ms/step - loss: 3.8332 - mae: 3.8332\n",
      "Epoch 48/100\n",
      "1/1 [==============================] - 0s 4ms/step - loss: 3.7300 - mae: 3.7300\n",
      "Epoch 49/100\n",
      "1/1 [==============================] - 0s 5ms/step - loss: 3.6371 - mae: 3.6371\n",
      "Epoch 50/100\n",
      "1/1 [==============================] - 0s 4ms/step - loss: 3.5937 - mae: 3.5937\n",
      "Epoch 51/100\n",
      "1/1 [==============================] - 0s 4ms/step - loss: 3.5508 - mae: 3.5508\n",
      "Epoch 52/100\n",
      "1/1 [==============================] - 0s 5ms/step - loss: 3.5067 - mae: 3.5067\n",
      "Epoch 53/100\n",
      "1/1 [==============================] - 0s 3ms/step - loss: 3.4617 - mae: 3.4617\n",
      "Epoch 54/100\n",
      "1/1 [==============================] - 0s 4ms/step - loss: 3.4151 - mae: 3.4151\n",
      "Epoch 55/100\n",
      "1/1 [==============================] - 0s 3ms/step - loss: 3.3667 - mae: 3.3667\n",
      "Epoch 56/100\n",
      "1/1 [==============================] - 0s 3ms/step - loss: 3.3123 - mae: 3.3123\n",
      "Epoch 57/100\n",
      "1/1 [==============================] - 0s 4ms/step - loss: 3.2600 - mae: 3.2600\n",
      "Epoch 58/100\n",
      "1/1 [==============================] - 0s 4ms/step - loss: 3.2171 - mae: 3.2171\n",
      "Epoch 59/100\n",
      "1/1 [==============================] - 0s 4ms/step - loss: 3.1753 - mae: 3.1753\n",
      "Epoch 60/100\n",
      "1/1 [==============================] - 0s 4ms/step - loss: 3.1848 - mae: 3.1848\n",
      "Epoch 61/100\n",
      "1/1 [==============================] - 0s 3ms/step - loss: 3.1898 - mae: 3.1898\n",
      "Epoch 62/100\n",
      "1/1 [==============================] - 0s 3ms/step - loss: 3.1827 - mae: 3.1827\n",
      "Epoch 63/100\n",
      "1/1 [==============================] - 0s 4ms/step - loss: 3.1649 - mae: 3.1649\n",
      "Epoch 64/100\n",
      "1/1 [==============================] - 0s 3ms/step - loss: 3.1371 - mae: 3.1371\n",
      "Epoch 65/100\n",
      "1/1 [==============================] - 0s 3ms/step - loss: 3.1095 - mae: 3.1095\n",
      "Epoch 66/100\n",
      "1/1 [==============================] - 0s 4ms/step - loss: 3.0719 - mae: 3.0719\n",
      "Epoch 67/100\n",
      "1/1 [==============================] - 0s 3ms/step - loss: 3.0203 - mae: 3.0203\n",
      "Epoch 68/100\n",
      "1/1 [==============================] - 0s 3ms/step - loss: 2.9954 - mae: 2.9954\n",
      "Epoch 69/100\n",
      "1/1 [==============================] - 0s 4ms/step - loss: 2.9907 - mae: 2.9907\n",
      "Epoch 70/100\n",
      "1/1 [==============================] - 0s 5ms/step - loss: 2.9807 - mae: 2.9807\n",
      "Epoch 71/100\n",
      "1/1 [==============================] - 0s 9ms/step - loss: 2.9657 - mae: 2.9657\n",
      "Epoch 72/100\n",
      "1/1 [==============================] - 0s 5ms/step - loss: 2.9461 - mae: 2.9461\n",
      "Epoch 73/100\n",
      "1/1 [==============================] - 0s 5ms/step - loss: 2.9222 - mae: 2.9222\n",
      "Epoch 74/100\n",
      "1/1 [==============================] - 0s 4ms/step - loss: 2.8945 - mae: 2.8945\n",
      "Epoch 75/100\n",
      "1/1 [==============================] - 0s 5ms/step - loss: 2.8631 - mae: 2.8631\n",
      "Epoch 76/100\n",
      "1/1 [==============================] - 0s 4ms/step - loss: 2.8284 - mae: 2.8284\n",
      "Epoch 77/100\n",
      "1/1 [==============================] - 0s 3ms/step - loss: 2.7907 - mae: 2.7907\n",
      "Epoch 78/100\n",
      "1/1 [==============================] - 0s 3ms/step - loss: 2.7672 - mae: 2.7672\n",
      "Epoch 79/100\n",
      "1/1 [==============================] - 0s 3ms/step - loss: 2.7554 - mae: 2.7554\n",
      "Epoch 80/100\n",
      "1/1 [==============================] - 0s 3ms/step - loss: 2.7290 - mae: 2.7290\n",
      "Epoch 81/100\n",
      "1/1 [==============================] - 0s 3ms/step - loss: 2.6948 - mae: 2.6948\n",
      "Epoch 82/100\n",
      "1/1 [==============================] - 0s 3ms/step - loss: 2.6563 - mae: 2.6563\n",
      "Epoch 83/100\n",
      "1/1 [==============================] - 0s 3ms/step - loss: 2.6356 - mae: 2.6356\n",
      "Epoch 84/100\n",
      "1/1 [==============================] - 0s 3ms/step - loss: 2.6101 - mae: 2.6101\n",
      "Epoch 85/100\n",
      "1/1 [==============================] - 0s 4ms/step - loss: 2.5833 - mae: 2.5833\n",
      "Epoch 86/100\n",
      "1/1 [==============================] - 0s 3ms/step - loss: 2.5519 - mae: 2.5519\n",
      "Epoch 87/100\n",
      "1/1 [==============================] - 0s 2ms/step - loss: 2.5289 - mae: 2.5289\n",
      "Epoch 88/100\n",
      "1/1 [==============================] - 0s 4ms/step - loss: 2.5019 - mae: 2.5019\n",
      "Epoch 89/100\n",
      "1/1 [==============================] - 0s 3ms/step - loss: 2.4614 - mae: 2.4614\n",
      "Epoch 90/100\n",
      "1/1 [==============================] - 0s 3ms/step - loss: 2.4392 - mae: 2.4392\n",
      "Epoch 91/100\n",
      "1/1 [==============================] - 0s 4ms/step - loss: 2.4108 - mae: 2.4108\n",
      "Epoch 92/100\n",
      "1/1 [==============================] - 0s 3ms/step - loss: 2.3766 - mae: 2.3766\n",
      "Epoch 93/100\n",
      "1/1 [==============================] - 0s 3ms/step - loss: 2.3371 - mae: 2.3371\n",
      "Epoch 94/100\n",
      "1/1 [==============================] - 0s 4ms/step - loss: 2.2925 - mae: 2.2925\n",
      "Epoch 95/100\n",
      "1/1 [==============================] - 0s 3ms/step - loss: 2.2468 - mae: 2.2468\n",
      "Epoch 96/100\n",
      "1/1 [==============================] - 0s 2ms/step - loss: 2.1947 - mae: 2.1947\n",
      "Epoch 97/100\n",
      "1/1 [==============================] - 0s 2ms/step - loss: 2.1537 - mae: 2.1537\n",
      "Epoch 98/100\n",
      "1/1 [==============================] - 0s 5ms/step - loss: 2.1037 - mae: 2.1037\n",
      "Epoch 99/100\n",
      "1/1 [==============================] - 0s 3ms/step - loss: 2.0682 - mae: 2.0682\n",
      "Epoch 100/100\n",
      "1/1 [==============================] - 0s 4ms/step - loss: 2.0270 - mae: 2.0270\n"
     ]
    },
    {
     "data": {
      "text/plain": "<keras.callbacks.History at 0x7fa7fc200310>"
     },
     "execution_count": 15,
     "metadata": {},
     "output_type": "execute_result"
    }
   ],
   "source": [
    "# Let`s see if e can make another improvement\n",
    "\n",
    "# 1. Create the model (this time with an extra hidden layer with 100 hidden units)\n",
    "model = tf.keras.Sequential([\n",
    "    tf.keras.layers.Dense(20, activation='relu', input_shape=(1,)),\n",
    "    tf.keras.layers.Dense(1)\n",
    "])\n",
    "\n",
    "# 2.Compile the model\n",
    "model.compile(loss='mae',\n",
    "              optimizer=tf.keras.optimizers.Adam(learning_rate=0.01),\n",
    "              metrics='mae')\n",
    "# 3. Fit the model\n",
    "model.fit(X, y, epochs=100)"
   ],
   "metadata": {
    "collapsed": false,
    "pycharm": {
     "name": "#%%\n"
    }
   }
  },
  {
   "cell_type": "code",
   "execution_count": 16,
   "outputs": [
    {
     "data": {
      "text/plain": "(<tf.Tensor: shape=(8,), dtype=float32, numpy=array([-7., -4., -1.,  2.,  5.,  8., 11., 14.], dtype=float32)>,\n <tf.Tensor: shape=(8,), dtype=float32, numpy=array([ 3.,  6.,  9., 12., 15., 18., 21., 24.], dtype=float32)>)"
     },
     "execution_count": 16,
     "metadata": {},
     "output_type": "execute_result"
    }
   ],
   "source": [
    "# Let`s remind ourselves of the data\n",
    "X, y"
   ],
   "metadata": {
    "collapsed": false,
    "pycharm": {
     "name": "#%%\n"
    }
   }
  },
  {
   "cell_type": "code",
   "execution_count": 17,
   "outputs": [
    {
     "name": "stdout",
     "output_type": "stream",
     "text": [
      "1/1 [==============================] - 0s 73ms/step\n"
     ]
    },
    {
     "data": {
      "text/plain": "array([[29.871107]], dtype=float32)"
     },
     "execution_count": 17,
     "metadata": {},
     "output_type": "execute_result"
    }
   ],
   "source": [
    "# Let`s try to take a prediction\n",
    "model.predict([17.0])"
   ],
   "metadata": {
    "collapsed": false,
    "pycharm": {
     "name": "#%%\n"
    }
   }
  },
  {
   "cell_type": "markdown",
   "source": [
    "## Evaluating a model\n",
    "\n",
    "In practice, a typical workflow you`ll go through when building neural networks is\n",
    "\n"
   ],
   "metadata": {
    "collapsed": false,
    "pycharm": {
     "name": "#%% md\n"
    }
   }
  },
  {
   "cell_type": "markdown",
   "source": [
    "When it comes to evaluation... there are 3 words you should memorize:\n",
    "> \"Visualize, visualize, visualize\"\n",
    "\n",
    "It`s a good idea to visualize:\n",
    "* The data - what data are we working with? What does it look like?\n",
    "* The model itself - what does our model look like?\n",
    "* The training of a model - how does a model perform while it learns?\n",
    "* The predictions of the model - how do the predictions of a model line up against the ground truth(the original labels)?"
   ],
   "metadata": {
    "collapsed": false,
    "pycharm": {
     "name": "#%% md\n"
    }
   }
  },
  {
   "cell_type": "code",
   "execution_count": 18,
   "outputs": [
    {
     "data": {
      "text/plain": "<tf.Tensor: shape=(50,), dtype=int32, numpy=\narray([-100,  -96,  -92,  -88,  -84,  -80,  -76,  -72,  -68,  -64,  -60,\n        -56,  -52,  -48,  -44,  -40,  -36,  -32,  -28,  -24,  -20,  -16,\n        -12,   -8,   -4,    0,    4,    8,   12,   16,   20,   24,   28,\n         32,   36,   40,   44,   48,   52,   56,   60,   64,   68,   72,\n         76,   80,   84,   88,   92,   96], dtype=int32)>"
     },
     "execution_count": 18,
     "metadata": {},
     "output_type": "execute_result"
    }
   ],
   "source": [
    "# Make a bigger dataset\n",
    "X = tf.range(-100, 100, 4)\n",
    "X"
   ],
   "metadata": {
    "collapsed": false,
    "pycharm": {
     "name": "#%%\n"
    }
   }
  },
  {
   "cell_type": "code",
   "execution_count": 19,
   "outputs": [
    {
     "data": {
      "text/plain": "<tf.Tensor: shape=(50,), dtype=int32, numpy=\narray([-90, -86, -82, -78, -74, -70, -66, -62, -58, -54, -50, -46, -42,\n       -38, -34, -30, -26, -22, -18, -14, -10,  -6,  -2,   2,   6,  10,\n        14,  18,  22,  26,  30,  34,  38,  42,  46,  50,  54,  58,  62,\n        66,  70,  74,  78,  82,  86,  90,  94,  98, 102, 106], dtype=int32)>"
     },
     "execution_count": 19,
     "metadata": {},
     "output_type": "execute_result"
    }
   ],
   "source": [
    "# Make labels for the dataset\n",
    "y = X + 10\n",
    "y"
   ],
   "metadata": {
    "collapsed": false,
    "pycharm": {
     "name": "#%%\n"
    }
   }
  },
  {
   "cell_type": "code",
   "execution_count": 20,
   "outputs": [
    {
     "data": {
      "text/plain": "<matplotlib.collections.PathCollection at 0x7fa7fc307df0>"
     },
     "execution_count": 20,
     "metadata": {},
     "output_type": "execute_result"
    },
    {
     "data": {
      "text/plain": "<Figure size 640x480 with 1 Axes>",
      "image/png": "[encoded data removed]"
     },
     "metadata": {},
     "output_type": "display_data"
    }
   ],
   "source": [
    "# Visualize the data\n",
    "import matplotlib.pyplot as plt\n",
    "plt.scatter(X, y)"
   ],
   "metadata": {
    "collapsed": false,
    "pycharm": {
     "name": "#%%\n"
    }
   }
  },
  {
   "cell_type": "markdown",
   "source": [
    "### The 3 sets...\n",
    "\n",
    "* **Training set** - the model learns from this data, which is typically 70-80* of the total data you have available.\n",
    "* **Validation set** - the model gets tuned on this data, which is typically 10-15% of the data available.\n",
    "* **Test set** - the model gets evaluated on this data to test what is has learned, this set is typically 10-15% of the total data available"
   ],
   "metadata": {
    "collapsed": false,
    "pycharm": {
     "name": "#%% md\n"
    }
   }
  },
  {
   "cell_type": "code",
   "execution_count": 21,
   "outputs": [
    {
     "data": {
      "text/plain": "50"
     },
     "execution_count": 21,
     "metadata": {},
     "output_type": "execute_result"
    }
   ],
   "source": [
    "# Check the length of how many samples we have\n",
    "len(X)"
   ],
   "metadata": {
    "collapsed": false,
    "pycharm": {
     "name": "#%%\n"
    }
   }
  },
  {
   "cell_type": "code",
   "execution_count": 22,
   "outputs": [
    {
     "data": {
      "text/plain": "(40, 10, 40, 10)"
     },
     "execution_count": 22,
     "metadata": {},
     "output_type": "execute_result"
    }
   ],
   "source": [
    "# Split the data into train and test sets\n",
    "X_train = X[:40] # first 40 are training samples\n",
    "y_train = y[:40]\n",
    "X_test = X[40:]\n",
    "y_test = y[40:]\n",
    "len(X_train), len(X_test), len(y_train), len(y_test)"
   ],
   "metadata": {
    "collapsed": false,
    "pycharm": {
     "name": "#%%\n"
    }
   }
  },
  {
   "cell_type": "markdown",
   "source": [
    "### Visualizing the data\n",
    "\n",
    "Now we`have got our data in training and test sets... let`s visualize it again"
   ],
   "metadata": {
    "collapsed": false,
    "pycharm": {
     "name": "#%% md\n"
    }
   }
  },
  {
   "cell_type": "code",
   "execution_count": 23,
   "outputs": [
    {
     "data": {
      "text/plain": "<matplotlib.collections.PathCollection at 0x7fa7fc1c5cf0>"
     },
     "execution_count": 23,
     "metadata": {},
     "output_type": "execute_result"
    },
    {
     "data": {
      "text/plain": "<Figure size 1000x700 with 1 Axes>",
      "image/png": "[encoded data removed]"
     },
     "metadata": {},
     "output_type": "display_data"
    }
   ],
   "source": [
    "plt.figure(figsize=(10, 7))\n",
    "# Plot training data in blue\n",
    "plt.scatter(X_train, y_train, c='b', label='Training data')\n",
    "# Plot testing data is green\n",
    "plt.scatter(X_test, y_test, c='g', label='Testing data')"
   ],
   "metadata": {
    "collapsed": false,
    "pycharm": {
     "name": "#%%\n"
    }
   }
  },
  {
   "cell_type": "code",
   "execution_count": 24,
   "outputs": [],
   "source": [
    "# Let`s have a look at how to build a neural network for our data\n",
    "\n",
    "# 1. Create a model\n",
    "model = tf.keras.Sequential([\n",
    "    tf.keras.layers.Dense(1, input_shape=(1,)),\n",
    "])\n",
    "\n",
    "# 2. Compile the model\n",
    "model.compile(loss=tf.keras.losses.mae,\n",
    "              optimizer=tf.keras.optimizers.SGD(),\n",
    "              metrics='mae')\n"
   ],
   "metadata": {
    "collapsed": false,
    "pycharm": {
     "name": "#%%\n"
    }
   }
  },
  {
   "cell_type": "markdown",
   "source": [
    "### Visualizing the model"
   ],
   "metadata": {
    "collapsed": false,
    "pycharm": {
     "name": "#%% md\n"
    }
   }
  },
  {
   "cell_type": "code",
   "execution_count": 25,
   "outputs": [
    {
     "name": "stdout",
     "output_type": "stream",
     "text": [
      "Model: \"sequential_3\"\n",
      "_________________________________________________________________\n",
      " Layer (type)                Output Shape              Param #   \n",
      "=================================================================\n",
      " dense_4 (Dense)             (None, 1)                 2         \n",
      "                                                                 \n",
      "=================================================================\n",
      "Total params: 2\n",
      "Trainable params: 2\n",
      "Non-trainable params: 0\n",
      "_________________________________________________________________\n"
     ]
    }
   ],
   "source": [
    "model.summary()"
   ],
   "metadata": {
    "collapsed": false,
    "pycharm": {
     "name": "#%%\n"
    }
   }
  },
  {
   "cell_type": "markdown",
   "source": [
    "* Total params - total number of parameters in the model\n",
    "* Trainable parameters - these are the parameters the model can update as it trains\n",
    "* Non-trainable params - these params aren`t updated during training ( this is typical when you bring in already learn patterns or parameters from other model during **transfer learning**)."
   ],
   "metadata": {
    "collapsed": false,
    "pycharm": {
     "name": "#%% md\n"
    }
   }
  },
  {
   "cell_type": "code",
   "execution_count": 26,
   "outputs": [
    {
     "name": "stdout",
     "output_type": "stream",
     "text": [
      "Epoch 1/100\n",
      "2/2 [==============================] - 0s 3ms/step - loss: 23.6922 - mae: 23.6922\n",
      "Epoch 2/100\n",
      "2/2 [==============================] - 0s 3ms/step - loss: 13.2434 - mae: 13.2434\n",
      "Epoch 3/100\n",
      "2/2 [==============================] - 0s 4ms/step - loss: 19.3769 - mae: 19.3769\n",
      "Epoch 4/100\n",
      "2/2 [==============================] - 0s 3ms/step - loss: 10.2027 - mae: 10.2027\n",
      "Epoch 5/100\n",
      "2/2 [==============================] - 0s 3ms/step - loss: 12.3221 - mae: 12.3221\n",
      "Epoch 6/100\n",
      "2/2 [==============================] - 0s 4ms/step - loss: 12.9491 - mae: 12.9491\n",
      "Epoch 7/100\n",
      "2/2 [==============================] - 0s 3ms/step - loss: 10.0034 - mae: 10.0034\n",
      "Epoch 8/100\n",
      "2/2 [==============================] - 0s 3ms/step - loss: 11.9432 - mae: 11.9432\n",
      "Epoch 9/100\n",
      "2/2 [==============================] - 0s 2ms/step - loss: 12.6984 - mae: 12.6984\n",
      "Epoch 10/100\n",
      "2/2 [==============================] - 0s 3ms/step - loss: 9.9943 - mae: 9.9943\n",
      "Epoch 11/100\n",
      "2/2 [==============================] - 0s 3ms/step - loss: 9.9662 - mae: 9.9662\n",
      "Epoch 12/100\n",
      "2/2 [==============================] - 0s 2ms/step - loss: 9.9074 - mae: 9.9074\n",
      "Epoch 13/100\n",
      "2/2 [==============================] - 0s 3ms/step - loss: 9.7456 - mae: 9.7456\n",
      "Epoch 14/100\n",
      "2/2 [==============================] - 0s 3ms/step - loss: 10.5462 - mae: 10.5462\n",
      "Epoch 15/100\n",
      "2/2 [==============================] - 0s 4ms/step - loss: 13.7773 - mae: 13.7773\n",
      "Epoch 16/100\n",
      "2/2 [==============================] - 0s 2ms/step - loss: 12.3965 - mae: 12.3965\n",
      "Epoch 17/100\n",
      "2/2 [==============================] - 0s 2ms/step - loss: 10.1701 - mae: 10.1701\n",
      "Epoch 18/100\n",
      "2/2 [==============================] - 0s 3ms/step - loss: 10.6608 - mae: 10.6608\n",
      "Epoch 19/100\n",
      "2/2 [==============================] - 0s 4ms/step - loss: 10.0638 - mae: 10.0638\n",
      "Epoch 20/100\n",
      "2/2 [==============================] - 0s 3ms/step - loss: 10.8582 - mae: 10.8582\n",
      "Epoch 21/100\n",
      "2/2 [==============================] - 0s 2ms/step - loss: 12.1087 - mae: 12.1087\n",
      "Epoch 22/100\n",
      "2/2 [==============================] - 0s 3ms/step - loss: 9.5710 - mae: 9.5710\n",
      "Epoch 23/100\n",
      "2/2 [==============================] - 0s 2ms/step - loss: 9.3088 - mae: 9.3088\n",
      "Epoch 24/100\n",
      "2/2 [==============================] - 0s 4ms/step - loss: 9.7101 - mae: 9.7101\n",
      "Epoch 25/100\n",
      "2/2 [==============================] - 0s 3ms/step - loss: 9.6066 - mae: 9.6066\n",
      "Epoch 26/100\n",
      "2/2 [==============================] - 0s 2ms/step - loss: 10.0125 - mae: 10.0125\n",
      "Epoch 27/100\n",
      "2/2 [==============================] - 0s 3ms/step - loss: 10.3641 - mae: 10.3641\n",
      "Epoch 28/100\n",
      "2/2 [==============================] - 0s 3ms/step - loss: 9.7533 - mae: 9.7533\n",
      "Epoch 29/100\n",
      "2/2 [==============================] - 0s 3ms/step - loss: 9.6397 - mae: 9.6397\n",
      "Epoch 30/100\n",
      "2/2 [==============================] - 0s 3ms/step - loss: 9.7641 - mae: 9.7641\n",
      "Epoch 31/100\n",
      "2/2 [==============================] - 0s 3ms/step - loss: 10.6584 - mae: 10.6584\n",
      "Epoch 32/100\n",
      "2/2 [==============================] - 0s 3ms/step - loss: 12.7772 - mae: 12.7772\n",
      "Epoch 33/100\n",
      "2/2 [==============================] - 0s 3ms/step - loss: 11.9254 - mae: 11.9254\n",
      "Epoch 34/100\n",
      "2/2 [==============================] - 0s 3ms/step - loss: 12.9983 - mae: 12.9983\n",
      "Epoch 35/100\n",
      "2/2 [==============================] - 0s 2ms/step - loss: 11.0165 - mae: 11.0165\n",
      "Epoch 36/100\n",
      "2/2 [==============================] - 0s 2ms/step - loss: 10.6604 - mae: 10.6604\n",
      "Epoch 37/100\n",
      "2/2 [==============================] - 0s 2ms/step - loss: 9.3956 - mae: 9.3956\n",
      "Epoch 38/100\n",
      "2/2 [==============================] - 0s 3ms/step - loss: 9.4009 - mae: 9.4009\n",
      "Epoch 39/100\n",
      "2/2 [==============================] - 0s 2ms/step - loss: 10.2425 - mae: 10.2425\n",
      "Epoch 40/100\n",
      "2/2 [==============================] - 0s 3ms/step - loss: 11.8051 - mae: 11.8051\n",
      "Epoch 41/100\n",
      "2/2 [==============================] - 0s 3ms/step - loss: 10.4307 - mae: 10.4307\n",
      "Epoch 42/100\n",
      "2/2 [==============================] - 0s 3ms/step - loss: 10.3899 - mae: 10.3899\n",
      "Epoch 43/100\n",
      "2/2 [==============================] - 0s 2ms/step - loss: 12.9731 - mae: 12.9731\n",
      "Epoch 44/100\n",
      "2/2 [==============================] - 0s 3ms/step - loss: 10.2000 - mae: 10.2000\n",
      "Epoch 45/100\n",
      "2/2 [==============================] - 0s 3ms/step - loss: 9.5318 - mae: 9.5318\n",
      "Epoch 46/100\n",
      "2/2 [==============================] - 0s 3ms/step - loss: 9.3847 - mae: 9.3847\n",
      "Epoch 47/100\n",
      "2/2 [==============================] - 0s 3ms/step - loss: 9.3833 - mae: 9.3833\n",
      "Epoch 48/100\n",
      "2/2 [==============================] - 0s 3ms/step - loss: 9.6272 - mae: 9.6272\n",
      "Epoch 49/100\n",
      "2/2 [==============================] - 0s 3ms/step - loss: 10.2819 - mae: 10.2819\n",
      "Epoch 50/100\n",
      "2/2 [==============================] - 0s 2ms/step - loss: 9.5989 - mae: 9.5989\n",
      "Epoch 51/100\n",
      "2/2 [==============================] - 0s 3ms/step - loss: 10.3169 - mae: 10.3169\n",
      "Epoch 52/100\n",
      "2/2 [==============================] - 0s 3ms/step - loss: 14.6896 - mae: 14.6896\n",
      "Epoch 53/100\n",
      "2/2 [==============================] - 0s 3ms/step - loss: 9.0579 - mae: 9.0579\n",
      "Epoch 54/100\n",
      "2/2 [==============================] - 0s 3ms/step - loss: 9.4143 - mae: 9.4143\n",
      "Epoch 55/100\n",
      "2/2 [==============================] - 0s 3ms/step - loss: 9.7319 - mae: 9.7319\n",
      "Epoch 56/100\n",
      "2/2 [==============================] - 0s 3ms/step - loss: 12.7110 - mae: 12.7110\n",
      "Epoch 57/100\n",
      "2/2 [==============================] - 0s 3ms/step - loss: 16.0396 - mae: 16.0396\n",
      "Epoch 58/100\n",
      "2/2 [==============================] - 0s 2ms/step - loss: 14.8642 - mae: 14.8642\n",
      "Epoch 59/100\n",
      "2/2 [==============================] - 0s 3ms/step - loss: 14.8995 - mae: 14.8995\n",
      "Epoch 60/100\n",
      "2/2 [==============================] - 0s 3ms/step - loss: 12.6059 - mae: 12.6059\n",
      "Epoch 61/100\n",
      "2/2 [==============================] - 0s 3ms/step - loss: 13.1936 - mae: 13.1936\n",
      "Epoch 62/100\n",
      "2/2 [==============================] - 0s 3ms/step - loss: 8.9458 - mae: 8.9458\n",
      "Epoch 63/100\n",
      "2/2 [==============================] - 0s 3ms/step - loss: 9.2497 - mae: 9.2497\n",
      "Epoch 64/100\n",
      "2/2 [==============================] - 0s 3ms/step - loss: 9.1848 - mae: 9.1848\n",
      "Epoch 65/100\n",
      "2/2 [==============================] - 0s 3ms/step - loss: 9.0939 - mae: 9.0939\n",
      "Epoch 66/100\n",
      "2/2 [==============================] - 0s 3ms/step - loss: 8.9761 - mae: 8.9761\n",
      "Epoch 67/100\n",
      "2/2 [==============================] - 0s 3ms/step - loss: 8.9878 - mae: 8.9878\n",
      "Epoch 68/100\n",
      "2/2 [==============================] - 0s 4ms/step - loss: 9.2973 - mae: 9.2973\n",
      "Epoch 69/100\n",
      "2/2 [==============================] - 0s 3ms/step - loss: 9.2926 - mae: 9.2926\n",
      "Epoch 70/100\n",
      "2/2 [==============================] - 0s 5ms/step - loss: 9.6162 - mae: 9.6162\n",
      "Epoch 71/100\n",
      "2/2 [==============================] - 0s 4ms/step - loss: 9.8415 - mae: 9.8415\n",
      "Epoch 72/100\n",
      "2/2 [==============================] - 0s 3ms/step - loss: 8.9826 - mae: 8.9826\n",
      "Epoch 73/100\n",
      "2/2 [==============================] - 0s 3ms/step - loss: 14.0717 - mae: 14.0717\n",
      "Epoch 74/100\n",
      "2/2 [==============================] - 0s 3ms/step - loss: 9.4415 - mae: 9.4415\n",
      "Epoch 75/100\n",
      "2/2 [==============================] - 0s 3ms/step - loss: 8.8076 - mae: 8.8076\n",
      "Epoch 76/100\n",
      "2/2 [==============================] - 0s 3ms/step - loss: 8.8533 - mae: 8.8533\n",
      "Epoch 77/100\n",
      "2/2 [==============================] - 0s 4ms/step - loss: 8.3991 - mae: 8.3991\n",
      "Epoch 78/100\n",
      "2/2 [==============================] - 0s 3ms/step - loss: 8.8538 - mae: 8.8538\n",
      "Epoch 79/100\n",
      "2/2 [==============================] - 0s 2ms/step - loss: 9.0536 - mae: 9.0536\n",
      "Epoch 80/100\n",
      "2/2 [==============================] - 0s 2ms/step - loss: 8.7063 - mae: 8.7063\n",
      "Epoch 81/100\n",
      "2/2 [==============================] - 0s 3ms/step - loss: 9.0927 - mae: 9.0927\n",
      "Epoch 82/100\n",
      "2/2 [==============================] - 0s 2ms/step - loss: 12.3146 - mae: 12.3146\n",
      "Epoch 83/100\n",
      "2/2 [==============================] - 0s 3ms/step - loss: 8.7259 - mae: 8.7259\n",
      "Epoch 84/100\n",
      "2/2 [==============================] - 0s 3ms/step - loss: 10.9673 - mae: 10.9673\n",
      "Epoch 85/100\n",
      "2/2 [==============================] - 0s 4ms/step - loss: 11.1811 - mae: 11.1811\n",
      "Epoch 86/100\n",
      "2/2 [==============================] - 0s 3ms/step - loss: 11.7897 - mae: 11.7897\n",
      "Epoch 87/100\n",
      "2/2 [==============================] - 0s 3ms/step - loss: 9.4471 - mae: 9.4471\n",
      "Epoch 88/100\n",
      "2/2 [==============================] - 0s 3ms/step - loss: 10.1317 - mae: 10.1317\n",
      "Epoch 89/100\n",
      "2/2 [==============================] - 0s 3ms/step - loss: 10.0759 - mae: 10.0759\n",
      "Epoch 90/100\n",
      "2/2 [==============================] - 0s 3ms/step - loss: 14.4787 - mae: 14.4787\n",
      "Epoch 91/100\n",
      "2/2 [==============================] - 0s 4ms/step - loss: 10.4884 - mae: 10.4884\n",
      "Epoch 92/100\n",
      "2/2 [==============================] - 0s 3ms/step - loss: 9.6411 - mae: 9.6411\n",
      "Epoch 93/100\n",
      "2/2 [==============================] - 0s 3ms/step - loss: 15.4149 - mae: 15.4149\n",
      "Epoch 94/100\n",
      "2/2 [==============================] - 0s 2ms/step - loss: 12.7026 - mae: 12.7026\n",
      "Epoch 95/100\n",
      "2/2 [==============================] - 0s 3ms/step - loss: 12.8596 - mae: 12.8596\n",
      "Epoch 96/100\n",
      "2/2 [==============================] - 0s 3ms/step - loss: 8.8934 - mae: 8.8934\n",
      "Epoch 97/100\n",
      "2/2 [==============================] - 0s 3ms/step - loss: 8.7850 - mae: 8.7850\n",
      "Epoch 98/100\n",
      "2/2 [==============================] - 0s 2ms/step - loss: 8.7411 - mae: 8.7411\n",
      "Epoch 99/100\n",
      "2/2 [==============================] - 0s 2ms/step - loss: 8.3301 - mae: 8.3301\n",
      "Epoch 100/100\n",
      "2/2 [==============================] - 0s 4ms/step - loss: 8.6340 - mae: 8.6340\n"
     ]
    },
    {
     "data": {
      "text/plain": "<keras.callbacks.History at 0x7fa7fc1503d0>"
     },
     "execution_count": 26,
     "metadata": {},
     "output_type": "execute_result"
    }
   ],
   "source": [
    "# Let`s fit our model to the training data\n",
    "model.fit(X, y, epochs=100, verbose=1)"
   ],
   "metadata": {
    "collapsed": false,
    "pycharm": {
     "name": "#%%\n"
    }
   }
  },
  {
   "cell_type": "code",
   "execution_count": 27,
   "outputs": [
    {
     "name": "stdout",
     "output_type": "stream",
     "text": [
      "Model: \"sequential_3\"\n",
      "_________________________________________________________________\n",
      " Layer (type)                Output Shape              Param #   \n",
      "=================================================================\n",
      " dense_4 (Dense)             (None, 1)                 2         \n",
      "                                                                 \n",
      "=================================================================\n",
      "Total params: 2\n",
      "Trainable params: 2\n",
      "Non-trainable params: 0\n",
      "_________________________________________________________________\n"
     ]
    }
   ],
   "source": [
    "model.summary()"
   ],
   "metadata": {
    "collapsed": false,
    "pycharm": {
     "name": "#%%\n"
    }
   }
  },
  {
   "cell_type": "code",
   "execution_count": 28,
   "outputs": [
    {
     "name": "stdout",
     "output_type": "stream",
     "text": [
      "You must install pydot (`pip install pydot`) and install graphviz (see instructions at https://graphviz.gitlab.io/download/) for plot_model to work.\n"
     ]
    }
   ],
   "source": [
    "from keras.utils import plot_model\n",
    "plot_model(model, show_shapes=True)\n"
   ],
   "metadata": {
    "collapsed": false,
    "pycharm": {
     "name": "#%%\n"
    }
   }
  },
  {
   "cell_type": "markdown",
   "source": [],
   "metadata": {
    "collapsed": false,
    "pycharm": {
     "name": "#%% md\n"
    }
   }
  },
  {
   "cell_type": "code",
   "execution_count": 29,
   "outputs": [
    {
     "name": "stdout",
     "output_type": "stream",
     "text": [
      "1/1 [==============================] - 0s 53ms/step\n"
     ]
    },
    {
     "data": {
      "text/plain": "<Figure size 1000x700 with 1 Axes>",
      "image/png": "[encoded data removed]"
     },
     "metadata": {},
     "output_type": "display_data"
    }
   ],
   "source": [
    "y_pred = model.predict(X_test)\n",
    "\n",
    "def plot_predictions(train_data=X_train, train_labels=y_train, test_data=X_test, test_labels=y_test, predictions=y_pred):\n",
    "    plt.figure(figsize=(10,7))\n",
    "    # Plot training data in blue\n",
    "    plt.scatter(train_data, train_labels, c='b', label='Training data')\n",
    "    # Plot testing data in green\n",
    "    plt.scatter(test_data, test_labels, c='g', label='Testing data')\n",
    "    # Plot model`s prediction in red\n",
    "    plt.scatter(test_data, predictions, c='r', label='Predictions')\n",
    "    # Show the legend\n",
    "    plt.legend()\n",
    "\n",
    "plot_predictions()"
   ],
   "metadata": {
    "collapsed": false,
    "pycharm": {
     "name": "#%%\n"
    }
   }
  },
  {
   "cell_type": "markdown",
   "source": [
    "### Evaluating our model's predictions with regression evaluation metrics\n",
    "\n",
    "Depending on the problem you're working on, there will be different evaluation metrics to evaluate your model's performance.\n",
    "\n",
    "Since we`re working on a regression, two of the main metrics:\n",
    "* MAE - mean absolute error, \"on average, how wrong is each of my model's prediction\"\n",
    "* MSE - mead square root, \"square the average errors\""
   ],
   "metadata": {
    "collapsed": false,
    "pycharm": {
     "name": "#%% md\n"
    }
   }
  },
  {
   "cell_type": "code",
   "execution_count": 30,
   "outputs": [
    {
     "name": "stdout",
     "output_type": "stream",
     "text": [
      "1/1 [==============================] - 0s 117ms/step - loss: 9.8755 - mae: 9.8755\n"
     ]
    },
    {
     "data": {
      "text/plain": "[9.875515937805176, 9.875515937805176]"
     },
     "execution_count": 30,
     "metadata": {},
     "output_type": "execute_result"
    }
   ],
   "source": [
    "# Evaluate the model on the test set\n",
    "model.evaluate(X_test, y_test)"
   ],
   "metadata": {
    "collapsed": false,
    "pycharm": {
     "name": "#%%\n"
    }
   }
  },
  {
   "cell_type": "code",
   "execution_count": 31,
   "outputs": [],
   "source": [
    "# Calculate the MAE\n",
    "tf.reduce_mean(tf.abs(tf.squeeze(tf.constant(y_pred)) - tf.cast(tf.constant(y_test), dtype=tf.float32))), tf.metrics.mean_absolute_error(tf.cast(tf.constant(y_test), dtype=tf.float32), tf.squeeze(tf.constant(y_pred)))\n",
    "def mae(y_test, y_pred):\n",
    "    return tf.metrics.mean_absolute_error(tf.cast(tf.constant(y_test), dtype=tf.float32), tf.squeeze(tf.constant(y_pred)))"
   ],
   "metadata": {
    "collapsed": false,
    "pycharm": {
     "name": "#%%\n"
    }
   }
  },
  {
   "cell_type": "code",
   "execution_count": 32,
   "outputs": [],
   "source": [
    "# Calculate the mean square error\n",
    "tf.metrics.mean_squared_error(tf.cast(tf.constant(y_test), dtype=tf.float32), tf.squeeze(tf.constant(y_pred)))\n",
    "\n",
    "def mse(y_test, y_pred):\n",
    "    return tf.metrics.mean_squared_error(tf.cast(tf.constant(y_test), dtype=tf.float32), tf.squeeze(tf.constant(y_pred)))"
   ],
   "metadata": {
    "collapsed": false,
    "pycharm": {
     "name": "#%%\n"
    }
   }
  },
  {
   "cell_type": "markdown",
   "source": [
    "### Running experiments to improve our model\n",
    "\n",
    "1. Get more data  - get more examples for your model to train on\n",
    "2. Make your model larger (using more complex model) - this might come in the form of more layers or more hidden units in each layer.\n",
    "3. Train for longer - give your model more of a chance to find patterns in the data\n",
    "\n",
    "Let's do 3 modelling experiments:\n",
    "\n",
    "1. `model_1` - same as the original model, 1 layer, trained for 100 epochs\n",
    "2. `model_2` - 2 layers, trained for 100 epochs\n",
    "3. `model_3` - 2 layers, trained for 500 epochs\n"
   ],
   "metadata": {
    "collapsed": false,
    "pycharm": {
     "name": "#%% md\n"
    }
   }
  },
  {
   "cell_type": "code",
   "execution_count": 33,
   "outputs": [],
   "source": [
    "### Build `model_1`\n"
   ],
   "metadata": {
    "collapsed": false,
    "pycharm": {
     "name": "#%%\n"
    }
   }
  },
  {
   "cell_type": "code",
   "execution_count": 34,
   "outputs": [
    {
     "name": "stdout",
     "output_type": "stream",
     "text": [
      "Epoch 1/100\n",
      "2/2 [==============================] - 0s 2ms/step - loss: 10.2716 - mae: 10.2716\n",
      "Epoch 2/100\n",
      "2/2 [==============================] - 0s 3ms/step - loss: 8.1924 - mae: 8.1924\n",
      "Epoch 3/100\n",
      "2/2 [==============================] - 0s 3ms/step - loss: 14.9682 - mae: 14.9682\n",
      "Epoch 4/100\n",
      "2/2 [==============================] - 0s 3ms/step - loss: 8.1089 - mae: 8.1089\n",
      "Epoch 5/100\n",
      "2/2 [==============================] - 0s 3ms/step - loss: 10.7121 - mae: 10.7121\n",
      "Epoch 6/100\n",
      "2/2 [==============================] - 0s 3ms/step - loss: 9.9088 - mae: 9.9088\n",
      "Epoch 7/100\n",
      "2/2 [==============================] - 0s 3ms/step - loss: 8.9698 - mae: 8.9698\n",
      "Epoch 8/100\n",
      "2/2 [==============================] - 0s 2ms/step - loss: 9.0743 - mae: 9.0743\n",
      "Epoch 9/100\n",
      "2/2 [==============================] - 0s 3ms/step - loss: 19.7586 - mae: 19.7586\n",
      "Epoch 10/100\n",
      "2/2 [==============================] - 0s 2ms/step - loss: 10.6717 - mae: 10.6717\n",
      "Epoch 11/100\n",
      "2/2 [==============================] - 0s 3ms/step - loss: 8.6128 - mae: 8.6128\n",
      "Epoch 12/100\n",
      "2/2 [==============================] - 0s 2ms/step - loss: 11.1952 - mae: 11.1952\n",
      "Epoch 13/100\n",
      "2/2 [==============================] - 0s 2ms/step - loss: 12.0819 - mae: 12.0819\n",
      "Epoch 14/100\n",
      "2/2 [==============================] - 0s 3ms/step - loss: 14.0602 - mae: 14.0602\n",
      "Epoch 15/100\n",
      "2/2 [==============================] - 0s 2ms/step - loss: 11.4567 - mae: 11.4567\n",
      "Epoch 16/100\n",
      "2/2 [==============================] - 0s 2ms/step - loss: 8.5209 - mae: 8.5209\n",
      "Epoch 17/100\n",
      "2/2 [==============================] - 0s 2ms/step - loss: 13.5955 - mae: 13.5955\n",
      "Epoch 18/100\n",
      "2/2 [==============================] - 0s 4ms/step - loss: 11.4146 - mae: 11.4146\n",
      "Epoch 19/100\n",
      "2/2 [==============================] - 0s 3ms/step - loss: 17.9670 - mae: 17.9670\n",
      "Epoch 20/100\n",
      "2/2 [==============================] - 0s 3ms/step - loss: 15.1013 - mae: 15.1013\n",
      "Epoch 21/100\n",
      "2/2 [==============================] - 0s 3ms/step - loss: 11.0640 - mae: 11.0640\n",
      "Epoch 22/100\n",
      "2/2 [==============================] - 0s 3ms/step - loss: 8.1938 - mae: 8.1938\n",
      "Epoch 23/100\n",
      "2/2 [==============================] - 0s 3ms/step - loss: 9.4806 - mae: 9.4806\n",
      "Epoch 24/100\n",
      "2/2 [==============================] - 0s 3ms/step - loss: 7.6682 - mae: 7.6682\n",
      "Epoch 25/100\n",
      "2/2 [==============================] - 0s 2ms/step - loss: 13.1148 - mae: 13.1148\n",
      "Epoch 26/100\n",
      "2/2 [==============================] - 0s 3ms/step - loss: 16.4721 - mae: 16.4721\n",
      "Epoch 27/100\n",
      "2/2 [==============================] - 0s 3ms/step - loss: 13.2078 - mae: 13.2078\n",
      "Epoch 28/100\n",
      "2/2 [==============================] - 0s 3ms/step - loss: 14.3099 - mae: 14.3099\n",
      "Epoch 29/100\n",
      "2/2 [==============================] - 0s 3ms/step - loss: 10.0800 - mae: 10.0800\n",
      "Epoch 30/100\n",
      "2/2 [==============================] - 0s 2ms/step - loss: 16.4231 - mae: 16.4231\n",
      "Epoch 31/100\n",
      "2/2 [==============================] - 0s 3ms/step - loss: 23.5674 - mae: 23.5674\n",
      "Epoch 32/100\n",
      "2/2 [==============================] - 0s 3ms/step - loss: 7.6068 - mae: 7.6068\n",
      "Epoch 33/100\n",
      "2/2 [==============================] - 0s 3ms/step - loss: 9.3034 - mae: 9.3034\n",
      "Epoch 34/100\n",
      "2/2 [==============================] - 0s 2ms/step - loss: 13.6730 - mae: 13.6730\n",
      "Epoch 35/100\n",
      "2/2 [==============================] - 0s 2ms/step - loss: 11.1582 - mae: 11.1582\n",
      "Epoch 36/100\n",
      "2/2 [==============================] - 0s 2ms/step - loss: 13.3855 - mae: 13.3855\n",
      "Epoch 37/100\n",
      "2/2 [==============================] - 0s 3ms/step - loss: 9.4486 - mae: 9.4486\n",
      "Epoch 38/100\n",
      "2/2 [==============================] - 0s 3ms/step - loss: 10.0992 - mae: 10.0992\n",
      "Epoch 39/100\n",
      "2/2 [==============================] - 0s 3ms/step - loss: 10.2103 - mae: 10.2103\n",
      "Epoch 40/100\n",
      "2/2 [==============================] - 0s 2ms/step - loss: 10.9569 - mae: 10.9569\n",
      "Epoch 41/100\n",
      "2/2 [==============================] - 0s 2ms/step - loss: 7.9318 - mae: 7.9318\n",
      "Epoch 42/100\n",
      "2/2 [==============================] - 0s 3ms/step - loss: 10.5772 - mae: 10.5772\n",
      "Epoch 43/100\n",
      "2/2 [==============================] - 0s 3ms/step - loss: 7.2094 - mae: 7.2094\n",
      "Epoch 44/100\n",
      "2/2 [==============================] - 0s 3ms/step - loss: 7.9931 - mae: 7.9931\n",
      "Epoch 45/100\n",
      "2/2 [==============================] - 0s 3ms/step - loss: 9.7848 - mae: 9.7848\n",
      "Epoch 46/100\n",
      "2/2 [==============================] - 0s 3ms/step - loss: 8.8603 - mae: 8.8603\n",
      "Epoch 47/100\n",
      "2/2 [==============================] - 0s 3ms/step - loss: 7.5731 - mae: 7.5731\n",
      "Epoch 48/100\n",
      "2/2 [==============================] - 0s 3ms/step - loss: 8.5803 - mae: 8.5803\n",
      "Epoch 49/100\n",
      "2/2 [==============================] - 0s 3ms/step - loss: 9.9890 - mae: 9.9890\n",
      "Epoch 50/100\n",
      "2/2 [==============================] - 0s 3ms/step - loss: 9.0330 - mae: 9.0330\n",
      "Epoch 51/100\n",
      "2/2 [==============================] - 0s 3ms/step - loss: 10.6573 - mae: 10.6573\n",
      "Epoch 52/100\n",
      "2/2 [==============================] - 0s 3ms/step - loss: 15.3037 - mae: 15.3037\n",
      "Epoch 53/100\n",
      "2/2 [==============================] - 0s 3ms/step - loss: 14.3227 - mae: 14.3227\n",
      "Epoch 54/100\n",
      "2/2 [==============================] - 0s 3ms/step - loss: 21.6280 - mae: 21.6280\n",
      "Epoch 55/100\n",
      "2/2 [==============================] - 0s 3ms/step - loss: 15.9770 - mae: 15.9770\n",
      "Epoch 56/100\n",
      "2/2 [==============================] - 0s 3ms/step - loss: 10.2976 - mae: 10.2976\n",
      "Epoch 57/100\n",
      "2/2 [==============================] - 0s 4ms/step - loss: 9.7595 - mae: 9.7595\n",
      "Epoch 58/100\n",
      "2/2 [==============================] - 0s 3ms/step - loss: 9.0462 - mae: 9.0462\n",
      "Epoch 59/100\n",
      "2/2 [==============================] - 0s 3ms/step - loss: 8.2510 - mae: 8.2510\n",
      "Epoch 60/100\n",
      "2/2 [==============================] - 0s 3ms/step - loss: 9.3491 - mae: 9.3491\n",
      "Epoch 61/100\n",
      "2/2 [==============================] - 0s 3ms/step - loss: 11.1534 - mae: 11.1534\n",
      "Epoch 62/100\n",
      "2/2 [==============================] - 0s 3ms/step - loss: 12.0868 - mae: 12.0868\n",
      "Epoch 63/100\n",
      "2/2 [==============================] - 0s 3ms/step - loss: 7.2670 - mae: 7.2670\n",
      "Epoch 64/100\n",
      "2/2 [==============================] - 0s 2ms/step - loss: 12.4205 - mae: 12.4205\n",
      "Epoch 65/100\n",
      "2/2 [==============================] - 0s 3ms/step - loss: 10.4893 - mae: 10.4893\n",
      "Epoch 66/100\n",
      "2/2 [==============================] - 0s 3ms/step - loss: 15.6198 - mae: 15.6198\n",
      "Epoch 67/100\n",
      "2/2 [==============================] - 0s 4ms/step - loss: 10.0180 - mae: 10.0180\n",
      "Epoch 68/100\n",
      "2/2 [==============================] - 0s 2ms/step - loss: 9.0002 - mae: 9.0002\n",
      "Epoch 69/100\n",
      "2/2 [==============================] - 0s 3ms/step - loss: 12.4888 - mae: 12.4888\n",
      "Epoch 70/100\n",
      "2/2 [==============================] - 0s 4ms/step - loss: 8.9794 - mae: 8.9794\n",
      "Epoch 71/100\n",
      "2/2 [==============================] - 0s 4ms/step - loss: 9.9584 - mae: 9.9584\n",
      "Epoch 72/100\n",
      "2/2 [==============================] - 0s 3ms/step - loss: 9.9892 - mae: 9.9892\n",
      "Epoch 73/100\n",
      "2/2 [==============================] - 0s 3ms/step - loss: 12.4890 - mae: 12.4890\n",
      "Epoch 74/100\n",
      "2/2 [==============================] - 0s 3ms/step - loss: 10.5039 - mae: 10.5039\n",
      "Epoch 75/100\n",
      "2/2 [==============================] - 0s 4ms/step - loss: 9.6524 - mae: 9.6524\n",
      "Epoch 76/100\n",
      "2/2 [==============================] - 0s 4ms/step - loss: 11.1297 - mae: 11.1297\n",
      "Epoch 77/100\n",
      "2/2 [==============================] - 0s 3ms/step - loss: 8.2990 - mae: 8.2990\n",
      "Epoch 78/100\n",
      "2/2 [==============================] - 0s 3ms/step - loss: 9.0123 - mae: 9.0123\n",
      "Epoch 79/100\n",
      "2/2 [==============================] - 0s 2ms/step - loss: 19.6886 - mae: 19.6886\n",
      "Epoch 80/100\n",
      "2/2 [==============================] - 0s 3ms/step - loss: 17.8892 - mae: 17.8892\n",
      "Epoch 81/100\n",
      "2/2 [==============================] - 0s 4ms/step - loss: 7.0358 - mae: 7.0358\n",
      "Epoch 82/100\n",
      "2/2 [==============================] - 0s 3ms/step - loss: 10.4358 - mae: 10.4358\n",
      "Epoch 83/100\n",
      "2/2 [==============================] - 0s 3ms/step - loss: 9.8684 - mae: 9.8684\n",
      "Epoch 84/100\n",
      "2/2 [==============================] - 0s 3ms/step - loss: 7.9045 - mae: 7.9045\n",
      "Epoch 85/100\n",
      "2/2 [==============================] - 0s 2ms/step - loss: 9.3995 - mae: 9.3995\n",
      "Epoch 86/100\n",
      "2/2 [==============================] - 0s 3ms/step - loss: 9.2274 - mae: 9.2274\n",
      "Epoch 87/100\n",
      "2/2 [==============================] - 0s 2ms/step - loss: 12.0047 - mae: 12.0047\n",
      "Epoch 88/100\n",
      "2/2 [==============================] - 0s 2ms/step - loss: 10.6212 - mae: 10.6212\n",
      "Epoch 89/100\n",
      "2/2 [==============================] - 0s 4ms/step - loss: 7.2522 - mae: 7.2522\n",
      "Epoch 90/100\n",
      "2/2 [==============================] - 0s 3ms/step - loss: 12.7605 - mae: 12.7605\n",
      "Epoch 91/100\n",
      "2/2 [==============================] - 0s 3ms/step - loss: 7.3318 - mae: 7.3318\n",
      "Epoch 92/100\n",
      "2/2 [==============================] - 0s 3ms/step - loss: 7.7001 - mae: 7.7001\n",
      "Epoch 93/100\n",
      "2/2 [==============================] - 0s 3ms/step - loss: 7.1120 - mae: 7.1120\n",
      "Epoch 94/100\n",
      "2/2 [==============================] - 0s 2ms/step - loss: 12.6012 - mae: 12.6012\n",
      "Epoch 95/100\n",
      "2/2 [==============================] - 0s 2ms/step - loss: 10.0719 - mae: 10.0719\n",
      "Epoch 96/100\n",
      "2/2 [==============================] - 0s 2ms/step - loss: 9.3445 - mae: 9.3445\n",
      "Epoch 97/100\n",
      "2/2 [==============================] - 0s 3ms/step - loss: 12.6810 - mae: 12.6810\n",
      "Epoch 98/100\n",
      "2/2 [==============================] - 0s 3ms/step - loss: 8.6662 - mae: 8.6662\n",
      "Epoch 99/100\n",
      "2/2 [==============================] - 0s 3ms/step - loss: 9.4603 - mae: 9.4603\n",
      "Epoch 100/100\n",
      "2/2 [==============================] - 0s 3ms/step - loss: 8.6890 - mae: 8.6890\n"
     ]
    },
    {
     "data": {
      "text/plain": "<keras.callbacks.History at 0x7fa7f428ffd0>"
     },
     "execution_count": 34,
     "metadata": {},
     "output_type": "execute_result"
    }
   ],
   "source": [
    "# Set the random seed\n",
    "tf.random.set_seed(42)\n",
    "\n",
    "# 1. Create the model\n",
    "model_1 = tf.keras.Sequential([\n",
    "    tf.keras.layers.Dense(1, input_shape=(1,))\n",
    "])\n",
    "\n",
    "# 2. Compile the model\n",
    "model_1.compile(loss=tf.keras.losses.mae, optimizer=tf.keras.optimizers.SGD(),\n",
    "                metrics=['mae'])\n",
    "# 3. Fit the model\n",
    "model_1.fit(X_train, y_train, epochs=100)"
   ],
   "metadata": {
    "collapsed": false,
    "pycharm": {
     "name": "#%%\n"
    }
   }
  },
  {
   "cell_type": "code",
   "execution_count": 35,
   "outputs": [
    {
     "name": "stdout",
     "output_type": "stream",
     "text": [
      "WARNING:tensorflow:5 out of the last 5 calls to <function Model.make_predict_function.<locals>.predict_function at 0x7fa7f42612d0> triggered tf.function retracing. Tracing is expensive and the excessive number of tracings could be due to (1) creating @tf.function repeatedly in a loop, (2) passing tensors with different shapes, (3) passing Python objects instead of tensors. For (1), please define your @tf.function outside of the loop. For (2), @tf.function has reduce_retracing=True option that can avoid unnecessary retracing. For (3), please refer to https://www.tensorflow.org/guide/function#controlling_retracing and https://www.tensorflow.org/api_docs/python/tf/function for  more details.\n",
      "1/1 [==============================] - 0s 40ms/step\n"
     ]
    },
    {
     "data": {
      "text/plain": "<Figure size 1000x700 with 1 Axes>",
      "image/png": "[encoded data removed]"
     },
     "metadata": {},
     "output_type": "display_data"
    }
   ],
   "source": [
    "# Make and plot predictions for model_1\n",
    "y_preds1 = model_1.predict(X_test)\n",
    "plot_predictions(predictions=y_preds1)"
   ],
   "metadata": {
    "collapsed": false,
    "pycharm": {
     "name": "#%%\n"
    }
   }
  },
  {
   "cell_type": "code",
   "execution_count": 36,
   "outputs": [
    {
     "data": {
      "text/plain": "(<tf.Tensor: shape=(), dtype=float32, numpy=18.687397>,\n <tf.Tensor: shape=(), dtype=float32, numpy=351.38788>)"
     },
     "execution_count": 36,
     "metadata": {},
     "output_type": "execute_result"
    }
   ],
   "source": [
    "# Calculate model_1 evaluating metrics\n",
    "mae_1 = mae(y_test, y_preds1)\n",
    "mse_1 = mse(y_test, y_preds1)\n",
    "mae_1, mse_1"
   ],
   "metadata": {
    "collapsed": false,
    "pycharm": {
     "name": "#%%\n"
    }
   }
  },
  {
   "cell_type": "markdown",
   "source": [
    "**Build `model_2`**\n",
    "\n",
    "* 2 dense layers, trained for 100 epochs"
   ],
   "metadata": {
    "collapsed": false,
    "pycharm": {
     "name": "#%% md\n"
    }
   }
  },
  {
   "cell_type": "code",
   "execution_count": 37,
   "outputs": [
    {
     "name": "stdout",
     "output_type": "stream",
     "text": [
      "Epoch 1/100\n",
      "2/2 [==============================] - 0s 2ms/step - loss: 46.0869 - mse: 3087.6416\n",
      "Epoch 2/100\n",
      "2/2 [==============================] - 0s 3ms/step - loss: 30.6195 - mse: 1229.1255\n",
      "Epoch 3/100\n",
      "2/2 [==============================] - 0s 3ms/step - loss: 35.0530 - mse: 1870.9987\n",
      "Epoch 4/100\n",
      "2/2 [==============================] - 0s 6ms/step - loss: 30.4067 - mse: 1370.6052\n",
      "Epoch 5/100\n",
      "2/2 [==============================] - 0s 4ms/step - loss: 15.4917 - mse: 308.6440\n",
      "Epoch 6/100\n",
      "2/2 [==============================] - 0s 2ms/step - loss: 12.2963 - mse: 189.7032\n",
      "Epoch 7/100\n",
      "2/2 [==============================] - 0s 3ms/step - loss: 11.5881 - mse: 164.1679\n",
      "Epoch 8/100\n",
      "2/2 [==============================] - 0s 2ms/step - loss: 11.2533 - mse: 181.5793\n",
      "Epoch 9/100\n",
      "2/2 [==============================] - 0s 2ms/step - loss: 42.3583 - mse: 2871.3767\n",
      "Epoch 10/100\n",
      "2/2 [==============================] - 0s 3ms/step - loss: 29.5106 - mse: 1233.0300\n",
      "Epoch 11/100\n",
      "2/2 [==============================] - 0s 3ms/step - loss: 7.7194 - mse: 83.6026\n",
      "Epoch 12/100\n",
      "2/2 [==============================] - 0s 2ms/step - loss: 28.5596 - mse: 1116.2445\n",
      "Epoch 13/100\n",
      "2/2 [==============================] - 0s 2ms/step - loss: 11.5107 - mse: 145.3771\n",
      "Epoch 14/100\n",
      "2/2 [==============================] - 0s 4ms/step - loss: 30.3018 - mse: 1471.6433\n",
      "Epoch 15/100\n",
      "2/2 [==============================] - 0s 2ms/step - loss: 20.0532 - mse: 564.1868\n",
      "Epoch 16/100\n",
      "2/2 [==============================] - 0s 4ms/step - loss: 9.9290 - mse: 125.1894\n",
      "Epoch 17/100\n",
      "2/2 [==============================] - 0s 3ms/step - loss: 17.8787 - mse: 424.3336\n",
      "Epoch 18/100\n",
      "2/2 [==============================] - 0s 4ms/step - loss: 14.3561 - mse: 327.0676\n",
      "Epoch 19/100\n",
      "2/2 [==============================] - 0s 2ms/step - loss: 14.4641 - mse: 329.5029\n",
      "Epoch 20/100\n",
      "2/2 [==============================] - 0s 2ms/step - loss: 10.4739 - mse: 148.4859\n",
      "Epoch 21/100\n",
      "2/2 [==============================] - 0s 4ms/step - loss: 15.2404 - mse: 315.2938\n",
      "Epoch 22/100\n",
      "2/2 [==============================] - 0s 3ms/step - loss: 15.5839 - mse: 334.9174\n",
      "Epoch 23/100\n",
      "2/2 [==============================] - 0s 3ms/step - loss: 9.2326 - mse: 118.6451\n",
      "Epoch 24/100\n",
      "2/2 [==============================] - 0s 3ms/step - loss: 17.2360 - mse: 406.7676\n",
      "Epoch 25/100\n",
      "2/2 [==============================] - 0s 3ms/step - loss: 15.9177 - mse: 332.7180\n",
      "Epoch 26/100\n",
      "2/2 [==============================] - 0s 4ms/step - loss: 20.8824 - mse: 647.0134\n",
      "Epoch 27/100\n",
      "2/2 [==============================] - 0s 3ms/step - loss: 26.0704 - mse: 1061.4846\n",
      "Epoch 28/100\n",
      "2/2 [==============================] - 0s 3ms/step - loss: 18.5540 - mse: 545.0731\n",
      "Epoch 29/100\n",
      "2/2 [==============================] - 0s 3ms/step - loss: 9.2437 - mse: 97.1653\n",
      "Epoch 30/100\n",
      "2/2 [==============================] - 0s 3ms/step - loss: 29.1775 - mse: 1523.6130\n",
      "Epoch 31/100\n",
      "2/2 [==============================] - 0s 3ms/step - loss: 52.8560 - mse: 4997.2222\n",
      "Epoch 32/100\n",
      "2/2 [==============================] - 0s 3ms/step - loss: 11.9610 - mse: 209.3979\n",
      "Epoch 33/100\n",
      "2/2 [==============================] - 0s 4ms/step - loss: 15.5792 - mse: 334.6976\n",
      "Epoch 34/100\n",
      "2/2 [==============================] - 0s 4ms/step - loss: 12.6533 - mse: 212.2869\n",
      "Epoch 35/100\n",
      "2/2 [==============================] - 0s 3ms/step - loss: 9.2220 - mse: 92.3520\n",
      "Epoch 36/100\n",
      "2/2 [==============================] - 0s 3ms/step - loss: 16.5815 - mse: 400.0461\n",
      "Epoch 37/100\n",
      "2/2 [==============================] - 0s 3ms/step - loss: 11.0561 - mse: 192.3041\n",
      "Epoch 38/100\n",
      "2/2 [==============================] - 0s 3ms/step - loss: 18.1829 - mse: 435.0070\n",
      "Epoch 39/100\n",
      "2/2 [==============================] - 0s 4ms/step - loss: 19.1184 - mse: 531.2600\n",
      "Epoch 40/100\n",
      "2/2 [==============================] - 0s 4ms/step - loss: 20.4632 - mse: 611.8577\n",
      "Epoch 41/100\n",
      "2/2 [==============================] - 0s 3ms/step - loss: 14.8705 - mse: 277.5690\n",
      "Epoch 42/100\n",
      "2/2 [==============================] - 0s 3ms/step - loss: 12.2512 - mse: 184.9151\n",
      "Epoch 43/100\n",
      "2/2 [==============================] - 0s 2ms/step - loss: 10.7168 - mse: 165.5966\n",
      "Epoch 44/100\n",
      "2/2 [==============================] - 0s 3ms/step - loss: 22.9466 - mse: 824.3146\n",
      "Epoch 45/100\n",
      "2/2 [==============================] - 0s 3ms/step - loss: 10.3660 - mse: 128.7439\n",
      "Epoch 46/100\n",
      "2/2 [==============================] - 0s 2ms/step - loss: 11.7557 - mse: 180.0410\n",
      "Epoch 47/100\n",
      "2/2 [==============================] - 0s 3ms/step - loss: 9.6567 - mse: 153.6928\n",
      "Epoch 48/100\n",
      "2/2 [==============================] - 0s 3ms/step - loss: 17.2621 - mse: 404.2618\n",
      "Epoch 49/100\n",
      "2/2 [==============================] - 0s 3ms/step - loss: 9.5531 - mse: 99.3998\n",
      "Epoch 50/100\n",
      "2/2 [==============================] - 0s 3ms/step - loss: 13.7839 - mse: 258.4122\n",
      "Epoch 51/100\n",
      "2/2 [==============================] - 0s 3ms/step - loss: 11.5823 - mse: 154.2320\n",
      "Epoch 52/100\n",
      "2/2 [==============================] - 0s 3ms/step - loss: 30.4711 - mse: 1603.4993\n",
      "Epoch 53/100\n",
      "2/2 [==============================] - 0s 3ms/step - loss: 14.3174 - mse: 300.7722\n",
      "Epoch 54/100\n",
      "2/2 [==============================] - 0s 3ms/step - loss: 23.9075 - mse: 854.3505\n",
      "Epoch 55/100\n",
      "2/2 [==============================] - 0s 3ms/step - loss: 23.1243 - mse: 800.4318\n",
      "Epoch 56/100\n",
      "2/2 [==============================] - 0s 3ms/step - loss: 10.8611 - mse: 171.0409\n",
      "Epoch 57/100\n",
      "2/2 [==============================] - 0s 3ms/step - loss: 12.7145 - mse: 197.5490\n",
      "Epoch 58/100\n",
      "2/2 [==============================] - 0s 3ms/step - loss: 9.5829 - mse: 102.3663\n",
      "Epoch 59/100\n",
      "2/2 [==============================] - 0s 2ms/step - loss: 12.4906 - mse: 214.7153\n",
      "Epoch 60/100\n",
      "2/2 [==============================] - 0s 3ms/step - loss: 11.9003 - mse: 192.8883\n",
      "Epoch 61/100\n",
      "2/2 [==============================] - 0s 4ms/step - loss: 16.9885 - mse: 404.5020\n",
      "Epoch 62/100\n",
      "2/2 [==============================] - 0s 3ms/step - loss: 10.3974 - mse: 131.2375\n",
      "Epoch 63/100\n",
      "2/2 [==============================] - 0s 3ms/step - loss: 10.3503 - mse: 140.5616\n",
      "Epoch 64/100\n",
      "2/2 [==============================] - 0s 3ms/step - loss: 24.2199 - mse: 863.4904\n",
      "Epoch 65/100\n",
      "2/2 [==============================] - 0s 3ms/step - loss: 10.5309 - mse: 134.1714\n",
      "Epoch 66/100\n",
      "2/2 [==============================] - 0s 4ms/step - loss: 21.2300 - mse: 665.0685\n",
      "Epoch 67/100\n",
      "2/2 [==============================] - 0s 3ms/step - loss: 10.5299 - mse: 129.3473\n",
      "Epoch 68/100\n",
      "2/2 [==============================] - 0s 3ms/step - loss: 14.3885 - mse: 312.2538\n",
      "Epoch 69/100\n",
      "2/2 [==============================] - 0s 3ms/step - loss: 10.6231 - mse: 129.5553\n",
      "Epoch 70/100\n",
      "2/2 [==============================] - 0s 3ms/step - loss: 12.7094 - mse: 205.4682\n",
      "Epoch 71/100\n",
      "2/2 [==============================] - 0s 3ms/step - loss: 13.1392 - mse: 233.0964\n",
      "Epoch 72/100\n",
      "2/2 [==============================] - 0s 2ms/step - loss: 19.6605 - mse: 548.9703\n",
      "Epoch 73/100\n",
      "2/2 [==============================] - 0s 3ms/step - loss: 11.2017 - mse: 191.0199\n",
      "Epoch 74/100\n",
      "2/2 [==============================] - 0s 2ms/step - loss: 21.9525 - mse: 750.1906\n",
      "Epoch 75/100\n",
      "2/2 [==============================] - 0s 3ms/step - loss: 7.1876 - mse: 71.4103\n",
      "Epoch 76/100\n",
      "2/2 [==============================] - 0s 2ms/step - loss: 9.4124 - mse: 149.8841\n",
      "Epoch 77/100\n",
      "2/2 [==============================] - 0s 3ms/step - loss: 22.0300 - mse: 725.7195\n",
      "Epoch 78/100\n",
      "2/2 [==============================] - 0s 3ms/step - loss: 17.7349 - mse: 477.6999\n",
      "Epoch 79/100\n",
      "2/2 [==============================] - 0s 3ms/step - loss: 14.8850 - mse: 324.4621\n",
      "Epoch 80/100\n",
      "2/2 [==============================] - 0s 3ms/step - loss: 25.2304 - mse: 971.8682\n",
      "Epoch 81/100\n",
      "2/2 [==============================] - 0s 3ms/step - loss: 10.9509 - mse: 142.2565\n",
      "Epoch 82/100\n",
      "2/2 [==============================] - 0s 4ms/step - loss: 12.7270 - mse: 231.7431\n",
      "Epoch 83/100\n",
      "2/2 [==============================] - 0s 3ms/step - loss: 17.4910 - mse: 398.8193\n",
      "Epoch 84/100\n",
      "2/2 [==============================] - 0s 5ms/step - loss: 7.2813 - mse: 73.1613\n",
      "Epoch 85/100\n",
      "2/2 [==============================] - 0s 4ms/step - loss: 15.0184 - mse: 314.9020\n",
      "Epoch 86/100\n",
      "2/2 [==============================] - 0s 3ms/step - loss: 15.3294 - mse: 316.4931\n",
      "Epoch 87/100\n",
      "2/2 [==============================] - 0s 3ms/step - loss: 19.1933 - mse: 525.1056\n",
      "Epoch 88/100\n",
      "2/2 [==============================] - 0s 3ms/step - loss: 29.6020 - mse: 1266.8445\n",
      "Epoch 89/100\n",
      "2/2 [==============================] - 0s 3ms/step - loss: 10.1476 - mse: 124.1667\n",
      "Epoch 90/100\n",
      "2/2 [==============================] - 0s 3ms/step - loss: 21.3417 - mse: 652.3989\n",
      "Epoch 91/100\n",
      "2/2 [==============================] - 0s 3ms/step - loss: 10.5330 - mse: 162.6094\n",
      "Epoch 92/100\n",
      "2/2 [==============================] - 0s 3ms/step - loss: 18.2336 - mse: 455.4132\n",
      "Epoch 93/100\n",
      "2/2 [==============================] - 0s 3ms/step - loss: 6.8139 - mse: 67.2080\n",
      "Epoch 94/100\n",
      "2/2 [==============================] - 0s 4ms/step - loss: 13.0232 - mse: 230.7032\n",
      "Epoch 95/100\n",
      "2/2 [==============================] - 0s 2ms/step - loss: 18.4235 - mse: 500.7068\n",
      "Epoch 96/100\n",
      "2/2 [==============================] - 0s 3ms/step - loss: 10.3579 - mse: 178.3540\n",
      "Epoch 97/100\n",
      "2/2 [==============================] - 0s 3ms/step - loss: 14.4363 - mse: 314.9654\n",
      "Epoch 98/100\n",
      "2/2 [==============================] - 0s 3ms/step - loss: 6.5761 - mse: 60.4771\n",
      "Epoch 99/100\n",
      "2/2 [==============================] - 0s 3ms/step - loss: 12.5930 - mse: 229.3512\n",
      "Epoch 100/100\n",
      "2/2 [==============================] - 0s 3ms/step - loss: 19.4043 - mse: 553.0196\n"
     ]
    },
    {
     "data": {
      "text/plain": "<keras.callbacks.History at 0x7fa7f41c4130>"
     },
     "execution_count": 37,
     "metadata": {},
     "output_type": "execute_result"
    }
   ],
   "source": [
    "# Set the random seed\n",
    "tf.random.set_seed(42)\n",
    "\n",
    "# 1. Create the model\n",
    "model_2 = tf.keras.Sequential([\n",
    "    tf.keras.layers.Dense(10, input_shape=(1,)),\n",
    "    tf.keras.layers.Dense(1)\n",
    "])\n",
    "\n",
    "# 2. Compile the model\n",
    "model_2.compile(loss=tf.keras.losses.mae,\n",
    "                optimizer=tf.keras.optimizers.SGD(),\n",
    "                metrics='mse')\n",
    "\n",
    "# 3. Fit the model\n",
    "model_2.fit(X_train, y_train, epochs=100)"
   ],
   "metadata": {
    "collapsed": false,
    "pycharm": {
     "name": "#%%\n"
    }
   }
  },
  {
   "cell_type": "code",
   "execution_count": 38,
   "outputs": [
    {
     "name": "stdout",
     "output_type": "stream",
     "text": [
      "WARNING:tensorflow:6 out of the last 6 calls to <function Model.make_predict_function.<locals>.predict_function at 0x7fa7f4183490> triggered tf.function retracing. Tracing is expensive and the excessive number of tracings could be due to (1) creating @tf.function repeatedly in a loop, (2) passing tensors with different shapes, (3) passing Python objects instead of tensors. For (1), please define your @tf.function outside of the loop. For (2), @tf.function has reduce_retracing=True option that can avoid unnecessary retracing. For (3), please refer to https://www.tensorflow.org/guide/function#controlling_retracing and https://www.tensorflow.org/api_docs/python/tf/function for  more details.\n",
      "1/1 [==============================] - 0s 56ms/step\n"
     ]
    },
    {
     "data": {
      "text/plain": "<Figure size 1000x700 with 1 Axes>",
      "image/png": "[encoded data removed]"
     },
     "metadata": {},
     "output_type": "display_data"
    }
   ],
   "source": [
    "# Make predictions and plot them\n",
    "y_preds2 = model_2.predict(X_test)\n",
    "plot_predictions(predictions=y_preds2)"
   ],
   "metadata": {
    "collapsed": false,
    "pycharm": {
     "name": "#%%\n"
    }
   }
  },
  {
   "cell_type": "code",
   "execution_count": 45,
   "outputs": [],
   "source": [
    "# Calculate model_2 evaluating techniques\n",
    "mae_2, mse_2 = mae(y_test, y_preds2), mse(y_test, y_preds2)"
   ],
   "metadata": {
    "collapsed": false,
    "pycharm": {
     "name": "#%%\n"
    }
   }
  },
  {
   "cell_type": "markdown",
   "source": [
    "**`Build model_3`**\n",
    "\n",
    "* 2 layers, trained for 500 epochs\n",
    "\n"
   ],
   "metadata": {
    "collapsed": false,
    "pycharm": {
     "name": "#%% md\n"
    }
   }
  },
  {
   "cell_type": "code",
   "execution_count": 40,
   "outputs": [
    {
     "name": "stdout",
     "output_type": "stream",
     "text": [
      "Epoch 1/500\n",
      "2/2 [==============================] - 0s 2ms/step - loss: 21.6554 - mae: 21.6554\n",
      "Epoch 2/500\n",
      "2/2 [==============================] - 0s 3ms/step - loss: 21.6474 - mae: 21.6474\n",
      "Epoch 3/500\n",
      "2/2 [==============================] - 0s 3ms/step - loss: 27.9309 - mae: 27.9309\n",
      "Epoch 4/500\n",
      "2/2 [==============================] - 0s 3ms/step - loss: 26.7082 - mae: 26.7082\n",
      "Epoch 5/500\n",
      "2/2 [==============================] - 0s 3ms/step - loss: 14.6093 - mae: 14.6093\n",
      "Epoch 6/500\n",
      "2/2 [==============================] - 0s 3ms/step - loss: 11.6302 - mae: 11.6302\n",
      "Epoch 7/500\n",
      "2/2 [==============================] - 0s 3ms/step - loss: 10.9710 - mae: 10.9710\n",
      "Epoch 8/500\n",
      "2/2 [==============================] - 0s 3ms/step - loss: 11.0034 - mae: 11.0034\n",
      "Epoch 9/500\n",
      "2/2 [==============================] - 0s 3ms/step - loss: 39.4742 - mae: 39.4742\n",
      "Epoch 10/500\n",
      "2/2 [==============================] - 0s 2ms/step - loss: 26.9958 - mae: 26.9958\n",
      "Epoch 11/500\n",
      "2/2 [==============================] - 0s 3ms/step - loss: 11.0304 - mae: 11.0304\n",
      "Epoch 12/500\n",
      "2/2 [==============================] - 0s 4ms/step - loss: 24.4571 - mae: 24.4571\n",
      "Epoch 13/500\n",
      "2/2 [==============================] - 0s 3ms/step - loss: 19.1642 - mae: 19.1642\n",
      "Epoch 14/500\n",
      "2/2 [==============================] - 0s 3ms/step - loss: 23.3520 - mae: 23.3520\n",
      "Epoch 15/500\n",
      "2/2 [==============================] - 0s 3ms/step - loss: 15.1897 - mae: 15.1897\n",
      "Epoch 16/500\n",
      "2/2 [==============================] - 0s 2ms/step - loss: 11.3237 - mae: 11.3237\n",
      "Epoch 17/500\n",
      "2/2 [==============================] - 0s 2ms/step - loss: 23.0942 - mae: 23.0942\n",
      "Epoch 18/500\n",
      "2/2 [==============================] - 0s 2ms/step - loss: 11.7366 - mae: 11.7366\n",
      "Epoch 19/500\n",
      "2/2 [==============================] - 0s 2ms/step - loss: 16.3880 - mae: 16.3880\n",
      "Epoch 20/500\n",
      "2/2 [==============================] - 0s 4ms/step - loss: 8.2462 - mae: 8.2462\n",
      "Epoch 21/500\n",
      "2/2 [==============================] - 0s 4ms/step - loss: 14.4532 - mae: 14.4532\n",
      "Epoch 22/500\n",
      "2/2 [==============================] - 0s 4ms/step - loss: 12.8718 - mae: 12.8718\n",
      "Epoch 23/500\n",
      "2/2 [==============================] - 0s 3ms/step - loss: 15.5036 - mae: 15.5036\n",
      "Epoch 24/500\n",
      "2/2 [==============================] - 0s 3ms/step - loss: 15.2943 - mae: 15.2943\n",
      "Epoch 25/500\n",
      "2/2 [==============================] - 0s 3ms/step - loss: 14.3566 - mae: 14.3566\n",
      "Epoch 26/500\n",
      "2/2 [==============================] - 0s 3ms/step - loss: 19.3784 - mae: 19.3784\n",
      "Epoch 27/500\n",
      "2/2 [==============================] - 0s 3ms/step - loss: 11.4322 - mae: 11.4322\n",
      "Epoch 28/500\n",
      "2/2 [==============================] - 0s 3ms/step - loss: 28.9888 - mae: 28.9888\n",
      "Epoch 29/500\n",
      "2/2 [==============================] - 0s 4ms/step - loss: 9.2479 - mae: 9.2479\n",
      "Epoch 30/500\n",
      "2/2 [==============================] - 0s 2ms/step - loss: 29.7487 - mae: 29.7487\n",
      "Epoch 31/500\n",
      "2/2 [==============================] - 0s 4ms/step - loss: 53.9675 - mae: 53.9675\n",
      "Epoch 32/500\n",
      "2/2 [==============================] - 0s 3ms/step - loss: 9.5469 - mae: 9.5469\n",
      "Epoch 33/500\n",
      "2/2 [==============================] - 0s 3ms/step - loss: 12.1355 - mae: 12.1355\n",
      "Epoch 34/500\n",
      "2/2 [==============================] - 0s 2ms/step - loss: 23.7990 - mae: 23.7990\n",
      "Epoch 35/500\n",
      "2/2 [==============================] - 0s 3ms/step - loss: 12.6356 - mae: 12.6356\n",
      "Epoch 36/500\n",
      "2/2 [==============================] - 0s 3ms/step - loss: 21.5679 - mae: 21.5679\n",
      "Epoch 37/500\n",
      "2/2 [==============================] - 0s 3ms/step - loss: 11.3439 - mae: 11.3439\n",
      "Epoch 38/500\n",
      "2/2 [==============================] - 0s 3ms/step - loss: 13.4072 - mae: 13.4072\n",
      "Epoch 39/500\n",
      "2/2 [==============================] - 0s 3ms/step - loss: 10.7608 - mae: 10.7608\n",
      "Epoch 40/500\n",
      "2/2 [==============================] - 0s 4ms/step - loss: 16.5191 - mae: 16.5191\n",
      "Epoch 41/500\n",
      "2/2 [==============================] - 0s 3ms/step - loss: 10.9320 - mae: 10.9320\n",
      "Epoch 42/500\n",
      "2/2 [==============================] - 0s 4ms/step - loss: 9.2694 - mae: 9.2694\n",
      "Epoch 43/500\n",
      "2/2 [==============================] - 0s 3ms/step - loss: 9.5818 - mae: 9.5818\n",
      "Epoch 44/500\n",
      "2/2 [==============================] - 0s 3ms/step - loss: 27.8833 - mae: 27.8833\n",
      "Epoch 45/500\n",
      "2/2 [==============================] - 0s 4ms/step - loss: 11.2527 - mae: 11.2527\n",
      "Epoch 46/500\n",
      "2/2 [==============================] - 0s 3ms/step - loss: 13.8403 - mae: 13.8403\n",
      "Epoch 47/500\n",
      "2/2 [==============================] - 0s 3ms/step - loss: 11.9253 - mae: 11.9253\n",
      "Epoch 48/500\n",
      "2/2 [==============================] - 0s 4ms/step - loss: 16.9625 - mae: 16.9625\n",
      "Epoch 49/500\n",
      "2/2 [==============================] - 0s 3ms/step - loss: 9.7662 - mae: 9.7662\n",
      "Epoch 50/500\n",
      "2/2 [==============================] - 0s 3ms/step - loss: 14.1547 - mae: 14.1547\n",
      "Epoch 51/500\n",
      "2/2 [==============================] - 0s 3ms/step - loss: 11.7300 - mae: 11.7300\n",
      "Epoch 52/500\n",
      "2/2 [==============================] - 0s 3ms/step - loss: 31.3662 - mae: 31.3662\n",
      "Epoch 53/500\n",
      "2/2 [==============================] - 0s 2ms/step - loss: 14.7143 - mae: 14.7143\n",
      "Epoch 54/500\n",
      "2/2 [==============================] - 0s 3ms/step - loss: 24.5985 - mae: 24.5985\n",
      "Epoch 55/500\n",
      "2/2 [==============================] - 0s 2ms/step - loss: 23.8797 - mae: 23.8797\n",
      "Epoch 56/500\n",
      "2/2 [==============================] - 0s 3ms/step - loss: 11.1128 - mae: 11.1128\n",
      "Epoch 57/500\n",
      "2/2 [==============================] - 0s 2ms/step - loss: 13.0507 - mae: 13.0507\n",
      "Epoch 58/500\n",
      "2/2 [==============================] - 0s 2ms/step - loss: 9.7747 - mae: 9.7747\n",
      "Epoch 59/500\n",
      "2/2 [==============================] - 0s 3ms/step - loss: 13.2315 - mae: 13.2315\n",
      "Epoch 60/500\n",
      "2/2 [==============================] - 0s 3ms/step - loss: 10.8279 - mae: 10.8279\n",
      "Epoch 61/500\n",
      "2/2 [==============================] - 0s 3ms/step - loss: 13.4105 - mae: 13.4105\n",
      "Epoch 62/500\n",
      "2/2 [==============================] - 0s 2ms/step - loss: 17.3821 - mae: 17.3821\n",
      "Epoch 63/500\n",
      "2/2 [==============================] - 0s 4ms/step - loss: 9.1338 - mae: 9.1338\n",
      "Epoch 64/500\n",
      "2/2 [==============================] - 0s 2ms/step - loss: 18.2569 - mae: 18.2569\n",
      "Epoch 65/500\n",
      "2/2 [==============================] - 0s 3ms/step - loss: 10.0889 - mae: 10.0889\n",
      "Epoch 66/500\n",
      "2/2 [==============================] - 0s 3ms/step - loss: 24.0922 - mae: 24.0922\n",
      "Epoch 67/500\n",
      "2/2 [==============================] - 0s 3ms/step - loss: 10.8393 - mae: 10.8393\n",
      "Epoch 68/500\n",
      "2/2 [==============================] - 0s 2ms/step - loss: 10.7348 - mae: 10.7348\n",
      "Epoch 69/500\n",
      "2/2 [==============================] - 0s 3ms/step - loss: 23.0672 - mae: 23.0672\n",
      "Epoch 70/500\n",
      "2/2 [==============================] - 0s 3ms/step - loss: 8.8457 - mae: 8.8457\n",
      "Epoch 71/500\n",
      "2/2 [==============================] - 0s 2ms/step - loss: 16.0784 - mae: 16.0784\n",
      "Epoch 72/500\n",
      "2/2 [==============================] - 0s 3ms/step - loss: 7.7596 - mae: 7.7596\n",
      "Epoch 73/500\n",
      "2/2 [==============================] - 0s 4ms/step - loss: 10.6328 - mae: 10.6328\n",
      "Epoch 74/500\n",
      "2/2 [==============================] - 0s 4ms/step - loss: 27.9068 - mae: 27.9068\n",
      "Epoch 75/500\n",
      "2/2 [==============================] - 0s 3ms/step - loss: 10.4684 - mae: 10.4684\n",
      "Epoch 76/500\n",
      "2/2 [==============================] - 0s 3ms/step - loss: 13.4663 - mae: 13.4663\n",
      "Epoch 77/500\n",
      "2/2 [==============================] - 0s 3ms/step - loss: 19.3245 - mae: 19.3245\n",
      "Epoch 78/500\n",
      "2/2 [==============================] - 0s 3ms/step - loss: 8.9031 - mae: 8.9031\n",
      "Epoch 79/500\n",
      "2/2 [==============================] - 0s 2ms/step - loss: 27.9942 - mae: 27.9942\n",
      "Epoch 80/500\n",
      "2/2 [==============================] - 0s 3ms/step - loss: 30.0830 - mae: 30.0830\n",
      "Epoch 81/500\n",
      "2/2 [==============================] - 0s 3ms/step - loss: 13.8617 - mae: 13.8617\n",
      "Epoch 82/500\n",
      "2/2 [==============================] - 0s 3ms/step - loss: 15.7223 - mae: 15.7223\n",
      "Epoch 83/500\n",
      "2/2 [==============================] - 0s 3ms/step - loss: 11.2127 - mae: 11.2127\n",
      "Epoch 84/500\n",
      "2/2 [==============================] - 0s 3ms/step - loss: 7.3152 - mae: 7.3152\n",
      "Epoch 85/500\n",
      "2/2 [==============================] - 0s 3ms/step - loss: 15.1432 - mae: 15.1432\n",
      "Epoch 86/500\n",
      "2/2 [==============================] - 0s 3ms/step - loss: 15.4290 - mae: 15.4290\n",
      "Epoch 87/500\n",
      "2/2 [==============================] - 0s 3ms/step - loss: 19.3896 - mae: 19.3896\n",
      "Epoch 88/500\n",
      "2/2 [==============================] - 0s 3ms/step - loss: 29.0939 - mae: 29.0939\n",
      "Epoch 89/500\n",
      "2/2 [==============================] - 0s 4ms/step - loss: 10.0782 - mae: 10.0782\n",
      "Epoch 90/500\n",
      "2/2 [==============================] - 0s 3ms/step - loss: 20.9270 - mae: 20.9270\n",
      "Epoch 91/500\n",
      "2/2 [==============================] - 0s 3ms/step - loss: 10.4382 - mae: 10.4382\n",
      "Epoch 92/500\n",
      "2/2 [==============================] - 0s 4ms/step - loss: 17.8634 - mae: 17.8634\n",
      "Epoch 93/500\n",
      "2/2 [==============================] - 0s 4ms/step - loss: 6.5689 - mae: 6.5689\n",
      "Epoch 94/500\n",
      "2/2 [==============================] - 0s 3ms/step - loss: 11.0931 - mae: 11.0931\n",
      "Epoch 95/500\n",
      "2/2 [==============================] - 0s 3ms/step - loss: 24.2128 - mae: 24.2128\n",
      "Epoch 96/500\n",
      "2/2 [==============================] - 0s 3ms/step - loss: 10.6978 - mae: 10.6978\n",
      "Epoch 97/500\n",
      "2/2 [==============================] - 0s 4ms/step - loss: 15.2574 - mae: 15.2574\n",
      "Epoch 98/500\n",
      "2/2 [==============================] - 0s 3ms/step - loss: 8.2306 - mae: 8.2306\n",
      "Epoch 99/500\n",
      "2/2 [==============================] - 0s 4ms/step - loss: 16.4335 - mae: 16.4335\n",
      "Epoch 100/500\n",
      "2/2 [==============================] - 0s 3ms/step - loss: 13.8439 - mae: 13.8439\n",
      "Epoch 101/500\n",
      "2/2 [==============================] - 0s 3ms/step - loss: 17.7961 - mae: 17.7961\n",
      "Epoch 102/500\n",
      "2/2 [==============================] - 0s 3ms/step - loss: 10.9923 - mae: 10.9923\n",
      "Epoch 103/500\n",
      "2/2 [==============================] - 0s 3ms/step - loss: 9.2647 - mae: 9.2647\n",
      "Epoch 104/500\n",
      "2/2 [==============================] - 0s 3ms/step - loss: 24.3784 - mae: 24.3784\n",
      "Epoch 105/500\n",
      "2/2 [==============================] - 0s 4ms/step - loss: 11.3909 - mae: 11.3909\n",
      "Epoch 106/500\n",
      "2/2 [==============================] - 0s 3ms/step - loss: 9.9647 - mae: 9.9647\n",
      "Epoch 107/500\n",
      "2/2 [==============================] - 0s 3ms/step - loss: 21.8240 - mae: 21.8240\n",
      "Epoch 108/500\n",
      "2/2 [==============================] - 0s 3ms/step - loss: 8.0052 - mae: 8.0052\n",
      "Epoch 109/500\n",
      "2/2 [==============================] - 0s 3ms/step - loss: 12.6690 - mae: 12.6690\n",
      "Epoch 110/500\n",
      "2/2 [==============================] - 0s 2ms/step - loss: 9.0934 - mae: 9.0934\n",
      "Epoch 111/500\n",
      "2/2 [==============================] - 0s 3ms/step - loss: 12.6392 - mae: 12.6392\n",
      "Epoch 112/500\n",
      "2/2 [==============================] - 0s 2ms/step - loss: 15.0376 - mae: 15.0376\n",
      "Epoch 113/500\n",
      "2/2 [==============================] - 0s 3ms/step - loss: 13.5811 - mae: 13.5811\n",
      "Epoch 114/500\n",
      "2/2 [==============================] - 0s 3ms/step - loss: 20.1390 - mae: 20.1390\n",
      "Epoch 115/500\n",
      "2/2 [==============================] - 0s 3ms/step - loss: 10.8948 - mae: 10.8948\n",
      "Epoch 116/500\n",
      "2/2 [==============================] - 0s 3ms/step - loss: 22.3375 - mae: 22.3375\n",
      "Epoch 117/500\n",
      "2/2 [==============================] - 0s 2ms/step - loss: 9.3370 - mae: 9.3370\n",
      "Epoch 118/500\n",
      "2/2 [==============================] - 0s 3ms/step - loss: 10.3576 - mae: 10.3576\n",
      "Epoch 119/500\n",
      "2/2 [==============================] - 0s 3ms/step - loss: 8.0357 - mae: 8.0357\n",
      "Epoch 120/500\n",
      "2/2 [==============================] - 0s 3ms/step - loss: 37.6868 - mae: 37.6868\n",
      "Epoch 121/500\n",
      "2/2 [==============================] - 0s 3ms/step - loss: 10.6636 - mae: 10.6636\n",
      "Epoch 122/500\n",
      "2/2 [==============================] - 0s 3ms/step - loss: 28.2475 - mae: 28.2475\n",
      "Epoch 123/500\n",
      "2/2 [==============================] - 0s 2ms/step - loss: 32.8221 - mae: 32.8221\n",
      "Epoch 124/500\n",
      "2/2 [==============================] - 0s 3ms/step - loss: 19.5836 - mae: 19.5836\n",
      "Epoch 125/500\n",
      "2/2 [==============================] - 0s 3ms/step - loss: 7.0642 - mae: 7.0642\n",
      "Epoch 126/500\n",
      "2/2 [==============================] - 0s 3ms/step - loss: 21.7316 - mae: 21.7316\n",
      "Epoch 127/500\n",
      "2/2 [==============================] - 0s 3ms/step - loss: 8.0145 - mae: 8.0145\n",
      "Epoch 128/500\n",
      "2/2 [==============================] - 0s 3ms/step - loss: 20.9687 - mae: 20.9687\n",
      "Epoch 129/500\n",
      "2/2 [==============================] - 0s 3ms/step - loss: 9.0416 - mae: 9.0416\n",
      "Epoch 130/500\n",
      "2/2 [==============================] - 0s 3ms/step - loss: 23.9221 - mae: 23.9221\n",
      "Epoch 131/500\n",
      "2/2 [==============================] - 0s 4ms/step - loss: 9.7733 - mae: 9.7733\n",
      "Epoch 132/500\n",
      "2/2 [==============================] - 0s 2ms/step - loss: 18.1845 - mae: 18.1845\n",
      "Epoch 133/500\n",
      "2/2 [==============================] - 0s 3ms/step - loss: 7.6081 - mae: 7.6081\n",
      "Epoch 134/500\n",
      "2/2 [==============================] - 0s 2ms/step - loss: 18.4483 - mae: 18.4483\n",
      "Epoch 135/500\n",
      "2/2 [==============================] - 0s 3ms/step - loss: 10.5347 - mae: 10.5347\n",
      "Epoch 136/500\n",
      "2/2 [==============================] - 0s 3ms/step - loss: 18.1473 - mae: 18.1473\n",
      "Epoch 137/500\n",
      "2/2 [==============================] - 0s 3ms/step - loss: 22.9799 - mae: 22.9799\n",
      "Epoch 138/500\n",
      "2/2 [==============================] - 0s 3ms/step - loss: 9.0996 - mae: 9.0996\n",
      "Epoch 139/500\n",
      "2/2 [==============================] - 0s 2ms/step - loss: 8.9066 - mae: 8.9066\n",
      "Epoch 140/500\n",
      "2/2 [==============================] - 0s 3ms/step - loss: 16.3102 - mae: 16.3102\n",
      "Epoch 141/500\n",
      "2/2 [==============================] - 0s 3ms/step - loss: 8.4585 - mae: 8.4585\n",
      "Epoch 142/500\n",
      "2/2 [==============================] - 0s 3ms/step - loss: 36.5534 - mae: 36.5534\n",
      "Epoch 143/500\n",
      "2/2 [==============================] - 0s 3ms/step - loss: 25.2867 - mae: 25.2867\n",
      "Epoch 144/500\n",
      "2/2 [==============================] - 0s 3ms/step - loss: 10.4824 - mae: 10.4824\n",
      "Epoch 145/500\n",
      "2/2 [==============================] - 0s 3ms/step - loss: 25.8040 - mae: 25.8040\n",
      "Epoch 146/500\n",
      "2/2 [==============================] - 0s 3ms/step - loss: 10.0128 - mae: 10.0128\n",
      "Epoch 147/500\n",
      "2/2 [==============================] - 0s 3ms/step - loss: 14.7096 - mae: 14.7096\n",
      "Epoch 148/500\n",
      "2/2 [==============================] - 0s 3ms/step - loss: 17.8086 - mae: 17.8086\n",
      "Epoch 149/500\n",
      "2/2 [==============================] - 0s 3ms/step - loss: 8.4970 - mae: 8.4970\n",
      "Epoch 150/500\n",
      "2/2 [==============================] - 0s 3ms/step - loss: 7.6443 - mae: 7.6443\n",
      "Epoch 151/500\n",
      "2/2 [==============================] - 0s 3ms/step - loss: 18.9323 - mae: 18.9323\n",
      "Epoch 152/500\n",
      "2/2 [==============================] - 0s 2ms/step - loss: 10.4965 - mae: 10.4965\n",
      "Epoch 153/500\n",
      "2/2 [==============================] - 0s 3ms/step - loss: 30.5057 - mae: 30.5057\n",
      "Epoch 154/500\n",
      "2/2 [==============================] - 0s 3ms/step - loss: 9.9758 - mae: 9.9758\n",
      "Epoch 155/500\n",
      "2/2 [==============================] - 0s 3ms/step - loss: 15.7244 - mae: 15.7244\n",
      "Epoch 156/500\n",
      "2/2 [==============================] - 0s 3ms/step - loss: 17.6108 - mae: 17.6108\n",
      "Epoch 157/500\n",
      "2/2 [==============================] - 0s 3ms/step - loss: 31.2721 - mae: 31.2721\n",
      "Epoch 158/500\n",
      "2/2 [==============================] - 0s 2ms/step - loss: 10.2739 - mae: 10.2739\n",
      "Epoch 159/500\n",
      "2/2 [==============================] - 0s 2ms/step - loss: 8.7225 - mae: 8.7225\n",
      "Epoch 160/500\n",
      "2/2 [==============================] - 0s 3ms/step - loss: 20.8588 - mae: 20.8588\n",
      "Epoch 161/500\n",
      "2/2 [==============================] - 0s 3ms/step - loss: 11.8689 - mae: 11.8689\n",
      "Epoch 162/500\n",
      "2/2 [==============================] - 0s 3ms/step - loss: 21.8382 - mae: 21.8382\n",
      "Epoch 163/500\n",
      "2/2 [==============================] - 0s 2ms/step - loss: 19.5076 - mae: 19.5076\n",
      "Epoch 164/500\n",
      "2/2 [==============================] - 0s 2ms/step - loss: 11.4194 - mae: 11.4194\n",
      "Epoch 165/500\n",
      "2/2 [==============================] - 0s 3ms/step - loss: 11.6226 - mae: 11.6226\n",
      "Epoch 166/500\n",
      "2/2 [==============================] - 0s 3ms/step - loss: 21.3744 - mae: 21.3744\n",
      "Epoch 167/500\n",
      "2/2 [==============================] - 0s 4ms/step - loss: 26.8438 - mae: 26.8438\n",
      "Epoch 168/500\n",
      "2/2 [==============================] - 0s 3ms/step - loss: 10.0195 - mae: 10.0195\n",
      "Epoch 169/500\n",
      "2/2 [==============================] - 0s 3ms/step - loss: 23.0772 - mae: 23.0772\n",
      "Epoch 170/500\n",
      "2/2 [==============================] - 0s 2ms/step - loss: 10.0983 - mae: 10.0983\n",
      "Epoch 171/500\n",
      "2/2 [==============================] - 0s 3ms/step - loss: 17.8423 - mae: 17.8423\n",
      "Epoch 172/500\n",
      "2/2 [==============================] - 0s 2ms/step - loss: 29.3356 - mae: 29.3356\n",
      "Epoch 173/500\n",
      "2/2 [==============================] - 0s 3ms/step - loss: 16.9403 - mae: 16.9403\n",
      "Epoch 174/500\n",
      "2/2 [==============================] - 0s 3ms/step - loss: 11.1958 - mae: 11.1958\n",
      "Epoch 175/500\n",
      "2/2 [==============================] - 0s 4ms/step - loss: 27.4609 - mae: 27.4609\n",
      "Epoch 176/500\n",
      "2/2 [==============================] - 0s 3ms/step - loss: 8.4581 - mae: 8.4581\n",
      "Epoch 177/500\n",
      "2/2 [==============================] - 0s 3ms/step - loss: 9.4173 - mae: 9.4173\n",
      "Epoch 178/500\n",
      "2/2 [==============================] - 0s 3ms/step - loss: 18.5286 - mae: 18.5286\n",
      "Epoch 179/500\n",
      "2/2 [==============================] - 0s 3ms/step - loss: 10.4425 - mae: 10.4425\n",
      "Epoch 180/500\n",
      "2/2 [==============================] - 0s 3ms/step - loss: 8.0169 - mae: 8.0169\n",
      "Epoch 181/500\n",
      "2/2 [==============================] - 0s 3ms/step - loss: 17.6999 - mae: 17.6999\n",
      "Epoch 182/500\n",
      "2/2 [==============================] - 0s 3ms/step - loss: 11.1960 - mae: 11.1960\n",
      "Epoch 183/500\n",
      "2/2 [==============================] - 0s 3ms/step - loss: 12.3610 - mae: 12.3610\n",
      "Epoch 184/500\n",
      "2/2 [==============================] - 0s 3ms/step - loss: 27.2347 - mae: 27.2347\n",
      "Epoch 185/500\n",
      "2/2 [==============================] - 0s 2ms/step - loss: 7.6074 - mae: 7.6074\n",
      "Epoch 186/500\n",
      "2/2 [==============================] - 0s 2ms/step - loss: 16.0096 - mae: 16.0096\n",
      "Epoch 187/500\n",
      "2/2 [==============================] - 0s 3ms/step - loss: 8.6130 - mae: 8.6130\n",
      "Epoch 188/500\n",
      "2/2 [==============================] - 0s 2ms/step - loss: 28.6888 - mae: 28.6888\n",
      "Epoch 189/500\n",
      "2/2 [==============================] - 0s 3ms/step - loss: 13.1986 - mae: 13.1986\n",
      "Epoch 190/500\n",
      "2/2 [==============================] - 0s 3ms/step - loss: 18.3453 - mae: 18.3453\n",
      "Epoch 191/500\n",
      "2/2 [==============================] - 0s 3ms/step - loss: 13.7798 - mae: 13.7798\n",
      "Epoch 192/500\n",
      "2/2 [==============================] - 0s 3ms/step - loss: 13.7479 - mae: 13.7479\n",
      "Epoch 193/500\n",
      "2/2 [==============================] - 0s 2ms/step - loss: 28.6140 - mae: 28.6140\n",
      "Epoch 194/500\n",
      "2/2 [==============================] - 0s 3ms/step - loss: 7.0850 - mae: 7.0850\n",
      "Epoch 195/500\n",
      "2/2 [==============================] - 0s 3ms/step - loss: 7.8166 - mae: 7.8166\n",
      "Epoch 196/500\n",
      "2/2 [==============================] - 0s 3ms/step - loss: 26.0464 - mae: 26.0464\n",
      "Epoch 197/500\n",
      "2/2 [==============================] - 0s 2ms/step - loss: 11.5984 - mae: 11.5984\n",
      "Epoch 198/500\n",
      "2/2 [==============================] - 0s 3ms/step - loss: 18.8869 - mae: 18.8869\n",
      "Epoch 199/500\n",
      "2/2 [==============================] - 0s 3ms/step - loss: 16.6897 - mae: 16.6897\n",
      "Epoch 200/500\n",
      "2/2 [==============================] - 0s 2ms/step - loss: 12.3853 - mae: 12.3853\n",
      "Epoch 201/500\n",
      "2/2 [==============================] - 0s 3ms/step - loss: 7.1378 - mae: 7.1378\n",
      "Epoch 202/500\n",
      "2/2 [==============================] - 0s 3ms/step - loss: 22.8999 - mae: 22.8999\n",
      "Epoch 203/500\n",
      "2/2 [==============================] - 0s 3ms/step - loss: 9.0191 - mae: 9.0191\n",
      "Epoch 204/500\n",
      "2/2 [==============================] - 0s 3ms/step - loss: 18.8497 - mae: 18.8497\n",
      "Epoch 205/500\n",
      "2/2 [==============================] - 0s 3ms/step - loss: 9.4163 - mae: 9.4163\n",
      "Epoch 206/500\n",
      "2/2 [==============================] - 0s 2ms/step - loss: 10.4778 - mae: 10.4778\n",
      "Epoch 207/500\n",
      "2/2 [==============================] - 0s 2ms/step - loss: 21.0640 - mae: 21.0640\n",
      "Epoch 208/500\n",
      "2/2 [==============================] - 0s 3ms/step - loss: 16.4715 - mae: 16.4715\n",
      "Epoch 209/500\n",
      "2/2 [==============================] - 0s 2ms/step - loss: 14.3458 - mae: 14.3458\n",
      "Epoch 210/500\n",
      "2/2 [==============================] - 0s 3ms/step - loss: 17.3100 - mae: 17.3100\n",
      "Epoch 211/500\n",
      "2/2 [==============================] - 0s 2ms/step - loss: 10.2899 - mae: 10.2899\n",
      "Epoch 212/500\n",
      "2/2 [==============================] - 0s 3ms/step - loss: 19.7943 - mae: 19.7943\n",
      "Epoch 213/500\n",
      "2/2 [==============================] - 0s 3ms/step - loss: 14.6704 - mae: 14.6704\n",
      "Epoch 214/500\n",
      "2/2 [==============================] - 0s 4ms/step - loss: 14.3558 - mae: 14.3558\n",
      "Epoch 215/500\n",
      "2/2 [==============================] - 0s 3ms/step - loss: 22.8092 - mae: 22.8092\n",
      "Epoch 216/500\n",
      "2/2 [==============================] - 0s 3ms/step - loss: 14.5137 - mae: 14.5137\n",
      "Epoch 217/500\n",
      "2/2 [==============================] - 0s 3ms/step - loss: 9.2612 - mae: 9.2612\n",
      "Epoch 218/500\n",
      "2/2 [==============================] - 0s 2ms/step - loss: 11.8577 - mae: 11.8577\n",
      "Epoch 219/500\n",
      "2/2 [==============================] - 0s 3ms/step - loss: 6.8373 - mae: 6.8373\n",
      "Epoch 220/500\n",
      "2/2 [==============================] - 0s 3ms/step - loss: 7.1426 - mae: 7.1426\n",
      "Epoch 221/500\n",
      "2/2 [==============================] - 0s 3ms/step - loss: 38.5942 - mae: 38.5942\n",
      "Epoch 222/500\n",
      "2/2 [==============================] - 0s 3ms/step - loss: 38.6376 - mae: 38.6376\n",
      "Epoch 223/500\n",
      "2/2 [==============================] - 0s 3ms/step - loss: 5.0923 - mae: 5.0923\n",
      "Epoch 224/500\n",
      "2/2 [==============================] - 0s 3ms/step - loss: 11.2577 - mae: 11.2577\n",
      "Epoch 225/500\n",
      "2/2 [==============================] - 0s 6ms/step - loss: 31.1004 - mae: 31.1004\n",
      "Epoch 226/500\n",
      "2/2 [==============================] - 0s 3ms/step - loss: 12.2881 - mae: 12.2881\n",
      "Epoch 227/500\n",
      "2/2 [==============================] - 0s 3ms/step - loss: 19.2516 - mae: 19.2516\n",
      "Epoch 228/500\n",
      "2/2 [==============================] - 0s 3ms/step - loss: 11.3030 - mae: 11.3030\n",
      "Epoch 229/500\n",
      "2/2 [==============================] - 0s 3ms/step - loss: 13.7181 - mae: 13.7181\n",
      "Epoch 230/500\n",
      "2/2 [==============================] - 0s 3ms/step - loss: 9.6206 - mae: 9.6206\n",
      "Epoch 231/500\n",
      "2/2 [==============================] - 0s 3ms/step - loss: 19.2613 - mae: 19.2613\n",
      "Epoch 232/500\n",
      "2/2 [==============================] - 0s 4ms/step - loss: 15.7980 - mae: 15.7980\n",
      "Epoch 233/500\n",
      "2/2 [==============================] - 0s 3ms/step - loss: 11.3078 - mae: 11.3078\n",
      "Epoch 234/500\n",
      "2/2 [==============================] - 0s 3ms/step - loss: 11.5162 - mae: 11.5162\n",
      "Epoch 235/500\n",
      "2/2 [==============================] - 0s 3ms/step - loss: 8.5965 - mae: 8.5965\n",
      "Epoch 236/500\n",
      "2/2 [==============================] - 0s 3ms/step - loss: 9.7836 - mae: 9.7836\n",
      "Epoch 237/500\n",
      "2/2 [==============================] - 0s 3ms/step - loss: 8.4283 - mae: 8.4283\n",
      "Epoch 238/500\n",
      "2/2 [==============================] - 0s 3ms/step - loss: 7.6936 - mae: 7.6936\n",
      "Epoch 239/500\n",
      "2/2 [==============================] - 0s 3ms/step - loss: 14.9570 - mae: 14.9570\n",
      "Epoch 240/500\n",
      "2/2 [==============================] - 0s 3ms/step - loss: 9.6134 - mae: 9.6134\n",
      "Epoch 241/500\n",
      "2/2 [==============================] - 0s 2ms/step - loss: 14.7687 - mae: 14.7687\n",
      "Epoch 242/500\n",
      "2/2 [==============================] - 0s 2ms/step - loss: 8.6124 - mae: 8.6124\n",
      "Epoch 243/500\n",
      "2/2 [==============================] - 0s 3ms/step - loss: 17.8176 - mae: 17.8176\n",
      "Epoch 244/500\n",
      "2/2 [==============================] - 0s 2ms/step - loss: 14.3785 - mae: 14.3785\n",
      "Epoch 245/500\n",
      "2/2 [==============================] - 0s 3ms/step - loss: 14.9657 - mae: 14.9657\n",
      "Epoch 246/500\n",
      "2/2 [==============================] - 0s 3ms/step - loss: 16.0785 - mae: 16.0785\n",
      "Epoch 247/500\n",
      "2/2 [==============================] - 0s 7ms/step - loss: 18.0412 - mae: 18.0412\n",
      "Epoch 248/500\n",
      "2/2 [==============================] - 0s 5ms/step - loss: 13.5781 - mae: 13.5781\n",
      "Epoch 249/500\n",
      "2/2 [==============================] - 0s 3ms/step - loss: 14.7279 - mae: 14.7279\n",
      "Epoch 250/500\n",
      "2/2 [==============================] - 0s 3ms/step - loss: 23.6340 - mae: 23.6340\n",
      "Epoch 251/500\n",
      "2/2 [==============================] - 0s 2ms/step - loss: 13.8281 - mae: 13.8281\n",
      "Epoch 252/500\n",
      "2/2 [==============================] - 0s 3ms/step - loss: 22.9697 - mae: 22.9697\n",
      "Epoch 253/500\n",
      "2/2 [==============================] - 0s 3ms/step - loss: 10.4439 - mae: 10.4439\n",
      "Epoch 254/500\n",
      "2/2 [==============================] - 0s 3ms/step - loss: 12.3741 - mae: 12.3741\n",
      "Epoch 255/500\n",
      "2/2 [==============================] - 0s 3ms/step - loss: 16.7853 - mae: 16.7853\n",
      "Epoch 256/500\n",
      "2/2 [==============================] - 0s 2ms/step - loss: 9.4340 - mae: 9.4340\n",
      "Epoch 257/500\n",
      "2/2 [==============================] - 0s 3ms/step - loss: 13.2869 - mae: 13.2869\n",
      "Epoch 258/500\n",
      "2/2 [==============================] - 0s 3ms/step - loss: 7.5078 - mae: 7.5078\n",
      "Epoch 259/500\n",
      "2/2 [==============================] - 0s 2ms/step - loss: 18.4212 - mae: 18.4212\n",
      "Epoch 260/500\n",
      "2/2 [==============================] - 0s 3ms/step - loss: 25.9635 - mae: 25.9635\n",
      "Epoch 261/500\n",
      "2/2 [==============================] - 0s 2ms/step - loss: 9.5278 - mae: 9.5278\n",
      "Epoch 262/500\n",
      "2/2 [==============================] - 0s 4ms/step - loss: 8.6151 - mae: 8.6151\n",
      "Epoch 263/500\n",
      "2/2 [==============================] - 0s 2ms/step - loss: 8.1067 - mae: 8.1067\n",
      "Epoch 264/500\n",
      "2/2 [==============================] - 0s 3ms/step - loss: 17.9498 - mae: 17.9498\n",
      "Epoch 265/500\n",
      "2/2 [==============================] - 0s 2ms/step - loss: 12.2304 - mae: 12.2304\n",
      "Epoch 266/500\n",
      "2/2 [==============================] - 0s 3ms/step - loss: 13.6095 - mae: 13.6095\n",
      "Epoch 267/500\n",
      "2/2 [==============================] - 0s 3ms/step - loss: 11.2580 - mae: 11.2580\n",
      "Epoch 268/500\n",
      "2/2 [==============================] - 0s 2ms/step - loss: 19.5582 - mae: 19.5582\n",
      "Epoch 269/500\n",
      "2/2 [==============================] - 0s 3ms/step - loss: 39.4682 - mae: 39.4682\n",
      "Epoch 270/500\n",
      "2/2 [==============================] - 0s 2ms/step - loss: 12.1247 - mae: 12.1247\n",
      "Epoch 271/500\n",
      "2/2 [==============================] - 0s 3ms/step - loss: 14.1452 - mae: 14.1452\n",
      "Epoch 272/500\n",
      "2/2 [==============================] - 0s 3ms/step - loss: 27.9947 - mae: 27.9947\n",
      "Epoch 273/500\n",
      "2/2 [==============================] - 0s 3ms/step - loss: 8.0157 - mae: 8.0157\n",
      "Epoch 274/500\n",
      "2/2 [==============================] - 0s 2ms/step - loss: 6.4625 - mae: 6.4625\n",
      "Epoch 275/500\n",
      "2/2 [==============================] - 0s 2ms/step - loss: 33.8080 - mae: 33.8080\n",
      "Epoch 276/500\n",
      "2/2 [==============================] - 0s 3ms/step - loss: 7.9828 - mae: 7.9828\n",
      "Epoch 277/500\n",
      "2/2 [==============================] - 0s 2ms/step - loss: 25.1548 - mae: 25.1548\n",
      "Epoch 278/500\n",
      "2/2 [==============================] - 0s 3ms/step - loss: 11.5612 - mae: 11.5612\n",
      "Epoch 279/500\n",
      "2/2 [==============================] - 0s 3ms/step - loss: 16.2902 - mae: 16.2902\n",
      "Epoch 280/500\n",
      "2/2 [==============================] - 0s 4ms/step - loss: 21.6173 - mae: 21.6173\n",
      "Epoch 281/500\n",
      "2/2 [==============================] - 0s 3ms/step - loss: 22.8841 - mae: 22.8841\n",
      "Epoch 282/500\n",
      "2/2 [==============================] - 0s 3ms/step - loss: 8.0220 - mae: 8.0220\n",
      "Epoch 283/500\n",
      "2/2 [==============================] - 0s 3ms/step - loss: 8.3196 - mae: 8.3196\n",
      "Epoch 284/500\n",
      "2/2 [==============================] - 0s 3ms/step - loss: 25.6229 - mae: 25.6229\n",
      "Epoch 285/500\n",
      "2/2 [==============================] - 0s 3ms/step - loss: 14.2190 - mae: 14.2190\n",
      "Epoch 286/500\n",
      "2/2 [==============================] - 0s 4ms/step - loss: 5.2943 - mae: 5.2943\n",
      "Epoch 287/500\n",
      "2/2 [==============================] - 0s 2ms/step - loss: 20.8360 - mae: 20.8360\n",
      "Epoch 288/500\n",
      "2/2 [==============================] - 0s 2ms/step - loss: 27.5723 - mae: 27.5723\n",
      "Epoch 289/500\n",
      "2/2 [==============================] - 0s 2ms/step - loss: 10.4566 - mae: 10.4566\n",
      "Epoch 290/500\n",
      "2/2 [==============================] - 0s 2ms/step - loss: 16.3272 - mae: 16.3272\n",
      "Epoch 291/500\n",
      "2/2 [==============================] - 0s 3ms/step - loss: 16.5205 - mae: 16.5205\n",
      "Epoch 292/500\n",
      "2/2 [==============================] - 0s 3ms/step - loss: 7.4639 - mae: 7.4639\n",
      "Epoch 293/500\n",
      "2/2 [==============================] - 0s 3ms/step - loss: 16.5674 - mae: 16.5674\n",
      "Epoch 294/500\n",
      "2/2 [==============================] - 0s 3ms/step - loss: 25.3580 - mae: 25.3580\n",
      "Epoch 295/500\n",
      "2/2 [==============================] - 0s 3ms/step - loss: 14.5343 - mae: 14.5343\n",
      "Epoch 296/500\n",
      "2/2 [==============================] - 0s 2ms/step - loss: 4.7102 - mae: 4.7102\n",
      "Epoch 297/500\n",
      "2/2 [==============================] - 0s 2ms/step - loss: 6.2952 - mae: 6.2952\n",
      "Epoch 298/500\n",
      "2/2 [==============================] - 0s 3ms/step - loss: 26.6723 - mae: 26.6723\n",
      "Epoch 299/500\n",
      "2/2 [==============================] - 0s 3ms/step - loss: 7.2702 - mae: 7.2702\n",
      "Epoch 300/500\n",
      "2/2 [==============================] - 0s 3ms/step - loss: 26.8227 - mae: 26.8227\n",
      "Epoch 301/500\n",
      "2/2 [==============================] - 0s 3ms/step - loss: 11.8011 - mae: 11.8011\n",
      "Epoch 302/500\n",
      "2/2 [==============================] - 0s 3ms/step - loss: 7.9164 - mae: 7.9164\n",
      "Epoch 303/500\n",
      "2/2 [==============================] - 0s 2ms/step - loss: 19.8508 - mae: 19.8508\n",
      "Epoch 304/500\n",
      "2/2 [==============================] - 0s 3ms/step - loss: 13.6840 - mae: 13.6840\n",
      "Epoch 305/500\n",
      "2/2 [==============================] - 0s 3ms/step - loss: 7.0902 - mae: 7.0902\n",
      "Epoch 306/500\n",
      "2/2 [==============================] - 0s 3ms/step - loss: 19.1975 - mae: 19.1975\n",
      "Epoch 307/500\n",
      "2/2 [==============================] - 0s 3ms/step - loss: 9.0211 - mae: 9.0211\n",
      "Epoch 308/500\n",
      "2/2 [==============================] - 0s 3ms/step - loss: 20.6430 - mae: 20.6430\n",
      "Epoch 309/500\n",
      "2/2 [==============================] - 0s 2ms/step - loss: 13.5015 - mae: 13.5015\n",
      "Epoch 310/500\n",
      "2/2 [==============================] - 0s 2ms/step - loss: 6.7156 - mae: 6.7156\n",
      "Epoch 311/500\n",
      "2/2 [==============================] - 0s 3ms/step - loss: 13.6890 - mae: 13.6890\n",
      "Epoch 312/500\n",
      "2/2 [==============================] - 0s 2ms/step - loss: 30.0530 - mae: 30.0530\n",
      "Epoch 313/500\n",
      "2/2 [==============================] - 0s 3ms/step - loss: 7.5185 - mae: 7.5185\n",
      "Epoch 314/500\n",
      "2/2 [==============================] - 0s 3ms/step - loss: 9.9927 - mae: 9.9927\n",
      "Epoch 315/500\n",
      "2/2 [==============================] - 0s 3ms/step - loss: 23.9284 - mae: 23.9284\n",
      "Epoch 316/500\n",
      "2/2 [==============================] - 0s 2ms/step - loss: 16.0824 - mae: 16.0824\n",
      "Epoch 317/500\n",
      "2/2 [==============================] - 0s 3ms/step - loss: 20.5614 - mae: 20.5614\n",
      "Epoch 318/500\n",
      "2/2 [==============================] - 0s 3ms/step - loss: 8.7051 - mae: 8.7051\n",
      "Epoch 319/500\n",
      "2/2 [==============================] - 0s 2ms/step - loss: 15.1761 - mae: 15.1761\n",
      "Epoch 320/500\n",
      "2/2 [==============================] - 0s 3ms/step - loss: 8.3417 - mae: 8.3417\n",
      "Epoch 321/500\n",
      "2/2 [==============================] - 0s 4ms/step - loss: 14.5688 - mae: 14.5688\n",
      "Epoch 322/500\n",
      "2/2 [==============================] - 0s 3ms/step - loss: 12.8572 - mae: 12.8572\n",
      "Epoch 323/500\n",
      "2/2 [==============================] - 0s 2ms/step - loss: 17.4767 - mae: 17.4767\n",
      "Epoch 324/500\n",
      "2/2 [==============================] - 0s 2ms/step - loss: 15.7445 - mae: 15.7445\n",
      "Epoch 325/500\n",
      "2/2 [==============================] - 0s 3ms/step - loss: 17.3095 - mae: 17.3095\n",
      "Epoch 326/500\n",
      "2/2 [==============================] - 0s 5ms/step - loss: 13.1291 - mae: 13.1291\n",
      "Epoch 327/500\n",
      "2/2 [==============================] - 0s 3ms/step - loss: 20.9972 - mae: 20.9972\n",
      "Epoch 328/500\n",
      "2/2 [==============================] - 0s 3ms/step - loss: 15.4071 - mae: 15.4071\n",
      "Epoch 329/500\n",
      "2/2 [==============================] - 0s 2ms/step - loss: 9.6352 - mae: 9.6352\n",
      "Epoch 330/500\n",
      "2/2 [==============================] - 0s 2ms/step - loss: 13.7744 - mae: 13.7744\n",
      "Epoch 331/500\n",
      "2/2 [==============================] - 0s 3ms/step - loss: 25.1456 - mae: 25.1456\n",
      "Epoch 332/500\n",
      "2/2 [==============================] - 0s 2ms/step - loss: 18.6288 - mae: 18.6288\n",
      "Epoch 333/500\n",
      "2/2 [==============================] - 0s 3ms/step - loss: 10.7351 - mae: 10.7351\n",
      "Epoch 334/500\n",
      "2/2 [==============================] - 0s 3ms/step - loss: 7.0281 - mae: 7.0281\n",
      "Epoch 335/500\n",
      "2/2 [==============================] - 0s 3ms/step - loss: 13.0137 - mae: 13.0137\n",
      "Epoch 336/500\n",
      "2/2 [==============================] - 0s 2ms/step - loss: 32.3499 - mae: 32.3499\n",
      "Epoch 337/500\n",
      "2/2 [==============================] - 0s 3ms/step - loss: 10.5996 - mae: 10.5996\n",
      "Epoch 338/500\n",
      "2/2 [==============================] - 0s 3ms/step - loss: 20.0296 - mae: 20.0296\n",
      "Epoch 339/500\n",
      "2/2 [==============================] - 0s 3ms/step - loss: 34.1080 - mae: 34.1080\n",
      "Epoch 340/500\n",
      "2/2 [==============================] - 0s 4ms/step - loss: 8.7228 - mae: 8.7228\n",
      "Epoch 341/500\n",
      "2/2 [==============================] - 0s 3ms/step - loss: 21.7574 - mae: 21.7574\n",
      "Epoch 342/500\n",
      "2/2 [==============================] - 0s 3ms/step - loss: 13.9088 - mae: 13.9088\n",
      "Epoch 343/500\n",
      "2/2 [==============================] - 0s 3ms/step - loss: 11.7699 - mae: 11.7699\n",
      "Epoch 344/500\n",
      "2/2 [==============================] - 0s 3ms/step - loss: 10.7324 - mae: 10.7324\n",
      "Epoch 345/500\n",
      "2/2 [==============================] - 0s 2ms/step - loss: 30.9500 - mae: 30.9500\n",
      "Epoch 346/500\n",
      "2/2 [==============================] - 0s 3ms/step - loss: 10.6827 - mae: 10.6827\n",
      "Epoch 347/500\n",
      "2/2 [==============================] - 0s 2ms/step - loss: 25.6369 - mae: 25.6369\n",
      "Epoch 348/500\n",
      "2/2 [==============================] - 0s 2ms/step - loss: 13.1276 - mae: 13.1276\n",
      "Epoch 349/500\n",
      "2/2 [==============================] - 0s 3ms/step - loss: 13.1132 - mae: 13.1132\n",
      "Epoch 350/500\n",
      "2/2 [==============================] - 0s 3ms/step - loss: 15.4379 - mae: 15.4379\n",
      "Epoch 351/500\n",
      "2/2 [==============================] - 0s 3ms/step - loss: 32.9146 - mae: 32.9146\n",
      "Epoch 352/500\n",
      "2/2 [==============================] - 0s 2ms/step - loss: 14.1587 - mae: 14.1587\n",
      "Epoch 353/500\n",
      "2/2 [==============================] - 0s 3ms/step - loss: 15.8840 - mae: 15.8840\n",
      "Epoch 354/500\n",
      "2/2 [==============================] - 0s 3ms/step - loss: 19.0064 - mae: 19.0064\n",
      "Epoch 355/500\n",
      "2/2 [==============================] - 0s 3ms/step - loss: 34.3586 - mae: 34.3586\n",
      "Epoch 356/500\n",
      "2/2 [==============================] - 0s 3ms/step - loss: 8.3457 - mae: 8.3457\n",
      "Epoch 357/500\n",
      "2/2 [==============================] - 0s 2ms/step - loss: 21.8433 - mae: 21.8433\n",
      "Epoch 358/500\n",
      "2/2 [==============================] - 0s 3ms/step - loss: 19.9962 - mae: 19.9962\n",
      "Epoch 359/500\n",
      "2/2 [==============================] - 0s 2ms/step - loss: 11.0927 - mae: 11.0927\n",
      "Epoch 360/500\n",
      "2/2 [==============================] - 0s 3ms/step - loss: 20.3096 - mae: 20.3096\n",
      "Epoch 361/500\n",
      "2/2 [==============================] - 0s 3ms/step - loss: 10.9902 - mae: 10.9902\n",
      "Epoch 362/500\n",
      "2/2 [==============================] - 0s 2ms/step - loss: 6.8709 - mae: 6.8709\n",
      "Epoch 363/500\n",
      "2/2 [==============================] - 0s 3ms/step - loss: 23.9023 - mae: 23.9023\n",
      "Epoch 364/500\n",
      "2/2 [==============================] - 0s 3ms/step - loss: 29.6413 - mae: 29.6413\n",
      "Epoch 365/500\n",
      "2/2 [==============================] - 0s 3ms/step - loss: 8.3650 - mae: 8.3650\n",
      "Epoch 366/500\n",
      "2/2 [==============================] - 0s 3ms/step - loss: 6.1492 - mae: 6.1492\n",
      "Epoch 367/500\n",
      "2/2 [==============================] - 0s 3ms/step - loss: 34.6875 - mae: 34.6875\n",
      "Epoch 368/500\n",
      "2/2 [==============================] - 0s 2ms/step - loss: 7.4218 - mae: 7.4218\n",
      "Epoch 369/500\n",
      "2/2 [==============================] - 0s 3ms/step - loss: 8.7643 - mae: 8.7643\n",
      "Epoch 370/500\n",
      "2/2 [==============================] - 0s 3ms/step - loss: 14.3152 - mae: 14.3152\n",
      "Epoch 371/500\n",
      "2/2 [==============================] - 0s 3ms/step - loss: 6.9123 - mae: 6.9123\n",
      "Epoch 372/500\n",
      "2/2 [==============================] - 0s 2ms/step - loss: 6.6023 - mae: 6.6023\n",
      "Epoch 373/500\n",
      "2/2 [==============================] - 0s 2ms/step - loss: 24.2337 - mae: 24.2337\n",
      "Epoch 374/500\n",
      "2/2 [==============================] - 0s 3ms/step - loss: 10.2189 - mae: 10.2189\n",
      "Epoch 375/500\n",
      "2/2 [==============================] - 0s 2ms/step - loss: 12.8406 - mae: 12.8406\n",
      "Epoch 376/500\n",
      "2/2 [==============================] - 0s 3ms/step - loss: 14.7092 - mae: 14.7092\n",
      "Epoch 377/500\n",
      "2/2 [==============================] - 0s 2ms/step - loss: 14.6579 - mae: 14.6579\n",
      "Epoch 378/500\n",
      "2/2 [==============================] - 0s 3ms/step - loss: 16.1839 - mae: 16.1839\n",
      "Epoch 379/500\n",
      "2/2 [==============================] - 0s 3ms/step - loss: 20.6027 - mae: 20.6027\n",
      "Epoch 380/500\n",
      "2/2 [==============================] - 0s 3ms/step - loss: 34.2099 - mae: 34.2099\n",
      "Epoch 381/500\n",
      "2/2 [==============================] - 0s 3ms/step - loss: 8.8918 - mae: 8.8918\n",
      "Epoch 382/500\n",
      "2/2 [==============================] - 0s 2ms/step - loss: 9.6266 - mae: 9.6266\n",
      "Epoch 383/500\n",
      "2/2 [==============================] - 0s 3ms/step - loss: 5.7970 - mae: 5.7970\n",
      "Epoch 384/500\n",
      "2/2 [==============================] - 0s 2ms/step - loss: 8.7273 - mae: 8.7273\n",
      "Epoch 385/500\n",
      "2/2 [==============================] - 0s 3ms/step - loss: 4.9905 - mae: 4.9905\n",
      "Epoch 386/500\n",
      "2/2 [==============================] - 0s 3ms/step - loss: 25.1339 - mae: 25.1339\n",
      "Epoch 387/500\n",
      "2/2 [==============================] - 0s 3ms/step - loss: 15.0985 - mae: 15.0985\n",
      "Epoch 388/500\n",
      "2/2 [==============================] - 0s 3ms/step - loss: 6.6767 - mae: 6.6767\n",
      "Epoch 389/500\n",
      "2/2 [==============================] - 0s 2ms/step - loss: 17.5863 - mae: 17.5863\n",
      "Epoch 390/500\n",
      "2/2 [==============================] - 0s 3ms/step - loss: 23.8775 - mae: 23.8775\n",
      "Epoch 391/500\n",
      "2/2 [==============================] - 0s 2ms/step - loss: 16.4761 - mae: 16.4761\n",
      "Epoch 392/500\n",
      "2/2 [==============================] - 0s 3ms/step - loss: 8.3925 - mae: 8.3925\n",
      "Epoch 393/500\n",
      "2/2 [==============================] - 0s 2ms/step - loss: 18.1654 - mae: 18.1654\n",
      "Epoch 394/500\n",
      "2/2 [==============================] - 0s 2ms/step - loss: 14.2163 - mae: 14.2163\n",
      "Epoch 395/500\n",
      "2/2 [==============================] - 0s 3ms/step - loss: 28.6887 - mae: 28.6887\n",
      "Epoch 396/500\n",
      "2/2 [==============================] - 0s 3ms/step - loss: 8.2350 - mae: 8.2350\n",
      "Epoch 397/500\n",
      "2/2 [==============================] - 0s 3ms/step - loss: 10.1955 - mae: 10.1955\n",
      "Epoch 398/500\n",
      "2/2 [==============================] - 0s 3ms/step - loss: 10.1063 - mae: 10.1063\n",
      "Epoch 399/500\n",
      "2/2 [==============================] - 0s 3ms/step - loss: 6.0994 - mae: 6.0994\n",
      "Epoch 400/500\n",
      "2/2 [==============================] - 0s 2ms/step - loss: 21.7955 - mae: 21.7955\n",
      "Epoch 401/500\n",
      "2/2 [==============================] - 0s 3ms/step - loss: 13.2633 - mae: 13.2633\n",
      "Epoch 402/500\n",
      "2/2 [==============================] - 0s 3ms/step - loss: 22.2724 - mae: 22.2724\n",
      "Epoch 403/500\n",
      "2/2 [==============================] - 0s 3ms/step - loss: 20.8320 - mae: 20.8320\n",
      "Epoch 404/500\n",
      "2/2 [==============================] - 0s 2ms/step - loss: 13.9078 - mae: 13.9078\n",
      "Epoch 405/500\n",
      "2/2 [==============================] - 0s 2ms/step - loss: 6.5154 - mae: 6.5154\n",
      "Epoch 406/500\n",
      "2/2 [==============================] - 0s 3ms/step - loss: 23.8789 - mae: 23.8789\n",
      "Epoch 407/500\n",
      "2/2 [==============================] - 0s 3ms/step - loss: 15.4635 - mae: 15.4635\n",
      "Epoch 408/500\n",
      "2/2 [==============================] - 0s 2ms/step - loss: 5.7068 - mae: 5.7068\n",
      "Epoch 409/500\n",
      "2/2 [==============================] - 0s 3ms/step - loss: 30.8666 - mae: 30.8666\n",
      "Epoch 410/500\n",
      "2/2 [==============================] - 0s 2ms/step - loss: 9.3613 - mae: 9.3613\n",
      "Epoch 411/500\n",
      "2/2 [==============================] - 0s 3ms/step - loss: 14.9483 - mae: 14.9483\n",
      "Epoch 412/500\n",
      "2/2 [==============================] - 0s 2ms/step - loss: 21.8637 - mae: 21.8637\n",
      "Epoch 413/500\n",
      "2/2 [==============================] - 0s 3ms/step - loss: 12.4136 - mae: 12.4136\n",
      "Epoch 414/500\n",
      "2/2 [==============================] - 0s 3ms/step - loss: 6.6520 - mae: 6.6520\n",
      "Epoch 415/500\n",
      "2/2 [==============================] - 0s 4ms/step - loss: 12.7171 - mae: 12.7171\n",
      "Epoch 416/500\n",
      "2/2 [==============================] - 0s 3ms/step - loss: 26.9581 - mae: 26.9581\n",
      "Epoch 417/500\n",
      "2/2 [==============================] - 0s 3ms/step - loss: 11.9994 - mae: 11.9994\n",
      "Epoch 418/500\n",
      "2/2 [==============================] - 0s 3ms/step - loss: 13.0914 - mae: 13.0914\n",
      "Epoch 419/500\n",
      "2/2 [==============================] - 0s 2ms/step - loss: 16.0591 - mae: 16.0591\n",
      "Epoch 420/500\n",
      "2/2 [==============================] - 0s 3ms/step - loss: 25.1051 - mae: 25.1051\n",
      "Epoch 421/500\n",
      "2/2 [==============================] - 0s 2ms/step - loss: 16.5255 - mae: 16.5255\n",
      "Epoch 422/500\n",
      "2/2 [==============================] - 0s 3ms/step - loss: 8.7297 - mae: 8.7297\n",
      "Epoch 423/500\n",
      "2/2 [==============================] - 0s 3ms/step - loss: 24.8397 - mae: 24.8397\n",
      "Epoch 424/500\n",
      "2/2 [==============================] - 0s 3ms/step - loss: 16.2919 - mae: 16.2919\n",
      "Epoch 425/500\n",
      "2/2 [==============================] - 0s 2ms/step - loss: 7.5637 - mae: 7.5637\n",
      "Epoch 426/500\n",
      "2/2 [==============================] - 0s 3ms/step - loss: 21.7399 - mae: 21.7399\n",
      "Epoch 427/500\n",
      "2/2 [==============================] - 0s 3ms/step - loss: 6.7461 - mae: 6.7461\n",
      "Epoch 428/500\n",
      "2/2 [==============================] - 0s 3ms/step - loss: 13.9314 - mae: 13.9314\n",
      "Epoch 429/500\n",
      "2/2 [==============================] - 0s 2ms/step - loss: 11.8706 - mae: 11.8706\n",
      "Epoch 430/500\n",
      "2/2 [==============================] - 0s 2ms/step - loss: 10.6113 - mae: 10.6113\n",
      "Epoch 431/500\n",
      "2/2 [==============================] - 0s 3ms/step - loss: 12.1627 - mae: 12.1627\n",
      "Epoch 432/500\n",
      "2/2 [==============================] - 0s 3ms/step - loss: 7.6987 - mae: 7.6987\n",
      "Epoch 433/500\n",
      "2/2 [==============================] - 0s 3ms/step - loss: 14.9100 - mae: 14.9100\n",
      "Epoch 434/500\n",
      "2/2 [==============================] - 0s 3ms/step - loss: 18.0636 - mae: 18.0636\n",
      "Epoch 435/500\n",
      "2/2 [==============================] - 0s 3ms/step - loss: 9.7404 - mae: 9.7404\n",
      "Epoch 436/500\n",
      "2/2 [==============================] - 0s 3ms/step - loss: 27.6873 - mae: 27.6873\n",
      "Epoch 437/500\n",
      "2/2 [==============================] - 0s 3ms/step - loss: 5.4814 - mae: 5.4814\n",
      "Epoch 438/500\n",
      "2/2 [==============================] - 0s 3ms/step - loss: 5.5871 - mae: 5.5871\n",
      "Epoch 439/500\n",
      "2/2 [==============================] - 0s 2ms/step - loss: 43.1258 - mae: 43.1258\n",
      "Epoch 440/500\n",
      "2/2 [==============================] - 0s 3ms/step - loss: 24.0405 - mae: 24.0405\n",
      "Epoch 441/500\n",
      "2/2 [==============================] - 0s 3ms/step - loss: 5.7150 - mae: 5.7150\n",
      "Epoch 442/500\n",
      "2/2 [==============================] - 0s 3ms/step - loss: 21.4652 - mae: 21.4652\n",
      "Epoch 443/500\n",
      "2/2 [==============================] - 0s 2ms/step - loss: 6.6274 - mae: 6.6274\n",
      "Epoch 444/500\n",
      "2/2 [==============================] - 0s 3ms/step - loss: 18.9576 - mae: 18.9576\n",
      "Epoch 445/500\n",
      "2/2 [==============================] - 0s 3ms/step - loss: 14.2364 - mae: 14.2364\n",
      "Epoch 446/500\n",
      "2/2 [==============================] - 0s 3ms/step - loss: 17.0097 - mae: 17.0097\n",
      "Epoch 447/500\n",
      "2/2 [==============================] - 0s 2ms/step - loss: 6.5499 - mae: 6.5499\n",
      "Epoch 448/500\n",
      "2/2 [==============================] - 0s 2ms/step - loss: 7.5121 - mae: 7.5121\n",
      "Epoch 449/500\n",
      "2/2 [==============================] - 0s 3ms/step - loss: 15.0742 - mae: 15.0742\n",
      "Epoch 450/500\n",
      "2/2 [==============================] - 0s 2ms/step - loss: 17.8138 - mae: 17.8138\n",
      "Epoch 451/500\n",
      "2/2 [==============================] - 0s 3ms/step - loss: 14.7360 - mae: 14.7360\n",
      "Epoch 452/500\n",
      "2/2 [==============================] - 0s 2ms/step - loss: 31.5282 - mae: 31.5282\n",
      "Epoch 453/500\n",
      "2/2 [==============================] - 0s 2ms/step - loss: 11.0920 - mae: 11.0920\n",
      "Epoch 454/500\n",
      "2/2 [==============================] - 0s 4ms/step - loss: 26.7816 - mae: 26.7816\n",
      "Epoch 455/500\n",
      "2/2 [==============================] - 0s 2ms/step - loss: 12.5423 - mae: 12.5423\n",
      "Epoch 456/500\n",
      "2/2 [==============================] - 0s 2ms/step - loss: 15.2840 - mae: 15.2840\n",
      "Epoch 457/500\n",
      "2/2 [==============================] - 0s 2ms/step - loss: 18.9332 - mae: 18.9332\n",
      "Epoch 458/500\n",
      "2/2 [==============================] - 0s 2ms/step - loss: 23.7481 - mae: 23.7481\n",
      "Epoch 459/500\n",
      "2/2 [==============================] - 0s 2ms/step - loss: 17.1705 - mae: 17.1705\n",
      "Epoch 460/500\n",
      "2/2 [==============================] - 0s 2ms/step - loss: 5.4221 - mae: 5.4221\n",
      "Epoch 461/500\n",
      "2/2 [==============================] - 0s 2ms/step - loss: 17.6033 - mae: 17.6033\n",
      "Epoch 462/500\n",
      "2/2 [==============================] - 0s 3ms/step - loss: 14.2699 - mae: 14.2699\n",
      "Epoch 463/500\n",
      "2/2 [==============================] - 0s 2ms/step - loss: 21.4023 - mae: 21.4023\n",
      "Epoch 464/500\n",
      "2/2 [==============================] - 0s 2ms/step - loss: 22.9028 - mae: 22.9028\n",
      "Epoch 465/500\n",
      "2/2 [==============================] - 0s 2ms/step - loss: 12.4056 - mae: 12.4056\n",
      "Epoch 466/500\n",
      "2/2 [==============================] - 0s 2ms/step - loss: 9.4093 - mae: 9.4093\n",
      "Epoch 467/500\n",
      "2/2 [==============================] - 0s 2ms/step - loss: 21.5662 - mae: 21.5662\n",
      "Epoch 468/500\n",
      "2/2 [==============================] - 0s 3ms/step - loss: 23.7865 - mae: 23.7865\n",
      "Epoch 469/500\n",
      "2/2 [==============================] - 0s 3ms/step - loss: 21.2017 - mae: 21.2017\n",
      "Epoch 470/500\n",
      "2/2 [==============================] - 0s 2ms/step - loss: 9.6874 - mae: 9.6874\n",
      "Epoch 471/500\n",
      "2/2 [==============================] - 0s 3ms/step - loss: 15.9161 - mae: 15.9161\n",
      "Epoch 472/500\n",
      "2/2 [==============================] - 0s 2ms/step - loss: 14.9429 - mae: 14.9429\n",
      "Epoch 473/500\n",
      "2/2 [==============================] - 0s 3ms/step - loss: 18.3157 - mae: 18.3157\n",
      "Epoch 474/500\n",
      "2/2 [==============================] - 0s 3ms/step - loss: 41.8938 - mae: 41.8938\n",
      "Epoch 475/500\n",
      "2/2 [==============================] - 0s 2ms/step - loss: 17.8257 - mae: 17.8257\n",
      "Epoch 476/500\n",
      "2/2 [==============================] - 0s 2ms/step - loss: 13.2391 - mae: 13.2391\n",
      "Epoch 477/500\n",
      "2/2 [==============================] - 0s 3ms/step - loss: 29.3090 - mae: 29.3090\n",
      "Epoch 478/500\n",
      "2/2 [==============================] - 0s 3ms/step - loss: 5.7876 - mae: 5.7876\n",
      "Epoch 479/500\n",
      "2/2 [==============================] - 0s 2ms/step - loss: 7.1743 - mae: 7.1743\n",
      "Epoch 480/500\n",
      "2/2 [==============================] - 0s 3ms/step - loss: 19.1811 - mae: 19.1811\n",
      "Epoch 481/500\n",
      "2/2 [==============================] - 0s 3ms/step - loss: 13.1688 - mae: 13.1688\n",
      "Epoch 482/500\n",
      "2/2 [==============================] - 0s 3ms/step - loss: 6.9018 - mae: 6.9018\n",
      "Epoch 483/500\n",
      "2/2 [==============================] - 0s 3ms/step - loss: 13.2956 - mae: 13.2956\n",
      "Epoch 484/500\n",
      "2/2 [==============================] - 0s 3ms/step - loss: 14.1993 - mae: 14.1993\n",
      "Epoch 485/500\n",
      "2/2 [==============================] - 0s 3ms/step - loss: 9.2954 - mae: 9.2954\n",
      "Epoch 486/500\n",
      "2/2 [==============================] - 0s 2ms/step - loss: 18.4467 - mae: 18.4467\n",
      "Epoch 487/500\n",
      "2/2 [==============================] - 0s 4ms/step - loss: 6.2905 - mae: 6.2905\n",
      "Epoch 488/500\n",
      "2/2 [==============================] - 0s 3ms/step - loss: 29.6819 - mae: 29.6819\n",
      "Epoch 489/500\n",
      "2/2 [==============================] - 0s 3ms/step - loss: 12.7180 - mae: 12.7180\n",
      "Epoch 490/500\n",
      "2/2 [==============================] - 0s 2ms/step - loss: 13.1364 - mae: 13.1364\n",
      "Epoch 491/500\n",
      "2/2 [==============================] - 0s 3ms/step - loss: 24.4171 - mae: 24.4171\n",
      "Epoch 492/500\n",
      "2/2 [==============================] - 0s 3ms/step - loss: 18.5106 - mae: 18.5106\n",
      "Epoch 493/500\n",
      "2/2 [==============================] - 0s 3ms/step - loss: 4.7900 - mae: 4.7900\n",
      "Epoch 494/500\n",
      "2/2 [==============================] - 0s 3ms/step - loss: 11.8838 - mae: 11.8838\n",
      "Epoch 495/500\n",
      "2/2 [==============================] - 0s 2ms/step - loss: 13.7744 - mae: 13.7744\n",
      "Epoch 496/500\n",
      "2/2 [==============================] - 0s 3ms/step - loss: 12.9518 - mae: 12.9518\n",
      "Epoch 497/500\n",
      "2/2 [==============================] - 0s 3ms/step - loss: 18.1231 - mae: 18.1231\n",
      "Epoch 498/500\n",
      "2/2 [==============================] - 0s 3ms/step - loss: 22.4452 - mae: 22.4452\n",
      "Epoch 499/500\n",
      "2/2 [==============================] - 0s 3ms/step - loss: 8.2793 - mae: 8.2793\n",
      "Epoch 500/500\n",
      "2/2 [==============================] - 0s 3ms/step - loss: 14.0558 - mae: 14.0558\n"
     ]
    },
    {
     "data": {
      "text/plain": "<keras.callbacks.History at 0x7fa7bc6dad40>"
     },
     "execution_count": 40,
     "metadata": {},
     "output_type": "execute_result"
    }
   ],
   "source": [
    "# Set random seed\n",
    "tf.random.set_seed(42)\n",
    "\n",
    "# Create a model\n",
    "model_3 = tf.keras.Sequential([\n",
    "    tf.keras.layers.Dense(10, input_shape=(1,)),\n",
    "    tf.keras.layers.Dense(1)\n",
    "])\n",
    "\n",
    "# 2. Compile the model\n",
    "model_3.compile(loss=tf.keras.losses.mae,\n",
    "                optimizer=tf.keras.optimizers.SGD(),\n",
    "                metrics=['mae'])\n",
    "\n",
    "# 3. Fit the model\n",
    "model_3.fit(X_train, y_train, epochs=500)"
   ],
   "metadata": {
    "collapsed": false,
    "pycharm": {
     "name": "#%%\n"
    }
   }
  },
  {
   "cell_type": "code",
   "execution_count": 41,
   "outputs": [
    {
     "name": "stdout",
     "output_type": "stream",
     "text": [
      "1/1 [==============================] - 0s 45ms/step\n"
     ]
    },
    {
     "data": {
      "text/plain": "<Figure size 1000x700 with 1 Axes>",
      "image/png": "[encoded data removed]"
     },
     "metadata": {},
     "output_type": "display_data"
    }
   ],
   "source": [
    "# Make and plot predictions\n",
    "y_preds3 = model_3.predict(y_test)\n",
    "plot_predictions(predictions=y_preds3)"
   ],
   "metadata": {
    "collapsed": false,
    "pycharm": {
     "name": "#%%\n"
    }
   }
  },
  {
   "cell_type": "code",
   "execution_count": 44,
   "outputs": [],
   "source": [
    "# Calculate evaluation metrcis\n",
    "mae_3, mse_3 = mae(y_test, y_preds3), mse(y_test, y_preds3)"
   ],
   "metadata": {
    "collapsed": false,
    "pycharm": {
     "name": "#%%\n"
    }
   }
  },
  {
   "cell_type": "markdown",
   "source": [
    "## Comparing the results of our experimetns\n",
    "\n",
    "We've run a few experiments, let's compare the results"
   ],
   "metadata": {
    "collapsed": false,
    "pycharm": {
     "name": "#%% md\n"
    }
   }
  },
  {
   "cell_type": "code",
   "execution_count": 54,
   "outputs": [
    {
     "name": "stdout",
     "output_type": "stream",
     "text": [
      "Model: \"sequential_5\"\n",
      "_________________________________________________________________\n",
      " Layer (type)                Output Shape              Param #   \n",
      "=================================================================\n",
      " dense_6 (Dense)             (None, 10)                20        \n",
      "                                                                 \n",
      " dense_7 (Dense)             (None, 1)                 11        \n",
      "                                                                 \n",
      "=================================================================\n",
      "Total params: 31\n",
      "Trainable params: 31\n",
      "Non-trainable params: 0\n",
      "_________________________________________________________________\n"
     ]
    }
   ],
   "source": [
    "# Let's compare our model's results using a pandas DataFrame\n",
    "import pandas as pd\n",
    "\n",
    "model_results = [['model_1', mae_1.numpy(), mse_1.numpy()],\n",
    "                 ['model_2', mae_2.numpy(), mse_2.numpy()],\n",
    "                 ['model_3', mae_3.numpy(), mse_3.numpy()]]\n",
    "\n",
    "all_results = pd.DataFrame(model_results, columns =['model', 'mae', 'mse'])\n",
    "all_results"
   ],
   "metadata": {
    "collapsed": false,
    "pycharm": {
     "name": "#%%\n"
    }
   }
  },
  {
   "cell_type": "code",
   "execution_count": null,
   "outputs": [],
   "source": [
    "model_2.summary()"
   ],
   "metadata": {
    "collapsed": false,
    "pycharm": {
     "name": "#%%\n",
     "is_executing": true
    }
   }
  },
  {
   "cell_type": "code",
   "execution_count": 53,
   "outputs": [],
   "source": [],
   "metadata": {
    "collapsed": false,
    "pycharm": {
     "name": "#%%\n"
    }
   }
  },
  {
   "cell_type": "code",
   "execution_count": null,
   "outputs": [],
   "source": [],
   "metadata": {
    "collapsed": false,
    "pycharm": {
     "name": "#%%\n",
     "is_executing": true
    }
   }
  }
 ],
 "metadata": {
  "kernelspec": {
   "display_name": "Python 3",
   "language": "python",
   "name": "python3"
  },
  "language_info": {
   "codemirror_mode": {
    "name": "ipython",
    "version": 2
   },
   "file_extension": ".py",
   "mimetype": "text/x-python",
   "name": "python",
   "nbconvert_exporter": "python",
   "pygments_lexer": "ipython2",
   "version": "2.7.6"
  }
 },
 "nbformat": 4,
 "nbformat_minor": 0
}