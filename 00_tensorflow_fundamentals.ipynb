{
 "cells": [
  {
   "cell_type": "markdown",
   "source": [
    "In this notebook we`re going to cover some of the most fundamental concepts of tensors using TensorFlow\n",
    "\n",
    "More specifically, we`re going to cover:\n",
    "* Introduction to tensors\n",
    "* Getting information from tensors\n",
    "* Manipulating tensors\n",
    "* Tensors and NumPy\n",
    "* Using @tf.function (a way to speed up your regular Python functions\n",
    "* Using GPUs with TensorFlow (or TPUs)\n",
    "* Exercises to try myself"
   ],
   "metadata": {
    "collapsed": false,
    "pycharm": {
     "name": "#%% md\n"
    }
   }
  },
  {
   "cell_type": "markdown",
   "source": [
    "Introduction to Tensors"
   ],
   "metadata": {
    "collapsed": false,
    "pycharm": {
     "name": "#%% md\n"
    }
   }
  },
  {
   "cell_type": "code",
   "execution_count": 172,
   "outputs": [
    {
     "name": "stdout",
     "output_type": "stream",
     "text": [
      "2.9.1\n"
     ]
    }
   ],
   "source": [
    "# Import TensorFlow\n",
    "import tensorflow as tf\n",
    "print(tf.__version__)"
   ],
   "metadata": {
    "collapsed": false,
    "pycharm": {
     "name": "#%%\n"
    }
   }
  },
  {
   "cell_type": "code",
   "execution_count": 173,
   "outputs": [
    {
     "data": {
      "text/plain": "<tf.Tensor: shape=(), dtype=int32, numpy=10>"
     },
     "execution_count": 173,
     "metadata": {},
     "output_type": "execute_result"
    }
   ],
   "source": [
    "# Create tensors with tf.constant()\n",
    "scalar = tf.constant(10)\n",
    "scalar"
   ],
   "metadata": {
    "collapsed": false,
    "pycharm": {
     "name": "#%%\n"
    }
   }
  },
  {
   "cell_type": "code",
   "execution_count": 174,
   "outputs": [
    {
     "data": {
      "text/plain": "0"
     },
     "execution_count": 174,
     "metadata": {},
     "output_type": "execute_result"
    }
   ],
   "source": [
    "# Check the number of dimensions of a tensor (ndim stands for number of dimensions\n",
    "scalar.ndim"
   ],
   "metadata": {
    "collapsed": false,
    "pycharm": {
     "name": "#%%\n"
    }
   }
  },
  {
   "cell_type": "code",
   "execution_count": 175,
   "outputs": [
    {
     "data": {
      "text/plain": "<tf.Tensor: shape=(2,), dtype=int32, numpy=array([10, 10], dtype=int32)>"
     },
     "execution_count": 175,
     "metadata": {},
     "output_type": "execute_result"
    }
   ],
   "source": [
    "# Create a vector\n",
    "vector = tf.constant([10, 10])\n",
    "vector"
   ],
   "metadata": {
    "collapsed": false,
    "pycharm": {
     "name": "#%%\n"
    }
   }
  },
  {
   "cell_type": "code",
   "execution_count": 176,
   "outputs": [
    {
     "data": {
      "text/plain": "1"
     },
     "execution_count": 176,
     "metadata": {},
     "output_type": "execute_result"
    }
   ],
   "source": [
    "# Check the dimension of our vector\n",
    "vector.ndim"
   ],
   "metadata": {
    "collapsed": false,
    "pycharm": {
     "name": "#%%\n"
    }
   }
  },
  {
   "cell_type": "code",
   "execution_count": 177,
   "outputs": [
    {
     "data": {
      "text/plain": "<tf.Tensor: shape=(2, 2), dtype=int32, numpy=\narray([[10, 10],\n       [20, 20]], dtype=int32)>"
     },
     "execution_count": 177,
     "metadata": {},
     "output_type": "execute_result"
    }
   ],
   "source": [
    "# Create a matrix (has more than 1 dimension)\n",
    "matrix = tf.constant([[10, 10], [20, 20]])\n",
    "matrix"
   ],
   "metadata": {
    "collapsed": false,
    "pycharm": {
     "name": "#%%\n"
    }
   }
  },
  {
   "cell_type": "code",
   "execution_count": 178,
   "outputs": [
    {
     "data": {
      "text/plain": "2"
     },
     "execution_count": 178,
     "metadata": {},
     "output_type": "execute_result"
    }
   ],
   "source": [
    "# Check the dimension of matrix\n",
    "matrix.ndim"
   ],
   "metadata": {
    "collapsed": false,
    "pycharm": {
     "name": "#%%\n"
    }
   }
  },
  {
   "cell_type": "code",
   "execution_count": 179,
   "outputs": [
    {
     "data": {
      "text/plain": "<tf.Tensor: shape=(3, 2), dtype=float16, numpy=\narray([[10., 10.],\n       [20., 20.],\n       [30., 30.]], dtype=float16)>"
     },
     "execution_count": 179,
     "metadata": {},
     "output_type": "execute_result"
    }
   ],
   "source": [
    "# Create another matrix\n",
    "another_matrix = tf.constant([[10, 10], [20, 20], [30, 30]], dtype = tf.float16) # specify the data type with dtype parameter\n",
    "another_matrix"
   ],
   "metadata": {
    "collapsed": false,
    "pycharm": {
     "name": "#%%\n"
    }
   }
  },
  {
   "cell_type": "code",
   "execution_count": 180,
   "outputs": [
    {
     "data": {
      "text/plain": "2"
     },
     "execution_count": 180,
     "metadata": {},
     "output_type": "execute_result"
    }
   ],
   "source": [
    "# The number of dimensions of another_matrix\n",
    "another_matrix.ndim"
   ],
   "metadata": {
    "collapsed": false,
    "pycharm": {
     "name": "#%%\n"
    }
   }
  },
  {
   "cell_type": "code",
   "execution_count": 181,
   "outputs": [
    {
     "data": {
      "text/plain": "<tf.Tensor: shape=(3, 2, 3), dtype=int32, numpy=\narray([[[ 1,  2,  3],\n        [ 4,  5,  6]],\n\n       [[ 7,  8,  9],\n        [10, 11, 12]],\n\n       [[13, 14, 15],\n        [16, 17, 18]]], dtype=int32)>"
     },
     "execution_count": 181,
     "metadata": {},
     "output_type": "execute_result"
    }
   ],
   "source": [
    "# Let`s create a tensor\n",
    "tensor = tf.constant([[[1, 2, 3,],\n",
    "                       [4, 5, 6]],\n",
    "                      [[7, 8, 9],\n",
    "                       [10, 11, 12]],\n",
    "                     [[13, 14, 15],\n",
    "                      [16, 17, 18]]])\n",
    "tensor"
   ],
   "metadata": {
    "collapsed": false,
    "pycharm": {
     "name": "#%%\n"
    }
   }
  },
  {
   "cell_type": "code",
   "execution_count": 182,
   "outputs": [
    {
     "data": {
      "text/plain": "3"
     },
     "execution_count": 182,
     "metadata": {},
     "output_type": "execute_result"
    }
   ],
   "source": [
    "tensor.ndim"
   ],
   "metadata": {
    "collapsed": false,
    "pycharm": {
     "name": "#%%\n"
    }
   }
  },
  {
   "cell_type": "markdown",
   "source": [
    "What we`ve created so far:\n",
    "* Scalar: a single number\n",
    "* Vector: a number with direction (e.g wind speed and direction)\n",
    "* Matrix: a 2-dimensional array of numbers\n",
    "* Tensor: a n-dimensional array of numbers (when n can be any  number)"
   ],
   "metadata": {
    "collapsed": false,
    "pycharm": {
     "name": "#%% md\n"
    }
   }
  },
  {
   "cell_type": "markdown",
   "source": [
    "### Creating tensors with tf.Variable"
   ],
   "metadata": {
    "collapsed": false,
    "pycharm": {
     "name": "#%% md\n"
    }
   }
  },
  {
   "cell_type": "code",
   "execution_count": 183,
   "outputs": [
    {
     "data": {
      "text/plain": "tensorflow.python.ops.variables.Variable"
     },
     "execution_count": 183,
     "metadata": {},
     "output_type": "execute_result"
    }
   ],
   "source": [
    "tf.Variable"
   ],
   "metadata": {
    "collapsed": false,
    "pycharm": {
     "name": "#%%\n"
    }
   }
  },
  {
   "cell_type": "code",
   "execution_count": 184,
   "outputs": [
    {
     "data": {
      "text/plain": "(<tf.Variable 'Variable:0' shape=(2,) dtype=int32, numpy=array([10, 10], dtype=int32)>,\n <tf.Tensor: shape=(2,), dtype=int32, numpy=array([5, 5], dtype=int32)>)"
     },
     "execution_count": 184,
     "metadata": {},
     "output_type": "execute_result"
    }
   ],
   "source": [
    "# Create the same tensor with tf.Variable() as above\n",
    "changeable_tensor = tf.Variable([10, 10])\n",
    "unchangeable_tensor = tf.constant([5, 5])\n",
    "changeable_tensor, unchangeable_tensor"
   ],
   "metadata": {
    "collapsed": false,
    "pycharm": {
     "name": "#%%\n"
    }
   }
  },
  {
   "cell_type": "code",
   "execution_count": 185,
   "outputs": [
    {
     "ename": "TypeError",
     "evalue": "'ResourceVariable' object does not support item assignment",
     "output_type": "error",
     "traceback": [
      "\u001B[0;31m---------------------------------------------------------------------------\u001B[0m",
      "\u001B[0;31mTypeError\u001B[0m                                 Traceback (most recent call last)",
      "Input \u001B[0;32mIn [185]\u001B[0m, in \u001B[0;36m<cell line: 2>\u001B[0;34m()\u001B[0m\n\u001B[1;32m      1\u001B[0m \u001B[38;5;66;03m# Let`s try change one of the elements in our changeable tensor\u001B[39;00m\n\u001B[0;32m----> 2\u001B[0m \u001B[43mchangeable_tensor\u001B[49m\u001B[43m[\u001B[49m\u001B[38;5;241;43m0\u001B[39;49m\u001B[43m]\u001B[49m \u001B[38;5;241m=\u001B[39m \u001B[38;5;241m7\u001B[39m\n\u001B[1;32m      3\u001B[0m changeable_tensor\n",
      "\u001B[0;31mTypeError\u001B[0m: 'ResourceVariable' object does not support item assignment"
     ]
    }
   ],
   "source": [
    "# Let`s try change one of the elements in our changeable tensor\n",
    "changeable_tensor[0] = 7\n",
    "changeable_tensor"
   ],
   "metadata": {
    "collapsed": false,
    "pycharm": {
     "name": "#%%\n"
    }
   }
  },
  {
   "cell_type": "code",
   "execution_count": null,
   "outputs": [],
   "source": [
    "# How about we try .assign()\n",
    "changeable_tensor[0].assign(7)\n",
    "changeable_tensor"
   ],
   "metadata": {
    "collapsed": false,
    "pycharm": {
     "name": "#%%\n"
    }
   }
  },
  {
   "cell_type": "code",
   "execution_count": null,
   "outputs": [],
   "source": [
    "# Let`s try change our unchangeable tensor\n",
    "unchangeable_tensor[0].assign(888)"
   ],
   "metadata": {
    "collapsed": false,
    "pycharm": {
     "name": "#%%\n"
    }
   }
  },
  {
   "cell_type": "markdown",
   "source": [
    "# Creating random tensors\n",
    "\n",
    "Random tensors are tensors of some arbitrary size which contains random numbers"
   ],
   "metadata": {
    "collapsed": false,
    "pycharm": {
     "name": "#%% md\n"
    }
   }
  },
  {
   "cell_type": "code",
   "execution_count": null,
   "outputs": [],
   "source": [
    "# Create two random but the same tensors\n",
    "\n",
    "random_1 = tf.random.Generator.from_seed(5) # set seed for reproducibility\n",
    "random_1 = random_1.normal(shape=(3,2))\n",
    "random_2 = tf.random.Generator.from_seed(5)\n",
    "random_2 = random_2.normal(shape=(3,2))\n",
    "random_1, random_2, random_1 == random_2"
   ],
   "metadata": {
    "collapsed": false,
    "pycharm": {
     "name": "#%%\n"
    }
   }
  },
  {
   "cell_type": "markdown",
   "source": [
    "### Shuffle the order of elements in a tensor"
   ],
   "metadata": {
    "collapsed": false,
    "pycharm": {
     "name": "#%% md\n"
    }
   }
  },
  {
   "cell_type": "code",
   "execution_count": null,
   "outputs": [],
   "source": [
    "# Shuffle a tensor (valuable for when you want to shuffle your data so the inherent order doesn`t effect learning)\n",
    "not_shuffled = tf.constant([[10, 11],\n",
    "                           [12, 13],\n",
    "                           [14, 15]])\n",
    "not_shuffled.ndim"
   ],
   "metadata": {
    "collapsed": false,
    "pycharm": {
     "name": "#%%\n"
    }
   }
  },
  {
   "cell_type": "code",
   "execution_count": null,
   "outputs": [],
   "source": [
    "not_shuffled"
   ],
   "metadata": {
    "collapsed": false,
    "pycharm": {
     "name": "#%%\n"
    }
   }
  },
  {
   "cell_type": "code",
   "execution_count": null,
   "outputs": [],
   "source": [
    "# Shuffle our non-shuffled tensor\n",
    "tf.random.shuffle(not_shuffled, seed=5)"
   ],
   "metadata": {
    "collapsed": false,
    "pycharm": {
     "name": "#%%\n"
    }
   }
  },
  {
   "cell_type": "code",
   "execution_count": null,
   "outputs": [],
   "source": [
    "# Shuffle our non-shuffled tensor\n",
    "tf.random.shuffle(not_shuffled)"
   ],
   "metadata": {
    "collapsed": false,
    "pycharm": {
     "name": "#%%\n"
    }
   }
  },
  {
   "cell_type": "code",
   "execution_count": null,
   "outputs": [],
   "source": [
    "# Shuffle our non-shuffled tensor\n",
    "tf.random.set_seed(5)\n",
    "tf.random.shuffle(not_shuffled)"
   ],
   "metadata": {
    "collapsed": false,
    "pycharm": {
     "name": "#%%\n"
    }
   }
  },
  {
   "cell_type": "code",
   "execution_count": null,
   "outputs": [],
   "source": [
    "# Shuffle our non-shuffled tensor\n",
    "tf.random.shuffle(not_shuffled)"
   ],
   "metadata": {
    "collapsed": false,
    "pycharm": {
     "name": "#%%\n"
    }
   }
  },
  {
   "cell_type": "code",
   "execution_count": null,
   "outputs": [],
   "source": [
    "var = tf.constant([[1, 2, 3],\n",
    "                   [4, 4 ,22],\n",
    "                   [1, 22, 33],\n",
    "                   [13, 1231, 11]])\n",
    "tf.random.shuffle(var), tf.random.shuffle(var), tf.random.shuffle(var, seed=5), tf.random.shuffle(var, seed=5)"
   ],
   "metadata": {
    "collapsed": false,
    "pycharm": {
     "name": "#%%\n"
    }
   }
  },
  {
   "cell_type": "code",
   "execution_count": null,
   "outputs": [],
   "source": [
    "var1 = tf.random.normal(shape=(3, 1, 4), seed=4)\n",
    "var1\n",
    "tf.random.set_seed(seed=12)\n",
    "var1, tf.random.shuffle(var1), tf.random.shuffle(var1), tf.random.shuffle(var1, seed=12), tf.random.shuffle(var1, seed=12)"
   ],
   "metadata": {
    "collapsed": false,
    "pycharm": {
     "name": "#%%\n"
    }
   }
  },
  {
   "cell_type": "code",
   "execution_count": null,
   "outputs": [],
   "source": [
    "# Create a tensor of all ones\n",
    "tf.ones(shape = (10,10))\n"
   ],
   "metadata": {
    "collapsed": false,
    "pycharm": {
     "name": "#%%\n"
    }
   }
  },
  {
   "cell_type": "code",
   "execution_count": null,
   "outputs": [],
   "source": [
    "# Crete a tensor of all zeros\n",
    "tf.zeros([10, 10])"
   ],
   "metadata": {
    "collapsed": false,
    "pycharm": {
     "name": "#%%\n"
    }
   }
  },
  {
   "cell_type": "markdown",
   "source": [
    "### Turn NumPy arrays into tensors\n",
    "The main difference between NumPy arrays and TensorFlow tensors is that tensors can be run on a GPU(much faster  for numerical computing)"
   ],
   "metadata": {
    "collapsed": false,
    "pycharm": {
     "name": "#%% md\n"
    }
   }
  },
  {
   "cell_type": "code",
   "execution_count": 187,
   "outputs": [
    {
     "data": {
      "text/plain": "array([ 1,  2,  3,  4,  5,  6,  7,  8,  9, 10, 11, 12, 13, 14],\n      dtype=int32)"
     },
     "execution_count": 187,
     "metadata": {},
     "output_type": "execute_result"
    }
   ],
   "source": [
    "import numpy as np\n",
    "\n",
    "numpy_A = np.arange(1, 15, dtype = np.int32) # Create a NumPy array between 1 and 15\n",
    "numpy_A"
   ],
   "metadata": {
    "collapsed": false,
    "pycharm": {
     "name": "#%%\n"
    }
   }
  },
  {
   "cell_type": "code",
   "execution_count": null,
   "outputs": [],
   "source": [
    "A = tf.constant(numpy_A, shape=(2, 1, 7))\n",
    "A"
   ],
   "metadata": {
    "collapsed": false,
    "pycharm": {
     "name": "#%%\n"
    }
   }
  },
  {
   "cell_type": "markdown",
   "source": [
    "### Getting information from tensors\n",
    "When dealing with tensors you probably want to be aware of the following attributes:\n",
    "* Shape\n",
    "* Rank\n",
    "* Axis of dimension\n",
    "* Size"
   ],
   "metadata": {
    "collapsed": false,
    "pycharm": {
     "name": "#%% md\n"
    }
   }
  },
  {
   "cell_type": "code",
   "execution_count": null,
   "outputs": [],
   "source": [
    "# Create a rank 4 tensor(4 dimensions)\n",
    "rank_4_tensor = tf.zeros(shape=[2,3,4,5])\n",
    "rank_4_tensor"
   ],
   "metadata": {
    "collapsed": false,
    "pycharm": {
     "name": "#%%\n"
    }
   }
  },
  {
   "cell_type": "code",
   "execution_count": null,
   "outputs": [],
   "source": [
    "rank_4_tensor[0]"
   ],
   "metadata": {
    "collapsed": false,
    "pycharm": {
     "name": "#%%\n"
    }
   }
  },
  {
   "cell_type": "code",
   "execution_count": null,
   "outputs": [],
   "source": [
    "rank_4_tensor.shape, rank_4_tensor.ndim, tf.size(rank_4_tensor)"
   ],
   "metadata": {
    "collapsed": false,
    "pycharm": {
     "name": "#%%\n"
    }
   }
  },
  {
   "cell_type": "code",
   "execution_count": null,
   "outputs": [],
   "source": [
    "# Get various attributes of our tensor\n",
    "print(\"Datatype of every element:\", rank_4_tensor.dtype)\n",
    "print(\"Number of dimensions(rank):\", rank_4_tensor.ndim)\n",
    "print(\"Shape of tensor:\", rank_4_tensor.shape)\n",
    "print(\"Elements along the 0 axis:\", rank_4_tensor.shape[0])\n",
    "print(\"Elements along the last axis\", rank_4_tensor.shape[-1])\n",
    "print(\"The total elements in our tensor\", tf.size(rank_4_tensor).numpy())\n",
    "print(\"The total elements in our tensor\", tf.size(rank_4_tensor))"
   ],
   "metadata": {
    "collapsed": false,
    "pycharm": {
     "name": "#%%\n"
    }
   }
  },
  {
   "cell_type": "markdown",
   "source": [
    "### Indexing tensors\n",
    "\n",
    "Tensors can be indexed just like Python lists\n"
   ],
   "metadata": {
    "collapsed": false,
    "pycharm": {
     "name": "#%% md\n"
    }
   }
  },
  {
   "cell_type": "code",
   "execution_count": null,
   "outputs": [],
   "source": [
    "# Get the first 2 elements of each dimension\n",
    "rank_4_tensor[:2, :2, :2, :2]"
   ],
   "metadata": {
    "collapsed": false,
    "pycharm": {
     "name": "#%%\n"
    }
   }
  },
  {
   "cell_type": "code",
   "execution_count": null,
   "outputs": [],
   "source": [
    "# Get the first element from each dimension from each index except for the final one\n",
    "rank_4_tensor[:1, :1, :1]"
   ],
   "metadata": {
    "collapsed": false,
    "pycharm": {
     "name": "#%%\n"
    }
   }
  },
  {
   "cell_type": "code",
   "execution_count": null,
   "outputs": [],
   "source": [
    "# Create a rank 2 tensor\n",
    "rank_2_tensor = tf.constant([[10, 7],\n",
    "                           [3, 4]])\n",
    "rank_2_tensor.shape, rank_2_tensor.ndim"
   ],
   "metadata": {
    "collapsed": false,
    "pycharm": {
     "name": "#%%\n"
    }
   }
  },
  {
   "cell_type": "code",
   "execution_count": null,
   "outputs": [],
   "source": [
    "# Get the last item of each raw of our rank 22 tensor\n",
    "rank_2_tensor[:,:-1]"
   ],
   "metadata": {
    "collapsed": false,
    "pycharm": {
     "name": "#%%\n"
    }
   }
  },
  {
   "cell_type": "code",
   "execution_count": null,
   "outputs": [],
   "source": [
    "rank_3_tensor = rank_2_tensor[..., tf.newaxis]\n",
    "rank_3_tensor"
   ],
   "metadata": {
    "collapsed": false,
    "pycharm": {
     "name": "#%%\n"
    }
   }
  },
  {
   "cell_type": "code",
   "execution_count": null,
   "outputs": [],
   "source": [
    "# Alternative to rf.newaxis\n",
    "tf.expand_dims(rank_2_tensor, axis=-1) # \"-1\" means expand the final axis"
   ],
   "metadata": {
    "collapsed": false,
    "pycharm": {
     "name": "#%%\n"
    }
   }
  },
  {
   "cell_type": "code",
   "execution_count": null,
   "outputs": [],
   "source": [
    "tf.expand_dims(rank_2_tensor, axis=0) # expand the 0-axis"
   ],
   "metadata": {
    "collapsed": false,
    "pycharm": {
     "name": "#%%\n"
    }
   }
  },
  {
   "cell_type": "code",
   "execution_count": null,
   "outputs": [],
   "source": [
    "rank_2_tensor"
   ],
   "metadata": {
    "collapsed": false,
    "pycharm": {
     "name": "#%%\n"
    }
   }
  },
  {
   "cell_type": "markdown",
   "source": [],
   "metadata": {
    "collapsed": false,
    "pycharm": {
     "name": "#%% md\n"
    }
   }
  },
  {
   "cell_type": "markdown",
   "source": [
    "### Matrix multiplication\n",
    "\n",
    "In machine learning, matrix multiplications is one of the most common tensor operations"
   ],
   "metadata": {
    "collapsed": false,
    "pycharm": {
     "name": "#%% md\n"
    }
   }
  },
  {
   "cell_type": "code",
   "execution_count": null,
   "outputs": [],
   "source": [
    "# Matrix multiplication in tensorflow\n",
    "\n",
    "tensor = tf.random.normal([2,2])\n",
    "tensor, tf.matmul(tensor, tensor), tensor * tensor"
   ],
   "metadata": {
    "collapsed": false,
    "pycharm": {
     "name": "#%%\n"
    }
   }
  },
  {
   "cell_type": "code",
   "execution_count": null,
   "outputs": [],
   "source": [
    "# Matrix multiplication with Python operator @\n",
    "\n",
    "tensor@tensor"
   ],
   "metadata": {
    "collapsed": false,
    "pycharm": {
     "name": "#%%\n"
    }
   }
  },
  {
   "cell_type": "code",
   "execution_count": null,
   "outputs": [],
   "source": [
    "# Find the variance of our tensor\n",
    "tf.reduce_variance(tensor) # won`t work..."
   ],
   "metadata": {
    "collapsed": false,
    "pycharm": {
     "name": "#%%\n"
    }
   }
  },
  {
   "cell_type": "code",
   "execution_count": null,
   "outputs": [],
   "source": [
    "import tensorflow_probability as tfp\n",
    "tfp.stats.variance(tensor), tf.math.reduce_variance(tf.cast(tensor, dtype=tf.float32))"
   ],
   "metadata": {
    "collapsed": false,
    "pycharm": {
     "name": "#%%\n"
    }
   }
  },
  {
   "cell_type": "code",
   "execution_count": null,
   "outputs": [],
   "source": [
    "# Find the standard deviation\n",
    "tf.reduce_std(tensor) # won`t work"
   ],
   "metadata": {
    "collapsed": false,
    "pycharm": {
     "name": "#%%\n"
    }
   }
  },
  {
   "cell_type": "code",
   "execution_count": null,
   "outputs": [],
   "source": [
    "tf.math.reduce_std(tensor)"
   ],
   "metadata": {
    "collapsed": false,
    "pycharm": {
     "name": "#%%\n"
    }
   }
  },
  {
   "cell_type": "code",
   "execution_count": null,
   "outputs": [],
   "source": [
    "tf.math.reduce_std(tf.cast(tensor, dtype=tf.float32))"
   ],
   "metadata": {
    "collapsed": false,
    "pycharm": {
     "name": "#%%\n"
    }
   }
  },
  {
   "cell_type": "markdown",
   "source": [
    " ### Find the positional maximum and minimum"
   ],
   "metadata": {
    "collapsed": false,
    "pycharm": {
     "name": "#%% md\n"
    }
   }
  },
  {
   "cell_type": "code",
   "execution_count": null,
   "outputs": [],
   "source": [
    "# Create a new tensor for finding positional minimum and maximum\n",
    "tf.random.set_seed(42)\n",
    "F = tf.random.uniform(shape=[50])\n",
    "F"
   ],
   "metadata": {
    "collapsed": false,
    "pycharm": {
     "name": "#%%\n"
    }
   }
  },
  {
   "cell_type": "code",
   "execution_count": null,
   "outputs": [],
   "source": [
    "# Find the positional maximum\n",
    "tf.argmax(F)"
   ],
   "metadata": {
    "collapsed": false,
    "pycharm": {
     "name": "#%%\n"
    }
   }
  },
  {
   "cell_type": "code",
   "execution_count": null,
   "outputs": [],
   "source": [
    "# Index on our largest value position\n",
    "F[tf.argmax(F)]"
   ],
   "metadata": {
    "collapsed": false,
    "pycharm": {
     "name": "#%%\n"
    }
   }
  },
  {
   "cell_type": "code",
   "execution_count": null,
   "outputs": [],
   "source": [
    "# Find the max value of F\n",
    "tf.reduce_max(F)"
   ],
   "metadata": {
    "collapsed": false,
    "pycharm": {
     "name": "#%%\n"
    }
   }
  },
  {
   "cell_type": "code",
   "execution_count": null,
   "outputs": [],
   "source": [
    "# Check for equality\n",
    "F[tf.argmax(F)] == tf.reduce_max(F)"
   ],
   "metadata": {
    "collapsed": false,
    "pycharm": {
     "name": "#%%\n"
    }
   }
  },
  {
   "cell_type": "code",
   "execution_count": null,
   "outputs": [],
   "source": [
    "# Find the positional minimum\n",
    "tf.argmin(F)"
   ],
   "metadata": {
    "collapsed": false,
    "pycharm": {
     "name": "#%%\n"
    }
   }
  },
  {
   "cell_type": "code",
   "execution_count": null,
   "outputs": [],
   "source": [
    "# Index on our smallest value position\n",
    "F[tf.argmin(F)]"
   ],
   "metadata": {
    "collapsed": false,
    "pycharm": {
     "name": "#%%\n"
    }
   }
  },
  {
   "cell_type": "code",
   "execution_count": null,
   "outputs": [],
   "source": [
    "tf.reduce_min(F)"
   ],
   "metadata": {
    "collapsed": false,
    "pycharm": {
     "name": "#%%\n"
    }
   }
  },
  {
   "cell_type": "markdown",
   "source": [
    "### Squeezing a tensor (moving all single dimensions)"
   ],
   "metadata": {
    "collapsed": false,
    "pycharm": {
     "name": "#%% md\n"
    }
   }
  },
  {
   "cell_type": "code",
   "execution_count": null,
   "outputs": [],
   "source": [
    "# Create a tensor to get started\n",
    "tf.random.set_seed(42)\n",
    "G = tf.constant(tf.random.uniform(shape=[50]), shape=(1, 1, 1, 1, 50))\n",
    "G"
   ],
   "metadata": {
    "collapsed": false,
    "pycharm": {
     "name": "#%%\n"
    }
   }
  },
  {
   "cell_type": "code",
   "execution_count": null,
   "outputs": [],
   "source": [
    "G.shape"
   ],
   "metadata": {
    "collapsed": false,
    "pycharm": {
     "name": "#%%\n"
    }
   }
  },
  {
   "cell_type": "code",
   "execution_count": null,
   "outputs": [],
   "source": [
    "G_squeezed = tf.squeeze(G)\n",
    "G_squeezed, G_squeezed.shape"
   ],
   "metadata": {
    "collapsed": false,
    "pycharm": {
     "name": "#%%\n"
    }
   }
  },
  {
   "cell_type": "markdown",
   "source": [
    "### One hot encoding tensors"
   ],
   "metadata": {
    "collapsed": false,
    "pycharm": {
     "name": "#%% md\n"
    }
   }
  },
  {
   "cell_type": "code",
   "execution_count": null,
   "outputs": [],
   "source": [
    "# Create a list of indices\n",
    "some_list = [0, 1, 2, 3] # Could be red, green, blue, purple\n",
    "\n",
    "# One hot encode our list of indices\n",
    "tf.one_hot(some_list)"
   ],
   "metadata": {
    "collapsed": false,
    "pycharm": {
     "name": "#%%\n"
    }
   }
  },
  {
   "cell_type": "code",
   "execution_count": null,
   "outputs": [],
   "source": [
    "tf.one_hot(some_list, depth=4)"
   ],
   "metadata": {
    "collapsed": false,
    "pycharm": {
     "name": "#%%\n"
    }
   }
  },
  {
   "cell_type": "code",
   "execution_count": null,
   "outputs": [],
   "source": [
    "# Specify custom values for one hot encoding\n",
    "tf.one_hot(some_list, depth=4, on_value='yo I live deep learning', off_value='I also like to draw')"
   ],
   "metadata": {
    "collapsed": false,
    "pycharm": {
     "name": "#%%\n"
    }
   }
  },
  {
   "cell_type": "markdown",
   "source": [
    "### Squaring, log, square root"
   ],
   "metadata": {
    "collapsed": false,
    "pycharm": {
     "name": "#%% md\n"
    }
   }
  },
  {
   "cell_type": "code",
   "execution_count": null,
   "outputs": [],
   "source": [
    "H = tf.range(1, 10)\n",
    "H"
   ],
   "metadata": {
    "collapsed": false,
    "pycharm": {
     "name": "#%%\n"
    }
   }
  },
  {
   "cell_type": "code",
   "execution_count": null,
   "outputs": [],
   "source": [
    "# Square it\n",
    "tf.square(H)"
   ],
   "metadata": {
    "collapsed": false,
    "pycharm": {
     "name": "#%%\n"
    }
   }
  },
  {
   "cell_type": "code",
   "execution_count": null,
   "outputs": [],
   "source": [
    "# Square root\n",
    "tf.math.sqrt(H) # will error, method requires non-int type"
   ],
   "metadata": {
    "collapsed": false,
    "pycharm": {
     "name": "#%%\n"
    }
   }
  },
  {
   "cell_type": "code",
   "execution_count": null,
   "outputs": [],
   "source": [
    "tf.math.sqrt(tf.cast(H, dtype=tf.float32))"
   ],
   "metadata": {
    "collapsed": false,
    "pycharm": {
     "name": "#%%\n"
    }
   }
  },
  {
   "cell_type": "code",
   "execution_count": null,
   "outputs": [],
   "source": [
    "# Find the log\n",
    "tf.math.log(H) # will error, method requires non-int type"
   ],
   "metadata": {
    "collapsed": false,
    "pycharm": {
     "name": "#%%\n"
    }
   }
  },
  {
   "cell_type": "code",
   "execution_count": null,
   "outputs": [],
   "source": [
    "tf.math.log(tf.cast(H, dtype=tf.float32))"
   ],
   "metadata": {
    "collapsed": false,
    "pycharm": {
     "name": "#%%\n"
    }
   }
  },
  {
   "cell_type": "code",
   "execution_count": null,
   "outputs": [],
   "source": [],
   "metadata": {
    "collapsed": false,
    "pycharm": {
     "name": "#%%\n"
    }
   }
  },
  {
   "cell_type": "markdown",
   "source": [
    "### Tensors and NumPy\n",
    "\n",
    "TensorFlow interacts beautifully with NumPy Arrays."
   ],
   "metadata": {
    "collapsed": false,
    "pycharm": {
     "name": "#%% md\n"
    }
   }
  },
  {
   "cell_type": "code",
   "execution_count": 188,
   "outputs": [
    {
     "data": {
      "text/plain": "<tf.Tensor: shape=(3,), dtype=float64, numpy=array([ 3.,  8., 10.])>"
     },
     "execution_count": 188,
     "metadata": {},
     "output_type": "execute_result"
    }
   ],
   "source": [
    "# Create a tensor directly from a NumPy array\n",
    "J = tf.constant(np.array([3., 8., 10.]))\n",
    "J"
   ],
   "metadata": {
    "collapsed": false,
    "pycharm": {
     "name": "#%%\n"
    }
   }
  },
  {
   "cell_type": "code",
   "execution_count": 189,
   "outputs": [
    {
     "data": {
      "text/plain": "(array([ 3.,  8., 10.]), numpy.ndarray)"
     },
     "execution_count": 189,
     "metadata": {},
     "output_type": "execute_result"
    }
   ],
   "source": [
    "# Convert our tensor back to a Numpy array\n",
    "np.array(J), type(np.array(J))"
   ],
   "metadata": {
    "collapsed": false,
    "pycharm": {
     "name": "#%%\n"
    }
   }
  },
  {
   "cell_type": "code",
   "execution_count": 190,
   "outputs": [
    {
     "data": {
      "text/plain": "(array([ 3.,  8., 10.]), numpy.ndarray)"
     },
     "execution_count": 190,
     "metadata": {},
     "output_type": "execute_result"
    }
   ],
   "source": [
    "# Convert tensor J to a Numpy array\n",
    "J.numpy(), type(J.numpy())"
   ],
   "metadata": {
    "collapsed": false,
    "pycharm": {
     "name": "#%%\n"
    }
   }
  },
  {
   "cell_type": "code",
   "execution_count": 193,
   "outputs": [
    {
     "data": {
      "text/plain": "(tf.float64, tf.float32)"
     },
     "execution_count": 193,
     "metadata": {},
     "output_type": "execute_result"
    }
   ],
   "source": [
    "# The default types of each are slightly different\n",
    "numpy_J = tf.constant(np.array([3., 10., 7.]))\n",
    "tensor_J = tf.constant([3., 10., 7.])\n",
    "# Check the datatypes of each\n",
    "numpy_J.dtype, tensor_J.dtype"
   ],
   "metadata": {
    "collapsed": false,
    "pycharm": {
     "name": "#%%\n"
    }
   }
  },
  {
   "cell_type": "markdown",
   "source": [
    "### Finding access to GPUs"
   ],
   "metadata": {
    "collapsed": false,
    "pycharm": {
     "name": "#%% md\n"
    }
   }
  },
  {
   "cell_type": "code",
   "execution_count": 196,
   "outputs": [
    {
     "data": {
      "text/plain": "[PhysicalDevice(name='/physical_device:CPU:0', device_type='CPU')]"
     },
     "execution_count": 196,
     "metadata": {},
     "output_type": "execute_result"
    }
   ],
   "source": [
    "tf.config.list_physical_devices()"
   ],
   "metadata": {
    "collapsed": false,
    "pycharm": {
     "name": "#%%\n"
    }
   }
  },
  {
   "cell_type": "code",
   "execution_count": 197,
   "outputs": [
    {
     "name": "stdout",
     "output_type": "stream",
     "text": [
      "/bin/bash: line 1: nvidia-smi: command not found\r\n"
     ]
    }
   ],
   "source": [
    "!nvidia-smi"
   ],
   "metadata": {
    "collapsed": false,
    "pycharm": {
     "name": "#%%\n"
    }
   }
  },
  {
   "cell_type": "markdown",
   "source": [
    "### TensorFlow Fundamentals Exercises\n"
   ],
   "metadata": {
    "collapsed": false,
    "pycharm": {
     "name": "#%% md\n"
    }
   }
  },
  {
   "cell_type": "code",
   "execution_count": 198,
   "outputs": [
    {
     "data": {
      "text/plain": "(<tf.Tensor: shape=(4,), dtype=int32, numpy=array([  1, 222,   3,   4], dtype=int32)>,\n <tf.Tensor: shape=(), dtype=int32, numpy=10>,\n <tf.Tensor: shape=(5, 10), dtype=float32, numpy=\n array([[16.878912 , 14.844789 , 19.309944 , 12.52187  , 17.311539 ,\n         18.925682 , 19.467484 , 17.493341 , 13.492563 , 15.471826 ],\n        [12.616039 , 16.973433 , 11.196259 , 15.348434 , 17.148968 ,\n         18.750177 , 13.3967495, 11.737762 , 14.418521 , 19.00826  ],\n        [11.380386 , 11.221798 , 15.754491 , 19.417181 , 19.186584 ,\n         15.970848 , 16.109482 , 18.208626 , 18.326979 , 18.915848 ],\n        [10.137722 , 14.980746 , 15.750366 , 16.856194 , 17.597279 ,\n         19.08944  , 14.090022 , 18.765154 , 15.389003 , 14.27331  ],\n        [14.01173  , 16.662325 , 11.634807 , 11.822024 , 19.704018 ,\n         10.613974 , 15.303474 , 19.869995 , 14.746944 , 18.646755 ]],\n       dtype=float32)>,\n <tf.Tensor: shape=(5, 5, 2), dtype=float32, numpy=\n array([[[-0.55909735, -0.5347214 ],\n         [ 2.3730333 , -1.5725931 ],\n         [ 0.8055056 , -0.83387697],\n         [ 0.30611223,  2.2660494 ],\n         [ 0.2856414 , -1.5536156 ]],\n \n        [[ 0.37975532,  0.76646256],\n         [ 0.3611479 ,  0.09653295],\n         [ 0.2169556 , -0.81440705],\n         [-0.23623598,  0.49669704],\n         [-1.7737728 ,  0.20886712]],\n \n        [[ 1.0022159 , -0.12915266],\n         [ 0.16589078,  0.4733353 ],\n         [-0.834051  ,  1.013081  ],\n         [ 0.41076526,  0.5531745 ],\n         [ 1.7808596 , -0.3277541 ]],\n \n        [[ 0.9474485 ,  0.9795105 ],\n         [-0.46425048,  1.3030936 ],\n         [-0.24370237,  0.66929215],\n         [ 0.39855948, -2.4770668 ],\n         [-0.3692293 , -0.8428784 ]],\n \n        [[ 1.8889831 , -0.6198924 ],\n         [ 1.0777894 ,  1.0240268 ],\n         [ 0.26340935, -0.9011545 ],\n         [ 0.8177133 , -0.27730602],\n         [ 1.1863395 , -0.11432811]]], dtype=float32)>)"
     },
     "execution_count": 198,
     "metadata": {},
     "output_type": "execute_result"
    }
   ],
   "source": [
    "# 1. Create a vector, scalar, matrix and tensor with values of your choosing using tf.constant().\n",
    "\n",
    "vector = tf.constant([1, 222, 3, 4])\n",
    "scalar = tf.constant(10)\n",
    "matrix = tf.constant(tf.random.uniform(shape=[50], minval=10, maxval=20), shape=(5, 10))\n",
    "tensor = tf.constant(tf.random.normal(shape=[50]), shape=(5, 5, 2))\n",
    "vector, scalar, matrix, tensor"
   ],
   "metadata": {
    "collapsed": false,
    "pycharm": {
     "name": "#%%\n"
    }
   }
  },
  {
   "cell_type": "code",
   "execution_count": 199,
   "outputs": [
    {
     "data": {
      "text/plain": "((TensorShape([4]), 1, <tf.Tensor: shape=(), dtype=int32, numpy=4>),\n (TensorShape([]), 0, <tf.Tensor: shape=(), dtype=int32, numpy=1>),\n (TensorShape([5, 10]), 2, <tf.Tensor: shape=(), dtype=int32, numpy=50>),\n (TensorShape([5, 5, 2]), 3, <tf.Tensor: shape=(), dtype=int32, numpy=50>))"
     },
     "execution_count": 199,
     "metadata": {},
     "output_type": "execute_result"
    }
   ],
   "source": [
    "# 2. Find the shape, rank and size of the tensors you created in 1\n",
    "(vector.shape, vector.ndim, tf.size(vector)), (scalar.shape, scalar.ndim, tf.size(scalar)), (matrix.shape, matrix.ndim, tf.size(matrix)), (tensor.shape, tensor.ndim, tf.size(tensor))"
   ],
   "metadata": {
    "collapsed": false,
    "pycharm": {
     "name": "#%%\n"
    }
   }
  },
  {
   "cell_type": "code",
   "execution_count": null,
   "outputs": [],
   "source": [
    "# 3. Create two tensors containing random values between 0 and 1 with shape [5, 300]."
   ],
   "metadata": {
    "collapsed": false,
    "pycharm": {
     "name": "#%%\n"
    }
   }
  },
  {
   "cell_type": "code",
   "execution_count": 201,
   "outputs": [
    {
     "data": {
      "text/plain": "(<tf.Tensor: shape=(5, 300), dtype=float32, numpy=\n array([[0.95831835, 0.01680839, 0.3156035 , ..., 0.67105925, 0.76730955,\n         0.20125735],\n        [0.09921694, 0.02475083, 0.47242153, ..., 0.9631474 , 0.34333456,\n         0.8129494 ],\n        [0.08817983, 0.9311962 , 0.2293179 , ..., 0.41450226, 0.008304  ,\n         0.02438807],\n        [0.54814565, 0.37019622, 0.5272658 , ..., 0.8656951 , 0.19644582,\n         0.5959221 ],\n        [0.8964087 , 0.15288067, 0.3360591 , ..., 0.5725572 , 0.4094149 ,\n         0.40059018]], dtype=float32)>,\n <tf.Tensor: shape=(5, 300), dtype=float32, numpy=\n array([[0.43555546, 0.52486527, 0.49674678, ..., 0.00552487, 0.3156761 ,\n         0.22303641],\n        [0.93881905, 0.02025807, 0.8929347 , ..., 0.47184265, 0.93879664,\n         0.27382708],\n        [0.8537835 , 0.287457  , 0.57827055, ..., 0.22605908, 0.62864304,\n         0.28893173],\n        [0.83130777, 0.13316286, 0.4270022 , ..., 0.96334374, 0.81353974,\n         0.47423255],\n        [0.20213544, 0.15954506, 0.9492575 , ..., 0.93022454, 0.31091654,\n         0.41263437]], dtype=float32)>)"
     },
     "execution_count": 201,
     "metadata": {},
     "output_type": "execute_result"
    }
   ],
   "source": [
    "a = tf.constant(tf.random.uniform(shape=[5, 300]))\n",
    "b = tf.constant(tf.random.uniform(shape=[5, 300]))\n",
    "a, b"
   ],
   "metadata": {
    "collapsed": false,
    "pycharm": {
     "name": "#%%\n"
    }
   }
  },
  {
   "cell_type": "code",
   "execution_count": 204,
   "outputs": [
    {
     "data": {
      "text/plain": "(<tf.Tensor: shape=(5, 5), dtype=float32, numpy=\n array([[73.45298 , 74.09732 , 74.09219 , 73.014366, 73.15687 ],\n        [74.90097 , 75.270905, 77.775635, 74.378746, 74.9059  ],\n        [83.04033 , 79.46228 , 82.30002 , 80.63678 , 78.7219  ],\n        [76.866684, 76.41698 , 79.003265, 77.38613 , 77.40253 ],\n        [76.20903 , 74.70784 , 79.07423 , 75.5235  , 73.947845]],\n       dtype=float32)>,\n <tf.Tensor: shape=(300, 300), dtype=float32, numpy=\n array([[1.2227077 , 0.74635607, 1.7006097 , ..., 1.4339572 , 1.175743  ,\n         0.89622366],\n        [1.164247  , 0.35069013, 0.87213147, ..., 0.7211163 , 0.9626345 ,\n         0.5182214 ],\n        [1.2830186 , 0.3649675 , 1.2553747 , ..., 1.0970403 , 1.2207333 ,\n         0.6547262 ],\n        ...,\n        [2.385793  , 0.6975059 , 2.3462267 , ..., 1.9184322 , 2.258906  ,\n         1.1799669 ],\n        [0.9096889 , 0.5035559 , 1.1650587 , ..., 0.738209  , 0.8568732 ,\n         0.5296512 ],\n        [1.4480615 , 0.2723792 , 1.4747108 , ..., 1.3369259 , 1.4514141 ,\n         0.7224447 ]], dtype=float32)>)"
     },
     "execution_count": 204,
     "metadata": {},
     "output_type": "execute_result"
    }
   ],
   "source": [
    "# 4. Multiply the two tensors you created in 3 using matrix multiplication.\n",
    "tf.matmul(a, tf.transpose(b)), tf.matmul(tf.transpose(a), b)"
   ],
   "metadata": {
    "collapsed": false,
    "pycharm": {
     "name": "#%%\n"
    }
   }
  },
  {
   "cell_type": "code",
   "execution_count": 211,
   "outputs": [
    {
     "data": {
      "text/plain": "(<tf.Tensor: shape=(5, 5), dtype=float32, numpy=\n array([[73.45298 , 74.09732 , 74.09219 , 73.014366, 73.15687 ],\n        [74.90097 , 75.270905, 77.775635, 74.378746, 74.9059  ],\n        [83.04033 , 79.46228 , 82.30002 , 80.63678 , 78.7219  ],\n        [76.866684, 76.41698 , 79.003265, 77.38613 , 77.40253 ],\n        [76.20903 , 74.70784 , 79.07423 , 75.5235  , 73.947845]],\n       dtype=float32)>,\n <tf.Tensor: shape=(300, 300), dtype=float32, numpy=\n array([[1.2227077 , 0.74635607, 1.7006097 , ..., 1.4339572 , 1.175743  ,\n         0.89622366],\n        [1.164247  , 0.35069013, 0.87213147, ..., 0.7211163 , 0.9626345 ,\n         0.5182214 ],\n        [1.2830186 , 0.3649675 , 1.2553747 , ..., 1.0970403 , 1.2207333 ,\n         0.6547262 ],\n        ...,\n        [2.385793  , 0.6975059 , 2.3462267 , ..., 1.9184322 , 2.258906  ,\n         1.1799669 ],\n        [0.9096889 , 0.5035559 , 1.1650587 , ..., 0.738209  , 0.8568732 ,\n         0.5296512 ],\n        [1.4480615 , 0.2723792 , 1.4747108 , ..., 1.3369259 , 1.4514141 ,\n         0.7224447 ]], dtype=float32)>,\n <tf.Tensor: shape=(5, 300, 300, 5), dtype=float32, numpy=\n array([[[[4.17400777e-01, 8.99687529e-01, 8.18196356e-01,\n           7.96657503e-01, 1.93710104e-01],\n          [5.02988040e-01, 1.94136798e-02, 2.75475323e-01,\n           1.27612412e-01, 1.52894959e-01],\n          [4.76041555e-01, 8.55715692e-01, 5.54167271e-01,\n           4.09204036e-01, 9.09690857e-01],\n          ...,\n          [5.29458793e-03, 4.52175468e-01, 2.16636568e-01,\n           9.23189998e-01, 8.91451240e-01],\n          [3.02518189e-01, 8.99666071e-01, 6.02440178e-01,\n           7.79630065e-01, 2.97957033e-01],\n          [2.13739887e-01, 2.62413502e-01, 2.76888579e-01,\n           4.54465747e-01, 3.95435095e-01]],\n \n         [[7.32098613e-03, 1.57800373e-02, 1.43507263e-02,\n           1.39729455e-02, 3.39757139e-03],\n          [8.82214028e-03, 3.40505532e-04, 4.83168941e-03,\n           2.23825336e-03, 2.68169586e-03],\n          [8.34951364e-03, 1.50087951e-02, 9.71979741e-03,\n           7.17721973e-03, 1.59554910e-02],\n          ...,\n          [9.28642330e-05, 7.93091580e-03, 3.79968924e-03,\n           1.61922574e-02, 1.56355780e-02],\n          [5.30600687e-03, 1.57796610e-02, 1.05664777e-02,\n           1.36742936e-02, 5.22600673e-03],\n          [3.74888303e-03, 4.60259244e-03, 4.85647749e-03,\n           7.97108561e-03, 6.93571987e-03]],\n \n         [[1.37462825e-01, 2.96294570e-01, 2.69457042e-01,\n           2.62363642e-01, 6.37946501e-02],\n          [1.65649310e-01, 6.39351737e-03, 9.07224268e-02,\n           4.20266613e-02, 5.03529795e-02],\n          [1.56775013e-01, 2.81813294e-01, 1.82504207e-01,\n           1.34763390e-01, 2.99588978e-01],\n          ...,\n          [1.74366951e-03, 1.48915187e-01, 7.13450387e-02,\n           3.04034650e-01, 2.93582112e-01],\n          [9.96284783e-02, 2.96287507e-01, 1.98401943e-01,\n           2.56755978e-01, 9.81263444e-02],\n          [7.03910664e-02, 8.64207819e-02, 9.11878645e-02,\n           1.49669454e-01, 1.30228847e-01]],\n \n         ...,\n \n         [[2.92283505e-01, 6.30003214e-01, 5.72939336e-01,\n           5.57856798e-01, 1.35644853e-01],\n          [3.52215707e-01, 1.35943647e-02, 1.92900673e-01,\n           8.93601701e-02, 1.07064188e-01],\n          [3.33346516e-01, 5.99212050e-01, 3.88053805e-01,\n           2.86543757e-01, 6.37008011e-01],\n          ...,\n          [3.70751764e-03, 3.16634387e-01, 1.51699036e-01,\n           6.46460712e-01, 6.24235809e-01],\n          [2.11837366e-01, 6.29988194e-01, 4.21856731e-01,\n           5.45933366e-01, 2.08643422e-01],\n          [1.49670646e-01, 1.83754191e-01, 1.93890303e-01,\n           3.18238139e-01, 2.76902109e-01]],\n \n         [[3.34205866e-01, 7.20364809e-01, 6.55116200e-01,\n           6.37870371e-01, 1.55100450e-01],\n          [4.02734131e-01, 1.55442096e-02, 2.20568493e-01,\n           1.02177128e-01, 1.22420453e-01],\n          [3.81158531e-01, 6.85157299e-01, 4.43712503e-01,\n           3.27642858e-01, 7.28374362e-01],\n          ...,\n          [4.23928816e-03, 3.62049371e-01, 1.73457295e-01,\n           7.39182830e-01, 7.13770151e-01],\n          [2.42221281e-01, 7.20347643e-01, 4.82363790e-01,\n           6.24236822e-01, 2.38569230e-01],\n          [1.71137959e-01, 2.10110128e-01, 2.21700072e-01,\n           3.63883168e-01, 3.16618294e-01]],\n \n         [[8.76587331e-02, 1.88944235e-01, 1.71830207e-01,\n           1.67306796e-01, 4.06812429e-02],\n          [1.05632991e-01, 4.07708529e-03, 5.78528307e-02,\n           2.68000029e-02, 3.21096182e-02],\n          [9.99739394e-02, 1.79709673e-01, 1.16381198e-01,\n           8.59373286e-02, 1.91045046e-01],\n          ...,\n          [1.11192139e-03, 9.49617997e-02, 4.54960503e-02,\n           1.93880007e-01, 1.87214524e-01],\n          [6.35321364e-02, 1.88939720e-01, 1.26519024e-01,\n           1.63730845e-01, 6.25742376e-02],\n          [4.48877178e-02, 5.51097095e-02, 5.81496321e-02,\n           9.54427868e-02, 8.30456987e-02]]],\n \n \n        [[[4.32144776e-02, 9.31467488e-02, 8.47097859e-02,\n           8.24798122e-02, 2.00552605e-02],\n          [5.20755239e-02, 2.00994359e-03, 2.85206027e-02,\n           1.32120112e-02, 1.58295725e-02],\n          [4.92856950e-02, 8.85942429e-02, 5.73742352e-02,\n           4.23658490e-02, 9.41824242e-02],\n          ...,\n          [5.48161042e-04, 4.68147844e-02, 2.24288888e-02,\n           9.55800191e-02, 9.22940299e-02],\n          [3.13204154e-02, 9.31445286e-02, 6.23720363e-02,\n           8.07169229e-02, 3.08481865e-02],\n          [2.21289899e-02, 2.71682832e-02, 2.86669210e-02,\n           4.70519029e-02, 4.09403183e-02]],\n \n         [[1.07803587e-02, 2.32365504e-02, 2.11318489e-02,\n           2.05755569e-02, 5.00301970e-03],\n          [1.29908500e-02, 5.01403993e-04, 7.11479876e-03,\n           3.29589099e-03, 3.94887244e-03],\n          [1.22948941e-02, 2.21008733e-02, 1.43126752e-02,\n           1.05686579e-02, 2.34949104e-02],\n          ...,\n          [1.36745206e-04, 1.16784964e-02, 5.59514947e-03,\n           2.38435566e-02, 2.30238289e-02],\n          [7.81324506e-03, 2.32359953e-02, 1.55594358e-02,\n           2.01357827e-02, 7.69544207e-03],\n          [5.52033586e-03, 6.77744718e-03, 7.15129962e-03,\n           1.17376484e-02, 1.02130426e-02]],\n \n         [[2.05765769e-01, 4.43518341e-01, 4.03345704e-01,\n           3.92727673e-01, 9.54931378e-02],\n          [2.47957647e-01, 9.57034808e-03, 1.35800868e-01,\n           6.29089996e-02, 7.53725246e-02],\n          [2.34673873e-01, 4.21841562e-01, 2.73187459e-01,\n           2.01725021e-01, 4.48449671e-01],\n          ...,\n          [2.61006923e-03, 2.22908631e-01, 1.06795177e-01,\n           4.55104321e-01, 4.39458102e-01],\n          [1.49132177e-01, 4.43507731e-01, 2.96984494e-01,\n           3.84333700e-01, 1.46883667e-01],\n          [1.05367199e-01, 1.29361808e-01, 1.36497572e-01,\n           2.24037662e-01, 1.94937363e-01]],\n \n         ...,\n \n         [[4.19504106e-01, 9.04221117e-01, 8.22319329e-01,\n           8.00671935e-01, 1.94686234e-01],\n          [5.05522609e-01, 1.95115060e-02, 2.76863456e-01,\n           1.28255457e-01, 1.53665408e-01],\n          [4.78440374e-01, 8.60027730e-01, 5.56959808e-01,\n           4.11266059e-01, 9.14274871e-01],\n          ...,\n          [5.32126799e-03, 4.54454005e-01, 2.17728212e-01,\n           9.27842021e-01, 8.95943344e-01],\n          [3.04042608e-01, 9.04199541e-01, 6.05475903e-01,\n           7.83558667e-01, 2.99458474e-01],\n          [2.14816943e-01, 2.63735831e-01, 2.78283834e-01,\n           4.56755847e-01, 3.97427738e-01]],\n \n         [[1.49541244e-01, 3.22329015e-01, 2.93133378e-01,\n           2.85416692e-01, 6.94000795e-02],\n          [1.80204391e-01, 6.95529534e-03, 9.86939147e-02,\n           4.57194112e-02, 5.47773354e-02],\n          [1.70550331e-01, 3.06575328e-01, 1.98540270e-01,\n           1.46604612e-01, 3.25912893e-01],\n          ...,\n          [1.89688010e-03, 1.61999881e-01, 7.76138902e-02,\n           3.30749184e-01, 3.19378227e-01],\n          [1.08382508e-01, 3.22321326e-01, 2.15834871e-01,\n           2.79316306e-01, 1.06748395e-01],\n          [7.65761063e-02, 9.40142944e-02, 9.92002487e-02,\n           1.62820429e-01, 1.41671643e-01]],\n \n         [[3.54084551e-01, 7.63212383e-01, 6.94082797e-01,\n           6.75811172e-01, 1.64325893e-01],\n          [4.26688910e-01, 1.64687857e-02, 2.33687997e-01,\n           1.08254664e-01, 1.29702061e-01],\n          [4.03829992e-01, 7.25910723e-01, 4.70104724e-01,\n           3.47131193e-01, 7.71698356e-01],\n          ...,\n          [4.49144281e-03, 3.83584201e-01, 1.83774590e-01,\n           7.83149719e-01, 7.56225526e-01],\n          [2.56628692e-01, 7.63194203e-01, 5.11054993e-01,\n           6.61366642e-01, 2.52759427e-01],\n          [1.81317315e-01, 2.22607568e-01, 2.34886885e-01,\n           3.85527074e-01, 3.35450888e-01]]],\n \n \n        [[[3.84072065e-02, 8.27848986e-02, 7.52864778e-02,\n           7.33045787e-02, 1.78242680e-02],\n          [4.62825298e-02, 1.78635307e-03, 2.53479071e-02,\n           1.17422780e-02, 1.40686557e-02],\n          [4.38030437e-02, 7.87388235e-02, 5.09917960e-02,\n           3.76529805e-02, 8.37053582e-02],\n          ...,\n          [4.87182406e-04, 4.16070037e-02, 1.99338496e-02,\n           8.49474818e-02, 8.20270404e-02],\n          [2.78362632e-02, 8.27829242e-02, 5.54336347e-02,\n           7.17377961e-02, 2.74165664e-02],\n          [1.96673125e-02, 2.41460241e-02, 2.54779495e-02,\n           4.18177433e-02, 3.63860279e-02]],\n \n         [[4.05587584e-01, 8.74224722e-01, 7.95039952e-01,\n           7.74110675e-01, 1.88227758e-01],\n          [4.88752544e-01, 1.88642368e-02, 2.67678857e-01,\n           1.24000750e-01, 1.48567766e-01],\n          [4.62568730e-01, 8.31497371e-01, 5.38483322e-01,\n           3.97622824e-01, 8.83944988e-01],\n          ...,\n          [5.14474139e-03, 4.39378083e-01, 2.10505351e-01,\n           8.97062063e-01, 8.66221547e-01],\n          [2.93956369e-01, 8.74203861e-01, 5.85390031e-01,\n           7.57565141e-01, 2.89524317e-01],\n          [2.07690656e-01, 2.54986733e-01, 2.69052118e-01,\n           4.41603571e-01, 3.84243578e-01]],\n \n         [[9.98806655e-02, 2.15288013e-01, 1.95787832e-01,\n           1.90633759e-01, 4.63532768e-02],\n          [1.20361000e-01, 4.64553805e-03, 6.59190342e-02,\n           3.05366274e-02, 3.65865380e-02],\n          [1.13912933e-01, 2.04765916e-01, 1.32607788e-01,\n           9.79192480e-02, 2.17681736e-01],\n          ...,\n          [1.26695249e-03, 1.08201966e-01, 5.18393926e-02,\n           2.20911965e-01, 2.13317141e-01],\n          [7.23901764e-02, 2.15282872e-01, 1.44159108e-01,\n           1.86559230e-01, 7.12987334e-02],\n          [5.11462428e-02, 6.27934486e-02, 6.62572160e-02,\n           1.08750015e-01, 9.46244523e-02]],\n \n         ...,\n \n         [[1.80538729e-01, 3.89142632e-01, 3.53895187e-01,\n           3.44578952e-01, 8.37856010e-02],\n          [2.17557847e-01, 8.39701574e-03, 1.19151570e-01,\n           5.51963039e-02, 6.61317930e-02],\n          [2.05902666e-01, 3.70123446e-01, 2.39694446e-01,\n           1.76993370e-01, 3.93469393e-01],\n          ...,\n          [2.29007262e-03, 1.95579842e-01, 9.37020034e-02,\n           3.99308175e-01, 3.85580182e-01],\n          [1.30848452e-01, 3.89133334e-01, 2.60573953e-01,\n           3.37214053e-01, 1.28875613e-01],\n          [9.24490988e-02, 1.13501944e-01, 1.19762853e-01,\n           1.96570471e-01, 1.71037883e-01]],\n \n         [[3.61685245e-03, 7.79595319e-03, 7.08981790e-03,\n           6.90317946e-03, 1.67853269e-03],\n          [4.35848115e-03, 1.68223007e-04, 2.38704286e-03,\n           1.10578432e-03, 1.32486224e-03],\n          [4.12498508e-03, 7.41492957e-03, 4.80195880e-03,\n           3.54582607e-03, 7.88263418e-03],\n          ...,\n          [4.58785507e-05, 3.91818117e-03, 1.87719462e-03,\n           7.99960643e-03, 7.72458455e-03],\n          [2.62137433e-03, 7.79576739e-03, 5.22025162e-03,\n           6.75563375e-03, 2.58185086e-03],\n          [1.85209431e-03, 2.27385992e-03, 2.39928905e-03,\n           3.93802719e-03, 3.42651573e-03]],\n \n         [[1.06223589e-02, 2.28959899e-02, 2.08221357e-02,\n           2.02739965e-02, 4.92969435e-03],\n          [1.28004532e-02, 4.94055334e-04, 7.01052276e-03,\n           3.24758561e-03, 3.89099703e-03],\n          [1.21146981e-02, 2.17769574e-02, 1.41029060e-02,\n           1.04137613e-02, 2.31505632e-02],\n          ...,\n          [1.34741029e-04, 1.15073342e-02, 5.51314559e-03,\n           2.34940983e-02, 2.26863865e-02],\n          [7.69873196e-03, 2.28954423e-02, 1.53313931e-02,\n           1.98406689e-02, 7.58265611e-03],\n          [5.43942861e-03, 6.67811511e-03, 7.04648858e-03,\n           1.15656191e-02, 1.00633577e-02]]],\n \n \n        [[[2.38747835e-01, 5.14609575e-01, 4.67997700e-01,\n           4.55677748e-01, 1.10799663e-01],\n          [2.87702620e-01, 1.11043723e-02, 1.57568306e-01,\n           7.29926378e-02, 8.74539316e-02],\n          [2.72289574e-01, 4.89458263e-01, 3.16976488e-01,\n           2.34059393e-01, 5.20331383e-01],\n          ...,\n          [3.02843540e-03, 2.58638501e-01, 1.23913303e-01,\n           5.28052688e-01, 5.09898543e-01],\n          [1.73036471e-01, 5.14597297e-01, 3.44587952e-01,\n           4.45938259e-01, 1.70427546e-01],\n          [1.22256435e-01, 1.50097117e-01, 1.58376664e-01,\n           2.59948522e-01, 2.26183742e-01]],\n \n         [[1.61240980e-01, 3.47547263e-01, 3.16067427e-01,\n           3.07747006e-01, 7.48297796e-02],\n          [1.94303140e-01, 7.49946060e-03, 1.06415495e-01,\n           4.92963865e-02, 5.90629801e-02],\n          [1.83893785e-01, 3.30561042e-01, 2.14073569e-01,\n           1.58074602e-01, 3.51411551e-01],\n          ...,\n          [2.04528729e-03, 1.74674362e-01, 8.36862177e-02,\n           3.56626213e-01, 3.44365597e-01],\n          [1.16862096e-01, 3.47538978e-01, 2.32721284e-01,\n           3.01169336e-01, 1.15100130e-01],\n          [8.25672373e-02, 1.01369746e-01, 1.06961437e-01,\n           1.75559103e-01, 1.52755693e-01]],\n \n         [[2.29653493e-01, 4.95007157e-01, 4.50170815e-01,\n           4.38320160e-01, 1.06579103e-01],\n          [2.76743501e-01, 1.06813870e-02, 1.51566237e-01,\n           7.02122152e-02, 8.41226503e-02],\n          [2.61917591e-01, 4.70813900e-01, 3.04902285e-01,\n           2.25143641e-01, 5.00510991e-01],\n          ...,\n          [2.91307690e-03, 2.48786479e-01, 1.19193219e-01,\n           5.07938206e-01, 4.90475565e-01],\n          [1.66445211e-01, 4.94995356e-01, 3.31461966e-01,\n           4.28951681e-01, 1.63935661e-01],\n          [1.17599465e-01, 1.44379646e-01, 1.52343810e-01,\n           2.50046611e-01, 2.17567980e-01]],\n \n         ...,\n \n         [[3.77058238e-01, 8.12731087e-01, 7.39116192e-01,\n           7.19659090e-01, 1.74987674e-01],\n          [4.54373300e-01, 1.75373107e-02, 2.48850107e-01,\n           1.15278438e-01, 1.38117388e-01],\n          [4.30031270e-01, 7.73009181e-01, 5.00606000e-01,\n           3.69653702e-01, 8.21767569e-01],\n          ...,\n          [4.78285644e-03, 4.08471882e-01, 1.95698246e-01,\n           8.33961964e-01, 8.05290818e-01],\n          [2.73279250e-01, 8.12711656e-01, 5.44213235e-01,\n           7.04277396e-01, 2.69158930e-01],\n          [1.93081528e-01, 2.37050757e-01, 2.50126779e-01,\n           4.10540819e-01, 3.57215554e-01]],\n \n         [[8.55630487e-02, 1.84427083e-01, 1.67722195e-01,\n           1.63306937e-01, 3.97086628e-02],\n          [1.03107587e-01, 3.97961307e-03, 5.64697236e-02,\n           2.61592865e-02, 3.13419625e-02],\n          [9.75838304e-02, 1.75413281e-01, 1.13598838e-01,\n           8.38827938e-02, 1.86477676e-01],\n          ...,\n          [1.08533842e-03, 9.26915184e-02, 4.44083624e-02,\n           1.89244851e-01, 1.82738721e-01],\n          [6.20132498e-02, 1.84422672e-01, 1.23494297e-01,\n           1.59816489e-01, 6.10782579e-02],\n          [4.38145697e-02, 5.37921861e-02, 5.67594320e-02,\n           9.31610018e-02, 8.10602978e-02]],\n \n         [[2.59557128e-01, 5.59463024e-01, 5.08788466e-01,\n           4.95394677e-01, 1.20456979e-01],\n          [3.12778831e-01, 1.20722316e-02, 1.71301976e-01,\n           7.93546885e-02, 9.50764343e-02],\n          [2.96022385e-01, 5.32119513e-01, 3.44604224e-01,\n           2.54460037e-01, 5.65683544e-01],\n          ...,\n          [3.29239434e-03, 2.81181455e-01, 1.34713605e-01,\n           5.74077845e-01, 5.54341376e-01],\n          [1.88118368e-01, 5.59449673e-01, 3.74622285e-01,\n           4.84806329e-01, 1.85282037e-01],\n          [1.32912323e-01, 1.63179606e-01, 1.72180802e-01,\n           2.82605678e-01, 2.45897949e-01]]],\n \n \n        [[[3.90435696e-01, 8.41565549e-01, 7.65338898e-01,\n           7.45191514e-01, 1.81195959e-01],\n          [4.70493793e-01, 1.81595087e-02, 2.57678926e-01,\n           1.19368337e-01, 1.43017575e-01],\n          [4.45288122e-01, 8.00434411e-01, 5.18366754e-01,\n           3.82768482e-01, 8.50922644e-01],\n          ...,\n          [4.95254481e-03, 4.22963828e-01, 2.02641323e-01,\n           8.63549709e-01, 8.33861351e-01],\n          [2.82974780e-01, 8.41545463e-01, 5.63521087e-01,\n           7.29264081e-01, 2.78708279e-01],\n          [1.99931771e-01, 2.45460972e-01, 2.59000897e-01,\n           4.25106168e-01, 3.69889021e-01]],\n \n         [[6.65880069e-02, 1.43527284e-01, 1.30526990e-01,\n           1.27090886e-01, 3.09026018e-02],\n          [8.02417547e-02, 3.09706712e-03, 4.39466164e-02,\n           2.03580260e-02, 2.43913569e-02],\n          [7.59429783e-02, 1.36512458e-01, 8.84063914e-02,\n           6.52803779e-02, 1.45123124e-01],\n          ...,\n          [8.44646362e-04, 7.21356198e-02, 3.45600620e-02,\n           1.47276640e-01, 1.42213345e-01],\n          [4.82607707e-02, 1.43523857e-01, 9.61073712e-02,\n           1.24374501e-01, 4.75331284e-02],\n          [3.40979546e-02, 4.18628678e-02, 4.41720746e-02,\n           7.25009888e-02, 6.30838200e-02]],\n \n         [[1.46372378e-01, 3.15498680e-01, 2.86921710e-01,\n           2.79368550e-01, 6.79294541e-02],\n          [1.76385745e-01, 6.80790842e-03, 9.66025367e-02,\n           4.47505899e-02, 5.36165684e-02],\n          [1.66936278e-01, 3.00078809e-01, 1.94333076e-01,\n           1.43497974e-01, 3.19006622e-01],\n          ...,\n          [1.85668410e-03, 1.58567011e-01, 7.59692118e-02,\n           3.23740423e-01, 3.12610418e-01],\n          [1.06085822e-01, 3.15491140e-01, 2.11261213e-01,\n           2.73397416e-01, 1.04486331e-01],\n          [7.49534145e-02, 9.20220762e-02, 9.70981345e-02,\n           1.59370169e-01, 1.38669536e-01]],\n \n         ...,\n \n         [[2.49380425e-01, 5.37527621e-01, 4.88839895e-01,\n           4.75971252e-01, 1.15734108e-01],\n          [3.00515383e-01, 1.15989037e-02, 1.64585575e-01,\n           7.62433559e-02, 9.13486779e-02],\n          [2.84415960e-01, 5.11256218e-01, 3.31092983e-01,\n           2.44483188e-01, 5.43504238e-01],\n          ...,\n          [3.16330628e-03, 2.70156920e-01, 1.29431754e-01,\n           5.51569402e-01, 5.32606781e-01],\n          [1.80742621e-01, 5.37514806e-01, 3.59934092e-01,\n           4.65798050e-01, 1.78017512e-01],\n          [1.27701104e-01, 1.56781673e-01, 1.65429950e-01,\n           2.71525264e-01, 2.36256778e-01]],\n \n         [[1.78322881e-01, 3.84366482e-01, 3.49551678e-01,\n           3.40349764e-01, 8.27572569e-02],\n          [2.14887649e-01, 8.29395466e-03, 1.17689170e-01,\n           5.45188561e-02, 6.53201267e-02],\n          [2.03375533e-01, 3.65580738e-01, 2.36752570e-01,\n           1.74821049e-01, 3.88640136e-01],\n          ...,\n          [2.26196554e-03, 1.93179399e-01, 9.25519541e-02,\n           3.94407272e-01, 3.80847782e-01],\n          [1.29242495e-01, 3.84357333e-01, 2.57375807e-01,\n           3.33075285e-01, 1.27293855e-01],\n          [9.13144276e-02, 1.12108879e-01, 1.18292950e-01,\n           1.94157869e-01, 1.68938652e-01]],\n \n         [[1.74479246e-01, 3.76081705e-01, 3.42017293e-01,\n           3.33013743e-01, 8.09734762e-02],\n          [2.10255876e-01, 8.11518356e-03, 1.15152448e-01,\n           5.33437319e-02, 6.39121830e-02],\n          [1.98991880e-01, 3.57700855e-01, 2.31649503e-01,\n           1.71052888e-01, 3.80263239e-01],\n          ...,\n          [2.21321010e-03, 1.89015538e-01, 9.05570462e-02,\n           3.85906041e-01, 3.72638822e-01],\n          [1.26456738e-01, 3.76072705e-01, 2.51828223e-01,\n           3.25896025e-01, 1.24550112e-01],\n          [8.93461928e-02, 1.09692439e-01, 1.15743212e-01,\n           1.89972907e-01, 1.65297285e-01]]]], dtype=float32)>,\n <tf.Tensor: shape=(300, 5, 5, 300), dtype=float32, numpy=\n array([[[[4.17400777e-01, 5.02988040e-01, 4.76041555e-01, ...,\n           5.29458793e-03, 3.02518189e-01, 2.13739887e-01],\n          [8.99687529e-01, 1.94136798e-02, 8.55715692e-01, ...,\n           4.52175468e-01, 8.99666071e-01, 2.62413502e-01],\n          [8.18196356e-01, 2.75475323e-01, 5.54167271e-01, ...,\n           2.16636568e-01, 6.02440178e-01, 2.76888579e-01],\n          [7.96657503e-01, 1.27612412e-01, 4.09204036e-01, ...,\n           9.23189998e-01, 7.79630065e-01, 4.54465747e-01],\n          [1.93710104e-01, 1.52894959e-01, 9.09690857e-01, ...,\n           8.91451240e-01, 2.97957033e-01, 3.95435095e-01]],\n \n         [[4.32144776e-02, 5.20755239e-02, 4.92856950e-02, ...,\n           5.48161042e-04, 3.13204154e-02, 2.21289899e-02],\n          [9.31467488e-02, 2.00994359e-03, 8.85942429e-02, ...,\n           4.68147844e-02, 9.31445286e-02, 2.71682832e-02],\n          [8.47097859e-02, 2.85206027e-02, 5.73742352e-02, ...,\n           2.24288888e-02, 6.23720363e-02, 2.86669210e-02],\n          [8.24798122e-02, 1.32120112e-02, 4.23658490e-02, ...,\n           9.55800191e-02, 8.07169229e-02, 4.70519029e-02],\n          [2.00552605e-02, 1.58295725e-02, 9.41824242e-02, ...,\n           9.22940299e-02, 3.08481865e-02, 4.09403183e-02]],\n \n         [[3.84072065e-02, 4.62825298e-02, 4.38030437e-02, ...,\n           4.87182406e-04, 2.78362632e-02, 1.96673125e-02],\n          [8.27848986e-02, 1.78635307e-03, 7.87388235e-02, ...,\n           4.16070037e-02, 8.27829242e-02, 2.41460241e-02],\n          [7.52864778e-02, 2.53479071e-02, 5.09917960e-02, ...,\n           1.99338496e-02, 5.54336347e-02, 2.54779495e-02],\n          [7.33045787e-02, 1.17422780e-02, 3.76529805e-02, ...,\n           8.49474818e-02, 7.17377961e-02, 4.18177433e-02],\n          [1.78242680e-02, 1.40686557e-02, 8.37053582e-02, ...,\n           8.20270404e-02, 2.74165664e-02, 3.63860279e-02]],\n \n         [[2.38747835e-01, 2.87702620e-01, 2.72289574e-01, ...,\n           3.02843540e-03, 1.73036471e-01, 1.22256435e-01],\n          [5.14609575e-01, 1.11043723e-02, 4.89458263e-01, ...,\n           2.58638501e-01, 5.14597297e-01, 1.50097117e-01],\n          [4.67997700e-01, 1.57568306e-01, 3.16976488e-01, ...,\n           1.23913303e-01, 3.44587952e-01, 1.58376664e-01],\n          [4.55677748e-01, 7.29926378e-02, 2.34059393e-01, ...,\n           5.28052688e-01, 4.45938259e-01, 2.59948522e-01],\n          [1.10799663e-01, 8.74539316e-02, 5.20331383e-01, ...,\n           5.09898543e-01, 1.70427546e-01, 2.26183742e-01]],\n \n         [[3.90435696e-01, 4.70493793e-01, 4.45288122e-01, ...,\n           4.95254481e-03, 2.82974780e-01, 1.99931771e-01],\n          [8.41565549e-01, 1.81595087e-02, 8.00434411e-01, ...,\n           4.22963828e-01, 8.41545463e-01, 2.45460972e-01],\n          [7.65338898e-01, 2.57678926e-01, 5.18366754e-01, ...,\n           2.02641323e-01, 5.63521087e-01, 2.59000897e-01],\n          [7.45191514e-01, 1.19368337e-01, 3.82768482e-01, ...,\n           8.63549709e-01, 7.29264081e-01, 4.25106168e-01],\n          [1.81195959e-01, 1.43017575e-01, 8.50922644e-01, ...,\n           8.33861351e-01, 2.78708279e-01, 3.69889021e-01]]],\n \n \n        [[[7.32098613e-03, 8.82214028e-03, 8.34951364e-03, ...,\n           9.28642330e-05, 5.30600687e-03, 3.74888303e-03],\n          [1.57800373e-02, 3.40505532e-04, 1.50087951e-02, ...,\n           7.93091580e-03, 1.57796610e-02, 4.60259244e-03],\n          [1.43507263e-02, 4.83168941e-03, 9.71979741e-03, ...,\n           3.79968924e-03, 1.05664777e-02, 4.85647749e-03],\n          [1.39729455e-02, 2.23825336e-03, 7.17721973e-03, ...,\n           1.61922574e-02, 1.36742936e-02, 7.97108561e-03],\n          [3.39757139e-03, 2.68169586e-03, 1.59554910e-02, ...,\n           1.56355780e-02, 5.22600673e-03, 6.93571987e-03]],\n \n         [[1.07803587e-02, 1.29908500e-02, 1.22948941e-02, ...,\n           1.36745206e-04, 7.81324506e-03, 5.52033586e-03],\n          [2.32365504e-02, 5.01403993e-04, 2.21008733e-02, ...,\n           1.16784964e-02, 2.32359953e-02, 6.77744718e-03],\n          [2.11318489e-02, 7.11479876e-03, 1.43126752e-02, ...,\n           5.59514947e-03, 1.55594358e-02, 7.15129962e-03],\n          [2.05755569e-02, 3.29589099e-03, 1.05686579e-02, ...,\n           2.38435566e-02, 2.01357827e-02, 1.17376484e-02],\n          [5.00301970e-03, 3.94887244e-03, 2.34949104e-02, ...,\n           2.30238289e-02, 7.69544207e-03, 1.02130426e-02]],\n \n         [[4.05587584e-01, 4.88752544e-01, 4.62568730e-01, ...,\n           5.14474139e-03, 2.93956369e-01, 2.07690656e-01],\n          [8.74224722e-01, 1.88642368e-02, 8.31497371e-01, ...,\n           4.39378083e-01, 8.74203861e-01, 2.54986733e-01],\n          [7.95039952e-01, 2.67678857e-01, 5.38483322e-01, ...,\n           2.10505351e-01, 5.85390031e-01, 2.69052118e-01],\n          [7.74110675e-01, 1.24000750e-01, 3.97622824e-01, ...,\n           8.97062063e-01, 7.57565141e-01, 4.41603571e-01],\n          [1.88227758e-01, 1.48567766e-01, 8.83944988e-01, ...,\n           8.66221547e-01, 2.89524317e-01, 3.84243578e-01]],\n \n         [[1.61240980e-01, 1.94303140e-01, 1.83893785e-01, ...,\n           2.04528729e-03, 1.16862096e-01, 8.25672373e-02],\n          [3.47547263e-01, 7.49946060e-03, 3.30561042e-01, ...,\n           1.74674362e-01, 3.47538978e-01, 1.01369746e-01],\n          [3.16067427e-01, 1.06415495e-01, 2.14073569e-01, ...,\n           8.36862177e-02, 2.32721284e-01, 1.06961437e-01],\n          [3.07747006e-01, 4.92963865e-02, 1.58074602e-01, ...,\n           3.56626213e-01, 3.01169336e-01, 1.75559103e-01],\n          [7.48297796e-02, 5.90629801e-02, 3.51411551e-01, ...,\n           3.44365597e-01, 1.15100130e-01, 1.52755693e-01]],\n \n         [[6.65880069e-02, 8.02417547e-02, 7.59429783e-02, ...,\n           8.44646362e-04, 4.82607707e-02, 3.40979546e-02],\n          [1.43527284e-01, 3.09706712e-03, 1.36512458e-01, ...,\n           7.21356198e-02, 1.43523857e-01, 4.18628678e-02],\n          [1.30526990e-01, 4.39466164e-02, 8.84063914e-02, ...,\n           3.45600620e-02, 9.61073712e-02, 4.41720746e-02],\n          [1.27090886e-01, 2.03580260e-02, 6.52803779e-02, ...,\n           1.47276640e-01, 1.24374501e-01, 7.25009888e-02],\n          [3.09026018e-02, 2.43913569e-02, 1.45123124e-01, ...,\n           1.42213345e-01, 4.75331284e-02, 6.30838200e-02]]],\n \n \n        [[[1.37462825e-01, 1.65649310e-01, 1.56775013e-01, ...,\n           1.74366951e-03, 9.96284783e-02, 7.03910664e-02],\n          [2.96294570e-01, 6.39351737e-03, 2.81813294e-01, ...,\n           1.48915187e-01, 2.96287507e-01, 8.64207819e-02],\n          [2.69457042e-01, 9.07224268e-02, 1.82504207e-01, ...,\n           7.13450387e-02, 1.98401943e-01, 9.11878645e-02],\n          [2.62363642e-01, 4.20266613e-02, 1.34763390e-01, ...,\n           3.04034650e-01, 2.56755978e-01, 1.49669454e-01],\n          [6.37946501e-02, 5.03529795e-02, 2.99588978e-01, ...,\n           2.93582112e-01, 9.81263444e-02, 1.30228847e-01]],\n \n         [[2.05765769e-01, 2.47957647e-01, 2.34673873e-01, ...,\n           2.61006923e-03, 1.49132177e-01, 1.05367199e-01],\n          [4.43518341e-01, 9.57034808e-03, 4.21841562e-01, ...,\n           2.22908631e-01, 4.43507731e-01, 1.29361808e-01],\n          [4.03345704e-01, 1.35800868e-01, 2.73187459e-01, ...,\n           1.06795177e-01, 2.96984494e-01, 1.36497572e-01],\n          [3.92727673e-01, 6.29089996e-02, 2.01725021e-01, ...,\n           4.55104321e-01, 3.84333700e-01, 2.24037662e-01],\n          [9.54931378e-02, 7.53725246e-02, 4.48449671e-01, ...,\n           4.39458102e-01, 1.46883667e-01, 1.94937363e-01]],\n \n         [[9.98806655e-02, 1.20361000e-01, 1.13912933e-01, ...,\n           1.26695249e-03, 7.23901764e-02, 5.11462428e-02],\n          [2.15288013e-01, 4.64553805e-03, 2.04765916e-01, ...,\n           1.08201966e-01, 2.15282872e-01, 6.27934486e-02],\n          [1.95787832e-01, 6.59190342e-02, 1.32607788e-01, ...,\n           5.18393926e-02, 1.44159108e-01, 6.62572160e-02],\n          [1.90633759e-01, 3.05366274e-02, 9.79192480e-02, ...,\n           2.20911965e-01, 1.86559230e-01, 1.08750015e-01],\n          [4.63532768e-02, 3.65865380e-02, 2.17681736e-01, ...,\n           2.13317141e-01, 7.12987334e-02, 9.46244523e-02]],\n \n         [[2.29653493e-01, 2.76743501e-01, 2.61917591e-01, ...,\n           2.91307690e-03, 1.66445211e-01, 1.17599465e-01],\n          [4.95007157e-01, 1.06813870e-02, 4.70813900e-01, ...,\n           2.48786479e-01, 4.94995356e-01, 1.44379646e-01],\n          [4.50170815e-01, 1.51566237e-01, 3.04902285e-01, ...,\n           1.19193219e-01, 3.31461966e-01, 1.52343810e-01],\n          [4.38320160e-01, 7.02122152e-02, 2.25143641e-01, ...,\n           5.07938206e-01, 4.28951681e-01, 2.50046611e-01],\n          [1.06579103e-01, 8.41226503e-02, 5.00510991e-01, ...,\n           4.90475565e-01, 1.63935661e-01, 2.17567980e-01]],\n \n         [[1.46372378e-01, 1.76385745e-01, 1.66936278e-01, ...,\n           1.85668410e-03, 1.06085822e-01, 7.49534145e-02],\n          [3.15498680e-01, 6.80790842e-03, 3.00078809e-01, ...,\n           1.58567011e-01, 3.15491140e-01, 9.20220762e-02],\n          [2.86921710e-01, 9.66025367e-02, 1.94333076e-01, ...,\n           7.59692118e-02, 2.11261213e-01, 9.70981345e-02],\n          [2.79368550e-01, 4.47505899e-02, 1.43497974e-01, ...,\n           3.23740423e-01, 2.73397416e-01, 1.59370169e-01],\n          [6.79294541e-02, 5.36165684e-02, 3.19006622e-01, ...,\n           3.12610418e-01, 1.04486331e-01, 1.38669536e-01]]],\n \n \n        ...,\n \n \n        [[[2.92283505e-01, 3.52215707e-01, 3.33346516e-01, ...,\n           3.70751764e-03, 2.11837366e-01, 1.49670646e-01],\n          [6.30003214e-01, 1.35943647e-02, 5.99212050e-01, ...,\n           3.16634387e-01, 6.29988194e-01, 1.83754191e-01],\n          [5.72939336e-01, 1.92900673e-01, 3.88053805e-01, ...,\n           1.51699036e-01, 4.21856731e-01, 1.93890303e-01],\n          [5.57856798e-01, 8.93601701e-02, 2.86543757e-01, ...,\n           6.46460712e-01, 5.45933366e-01, 3.18238139e-01],\n          [1.35644853e-01, 1.07064188e-01, 6.37008011e-01, ...,\n           6.24235809e-01, 2.08643422e-01, 2.76902109e-01]],\n \n         [[4.19504106e-01, 5.05522609e-01, 4.78440374e-01, ...,\n           5.32126799e-03, 3.04042608e-01, 2.14816943e-01],\n          [9.04221117e-01, 1.95115060e-02, 8.60027730e-01, ...,\n           4.54454005e-01, 9.04199541e-01, 2.63735831e-01],\n          [8.22319329e-01, 2.76863456e-01, 5.56959808e-01, ...,\n           2.17728212e-01, 6.05475903e-01, 2.78283834e-01],\n          [8.00671935e-01, 1.28255457e-01, 4.11266059e-01, ...,\n           9.27842021e-01, 7.83558667e-01, 4.56755847e-01],\n          [1.94686234e-01, 1.53665408e-01, 9.14274871e-01, ...,\n           8.95943344e-01, 2.99458474e-01, 3.97427738e-01]],\n \n         [[1.80538729e-01, 2.17557847e-01, 2.05902666e-01, ...,\n           2.29007262e-03, 1.30848452e-01, 9.24490988e-02],\n          [3.89142632e-01, 8.39701574e-03, 3.70123446e-01, ...,\n           1.95579842e-01, 3.89133334e-01, 1.13501944e-01],\n          [3.53895187e-01, 1.19151570e-01, 2.39694446e-01, ...,\n           9.37020034e-02, 2.60573953e-01, 1.19762853e-01],\n          [3.44578952e-01, 5.51963039e-02, 1.76993370e-01, ...,\n           3.99308175e-01, 3.37214053e-01, 1.96570471e-01],\n          [8.37856010e-02, 6.61317930e-02, 3.93469393e-01, ...,\n           3.85580182e-01, 1.28875613e-01, 1.71037883e-01]],\n \n         [[3.77058238e-01, 4.54373300e-01, 4.30031270e-01, ...,\n           4.78285644e-03, 2.73279250e-01, 1.93081528e-01],\n          [8.12731087e-01, 1.75373107e-02, 7.73009181e-01, ...,\n           4.08471882e-01, 8.12711656e-01, 2.37050757e-01],\n          [7.39116192e-01, 2.48850107e-01, 5.00606000e-01, ...,\n           1.95698246e-01, 5.44213235e-01, 2.50126779e-01],\n          [7.19659090e-01, 1.15278438e-01, 3.69653702e-01, ...,\n           8.33961964e-01, 7.04277396e-01, 4.10540819e-01],\n          [1.74987674e-01, 1.38117388e-01, 8.21767569e-01, ...,\n           8.05290818e-01, 2.69158930e-01, 3.57215554e-01]],\n \n         [[2.49380425e-01, 3.00515383e-01, 2.84415960e-01, ...,\n           3.16330628e-03, 1.80742621e-01, 1.27701104e-01],\n          [5.37527621e-01, 1.15989037e-02, 5.11256218e-01, ...,\n           2.70156920e-01, 5.37514806e-01, 1.56781673e-01],\n          [4.88839895e-01, 1.64585575e-01, 3.31092983e-01, ...,\n           1.29431754e-01, 3.59934092e-01, 1.65429950e-01],\n          [4.75971252e-01, 7.62433559e-02, 2.44483188e-01, ...,\n           5.51569402e-01, 4.65798050e-01, 2.71525264e-01],\n          [1.15734108e-01, 9.13486779e-02, 5.43504238e-01, ...,\n           5.32606781e-01, 1.78017512e-01, 2.36256778e-01]]],\n \n \n        [[[3.34205866e-01, 4.02734131e-01, 3.81158531e-01, ...,\n           4.23928816e-03, 2.42221281e-01, 1.71137959e-01],\n          [7.20364809e-01, 1.55442096e-02, 6.85157299e-01, ...,\n           3.62049371e-01, 7.20347643e-01, 2.10110128e-01],\n          [6.55116200e-01, 2.20568493e-01, 4.43712503e-01, ...,\n           1.73457295e-01, 4.82363790e-01, 2.21700072e-01],\n          [6.37870371e-01, 1.02177128e-01, 3.27642858e-01, ...,\n           7.39182830e-01, 6.24236822e-01, 3.63883168e-01],\n          [1.55100450e-01, 1.22420453e-01, 7.28374362e-01, ...,\n           7.13770151e-01, 2.38569230e-01, 3.16618294e-01]],\n \n         [[1.49541244e-01, 1.80204391e-01, 1.70550331e-01, ...,\n           1.89688010e-03, 1.08382508e-01, 7.65761063e-02],\n          [3.22329015e-01, 6.95529534e-03, 3.06575328e-01, ...,\n           1.61999881e-01, 3.22321326e-01, 9.40142944e-02],\n          [2.93133378e-01, 9.86939147e-02, 1.98540270e-01, ...,\n           7.76138902e-02, 2.15834871e-01, 9.92002487e-02],\n          [2.85416692e-01, 4.57194112e-02, 1.46604612e-01, ...,\n           3.30749184e-01, 2.79316306e-01, 1.62820429e-01],\n          [6.94000795e-02, 5.47773354e-02, 3.25912893e-01, ...,\n           3.19378227e-01, 1.06748395e-01, 1.41671643e-01]],\n \n         [[3.61685245e-03, 4.35848115e-03, 4.12498508e-03, ...,\n           4.58785507e-05, 2.62137433e-03, 1.85209431e-03],\n          [7.79595319e-03, 1.68223007e-04, 7.41492957e-03, ...,\n           3.91818117e-03, 7.79576739e-03, 2.27385992e-03],\n          [7.08981790e-03, 2.38704286e-03, 4.80195880e-03, ...,\n           1.87719462e-03, 5.22025162e-03, 2.39928905e-03],\n          [6.90317946e-03, 1.10578432e-03, 3.54582607e-03, ...,\n           7.99960643e-03, 6.75563375e-03, 3.93802719e-03],\n          [1.67853269e-03, 1.32486224e-03, 7.88263418e-03, ...,\n           7.72458455e-03, 2.58185086e-03, 3.42651573e-03]],\n \n         [[8.55630487e-02, 1.03107587e-01, 9.75838304e-02, ...,\n           1.08533842e-03, 6.20132498e-02, 4.38145697e-02],\n          [1.84427083e-01, 3.97961307e-03, 1.75413281e-01, ...,\n           9.26915184e-02, 1.84422672e-01, 5.37921861e-02],\n          [1.67722195e-01, 5.64697236e-02, 1.13598838e-01, ...,\n           4.44083624e-02, 1.23494297e-01, 5.67594320e-02],\n          [1.63306937e-01, 2.61592865e-02, 8.38827938e-02, ...,\n           1.89244851e-01, 1.59816489e-01, 9.31610018e-02],\n          [3.97086628e-02, 3.13419625e-02, 1.86477676e-01, ...,\n           1.82738721e-01, 6.10782579e-02, 8.10602978e-02]],\n \n         [[1.78322881e-01, 2.14887649e-01, 2.03375533e-01, ...,\n           2.26196554e-03, 1.29242495e-01, 9.13144276e-02],\n          [3.84366482e-01, 8.29395466e-03, 3.65580738e-01, ...,\n           1.93179399e-01, 3.84357333e-01, 1.12108879e-01],\n          [3.49551678e-01, 1.17689170e-01, 2.36752570e-01, ...,\n           9.25519541e-02, 2.57375807e-01, 1.18292950e-01],\n          [3.40349764e-01, 5.45188561e-02, 1.74821049e-01, ...,\n           3.94407272e-01, 3.33075285e-01, 1.94157869e-01],\n          [8.27572569e-02, 6.53201267e-02, 3.88640136e-01, ...,\n           3.80847782e-01, 1.27293855e-01, 1.68938652e-01]]],\n \n \n        [[[8.76587331e-02, 1.05632991e-01, 9.99739394e-02, ...,\n           1.11192139e-03, 6.35321364e-02, 4.48877178e-02],\n          [1.88944235e-01, 4.07708529e-03, 1.79709673e-01, ...,\n           9.49617997e-02, 1.88939720e-01, 5.51097095e-02],\n          [1.71830207e-01, 5.78528307e-02, 1.16381198e-01, ...,\n           4.54960503e-02, 1.26519024e-01, 5.81496321e-02],\n          [1.67306796e-01, 2.68000029e-02, 8.59373286e-02, ...,\n           1.93880007e-01, 1.63730845e-01, 9.54427868e-02],\n          [4.06812429e-02, 3.21096182e-02, 1.91045046e-01, ...,\n           1.87214524e-01, 6.25742376e-02, 8.30456987e-02]],\n \n         [[3.54084551e-01, 4.26688910e-01, 4.03829992e-01, ...,\n           4.49144281e-03, 2.56628692e-01, 1.81317315e-01],\n          [7.63212383e-01, 1.64687857e-02, 7.25910723e-01, ...,\n           3.83584201e-01, 7.63194203e-01, 2.22607568e-01],\n          [6.94082797e-01, 2.33687997e-01, 4.70104724e-01, ...,\n           1.83774590e-01, 5.11054993e-01, 2.34886885e-01],\n          [6.75811172e-01, 1.08254664e-01, 3.47131193e-01, ...,\n           7.83149719e-01, 6.61366642e-01, 3.85527074e-01],\n          [1.64325893e-01, 1.29702061e-01, 7.71698356e-01, ...,\n           7.56225526e-01, 2.52759427e-01, 3.35450888e-01]],\n \n         [[1.06223589e-02, 1.28004532e-02, 1.21146981e-02, ...,\n           1.34741029e-04, 7.69873196e-03, 5.43942861e-03],\n          [2.28959899e-02, 4.94055334e-04, 2.17769574e-02, ...,\n           1.15073342e-02, 2.28954423e-02, 6.67811511e-03],\n          [2.08221357e-02, 7.01052276e-03, 1.41029060e-02, ...,\n           5.51314559e-03, 1.53313931e-02, 7.04648858e-03],\n          [2.02739965e-02, 3.24758561e-03, 1.04137613e-02, ...,\n           2.34940983e-02, 1.98406689e-02, 1.15656191e-02],\n          [4.92969435e-03, 3.89099703e-03, 2.31505632e-02, ...,\n           2.26863865e-02, 7.58265611e-03, 1.00633577e-02]],\n \n         [[2.59557128e-01, 3.12778831e-01, 2.96022385e-01, ...,\n           3.29239434e-03, 1.88118368e-01, 1.32912323e-01],\n          [5.59463024e-01, 1.20722316e-02, 5.32119513e-01, ...,\n           2.81181455e-01, 5.59449673e-01, 1.63179606e-01],\n          [5.08788466e-01, 1.71301976e-01, 3.44604224e-01, ...,\n           1.34713605e-01, 3.74622285e-01, 1.72180802e-01],\n          [4.95394677e-01, 7.93546885e-02, 2.54460037e-01, ...,\n           5.74077845e-01, 4.84806329e-01, 2.82605678e-01],\n          [1.20456979e-01, 9.50764343e-02, 5.65683544e-01, ...,\n           5.54341376e-01, 1.85282037e-01, 2.45897949e-01]],\n \n         [[1.74479246e-01, 2.10255876e-01, 1.98991880e-01, ...,\n           2.21321010e-03, 1.26456738e-01, 8.93461928e-02],\n          [3.76081705e-01, 8.11518356e-03, 3.57700855e-01, ...,\n           1.89015538e-01, 3.76072705e-01, 1.09692439e-01],\n          [3.42017293e-01, 1.15152448e-01, 2.31649503e-01, ...,\n           9.05570462e-02, 2.51828223e-01, 1.15743212e-01],\n          [3.33013743e-01, 5.33437319e-02, 1.71052888e-01, ...,\n           3.85906041e-01, 3.25896025e-01, 1.89972907e-01],\n          [8.09734762e-02, 6.39121830e-02, 3.80263239e-01, ...,\n           3.72638822e-01, 1.24550112e-01, 1.65297285e-01]]]],\n       dtype=float32)>)"
     },
     "execution_count": 211,
     "metadata": {},
     "output_type": "execute_result"
    }
   ],
   "source": [
    "# 5. Multiply the two tensors you created in 3 using dot product.\n",
    "tf.tensordot(a, tf.transpose(b), axes = 1), tf.tensordot(tf.transpose(a), b, axes = 1), tf.tensordot(a, tf.transpose(b), axes = 0), tf.tensordot(tf.transpose(a), b, axes = 0)"
   ],
   "metadata": {
    "collapsed": false,
    "pycharm": {
     "name": "#%%\n"
    }
   }
  },
  {
   "cell_type": "code",
   "execution_count": 212,
   "outputs": [
    {
     "data": {
      "text/plain": "<tf.Tensor: shape=(224, 224, 3), dtype=float32, numpy=\narray([[[0.14241445, 0.40161622, 0.33360183],\n        [0.6816542 , 0.69087017, 0.22069418],\n        [0.61336195, 0.9588975 , 0.3314948 ],\n        ...,\n        [0.21534526, 0.8758553 , 0.90849984],\n        [0.913136  , 0.3300879 , 0.21957576],\n        [0.294909  , 0.51060224, 0.41247094]],\n\n       [[0.24516141, 0.0526433 , 0.8009639 ],\n        [0.39559937, 0.91123044, 0.66148484],\n        [0.62018025, 0.13185847, 0.2584139 ],\n        ...,\n        [0.69155025, 0.35061288, 0.7918345 ],\n        [0.71887565, 0.13187587, 0.6776898 ],\n        [0.91522217, 0.72013485, 0.5736792 ]],\n\n       [[0.32997262, 0.01919758, 0.7673421 ],\n        [0.37867343, 0.09564745, 0.07906318],\n        [0.7100911 , 0.934427  , 0.5622425 ],\n        ...,\n        [0.8063401 , 0.53997624, 0.9590297 ],\n        [0.7728716 , 0.5758432 , 0.53311133],\n        [0.00398016, 0.15231979, 0.6468185 ]],\n\n       ...,\n\n       [[0.3400538 , 0.40921474, 0.04457414],\n        [0.8624321 , 0.9367907 , 0.839291  ],\n        [0.21796441, 0.61002827, 0.20527577],\n        ...,\n        [0.48761916, 0.46545267, 0.9492396 ],\n        [0.60848117, 0.4233297 , 0.92878056],\n        [0.5943769 , 0.86359346, 0.43811893]],\n\n       [[0.6843432 , 0.13533545, 0.83167446],\n        [0.21111202, 0.33052886, 0.7118019 ],\n        [0.66532993, 0.40470684, 0.20319033],\n        ...,\n        [0.07761109, 0.96958005, 0.61649036],\n        [0.8853055 , 0.2956084 , 0.08331525],\n        [0.5259522 , 0.40515542, 0.6414683 ]],\n\n       [[0.34870815, 0.7481811 , 0.77736974],\n        [0.62542915, 0.9978602 , 0.00938201],\n        [0.4835496 , 0.96025705, 0.02535343],\n        ...,\n        [0.8244965 , 0.39622104, 0.8123003 ],\n        [0.44511092, 0.6529583 , 0.57683337],\n        [0.15109932, 0.23112547, 0.38747323]]], dtype=float32)>"
     },
     "execution_count": 212,
     "metadata": {},
     "output_type": "execute_result"
    }
   ],
   "source": [
    "# 6. Create a tensor with random values between 0 and 1 with shape [224, 224, 3].\n",
    "tensor = tf.constant(tf.random.uniform(shape=[224, 224, 3]))\n",
    "tensor"
   ],
   "metadata": {
    "collapsed": false,
    "pycharm": {
     "name": "#%%\n"
    }
   }
  },
  {
   "cell_type": "code",
   "execution_count": 218,
   "outputs": [
    {
     "data": {
      "text/plain": "(<tf.Tensor: shape=(), dtype=float32, numpy=0.9999963>,\n <tf.Tensor: shape=(), dtype=float32, numpy=4.172325e-06>)"
     },
     "execution_count": 218,
     "metadata": {},
     "output_type": "execute_result"
    }
   ],
   "source": [
    "# 7. Find the min and max values of the tensor you created in 6 along the first axis.\n",
    "tf.reduce_max(tensor), tf.reduce_min(tensor)"
   ],
   "metadata": {
    "collapsed": false,
    "pycharm": {
     "name": "#%%\n"
    }
   }
  },
  {
   "cell_type": "code",
   "execution_count": 219,
   "outputs": [
    {
     "data": {
      "text/plain": "(TensorShape([1, 224, 224, 3]), TensorShape([224, 224, 3]))"
     },
     "execution_count": 219,
     "metadata": {},
     "output_type": "execute_result"
    }
   ],
   "source": [
    "# 8. Created a tensor with random values of shape [1, 224, 224, 3] then squeeze it to change the shape to [224, 224, 3].\n",
    "\n",
    "tensor = tf.constant(tf.random.uniform(shape=[1, 224, 224, 3]))\n",
    "tensor.shape, tf.squeeze(tensor).shape"
   ],
   "metadata": {
    "collapsed": false,
    "pycharm": {
     "name": "#%%\n"
    }
   }
  },
  {
   "cell_type": "code",
   "execution_count": 229,
   "outputs": [
    {
     "data": {
      "text/plain": "(TensorShape([10]), <tf.Tensor: shape=(), dtype=int64, numpy=9>)"
     },
     "execution_count": 229,
     "metadata": {},
     "output_type": "execute_result"
    }
   ],
   "source": [
    "# 9. Create a tensor with shape [10] using your own choice of values, then find the index which has the maximum value.\n",
    "tensor = tf.constant([0, 1, 2, 3, 4, 5, 6, 7, 8, 9])\n",
    "tensor.shape, tf.math.argmax(tensor)"
   ],
   "metadata": {
    "collapsed": false,
    "pycharm": {
     "name": "#%%\n"
    }
   }
  },
  {
   "cell_type": "code",
   "execution_count": 230,
   "outputs": [
    {
     "data": {
      "text/plain": "<tf.Tensor: shape=(10, 10), dtype=float32, numpy=\narray([[1., 0., 0., 0., 0., 0., 0., 0., 0., 0.],\n       [0., 1., 0., 0., 0., 0., 0., 0., 0., 0.],\n       [0., 0., 1., 0., 0., 0., 0., 0., 0., 0.],\n       [0., 0., 0., 1., 0., 0., 0., 0., 0., 0.],\n       [0., 0., 0., 0., 1., 0., 0., 0., 0., 0.],\n       [0., 0., 0., 0., 0., 1., 0., 0., 0., 0.],\n       [0., 0., 0., 0., 0., 0., 1., 0., 0., 0.],\n       [0., 0., 0., 0., 0., 0., 0., 1., 0., 0.],\n       [0., 0., 0., 0., 0., 0., 0., 0., 1., 0.],\n       [0., 0., 0., 0., 0., 0., 0., 0., 0., 1.]], dtype=float32)>"
     },
     "execution_count": 230,
     "metadata": {},
     "output_type": "execute_result"
    }
   ],
   "source": [
    "# 10. One-hot encode the tensor you created in 9.\n",
    "tf.one_hot(tensor, depth=10)"
   ],
   "metadata": {
    "collapsed": false,
    "pycharm": {
     "name": "#%%\n"
    }
   }
  },
  {
   "cell_type": "code",
   "execution_count": null,
   "outputs": [],
   "source": [],
   "metadata": {
    "collapsed": false,
    "pycharm": {
     "name": "#%%\n"
    }
   }
  }
 ],
 "metadata": {
  "kernelspec": {
   "display_name": "Python 3",
   "language": "python",
   "name": "python3"
  },
  "language_info": {
   "codemirror_mode": {
    "name": "ipython",
    "version": 2
   },
   "file_extension": ".py",
   "mimetype": "text/x-python",
   "name": "python",
   "nbconvert_exporter": "python",
   "pygments_lexer": "ipython2",
   "version": "2.7.6"
  }
 },
 "nbformat": 4,
 "nbformat_minor": 0
}